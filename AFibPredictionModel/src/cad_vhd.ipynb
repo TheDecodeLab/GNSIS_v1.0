{
 "cells": [
  {
   "cell_type": "code",
   "execution_count": 1,
   "metadata": {},
   "outputs": [],
   "source": [
    "import pandas as pd\n",
    "pd.options.display.float_format = '{:.3f}'.format\n",
    "%config IPCompleter.greedy=True"
   ]
  },
  {
   "cell_type": "code",
   "execution_count": 6,
   "metadata": {},
   "outputs": [],
   "source": [
    "data_master = pd.read_fwf('STROKE_STRICT_ALL_DXS.txt',header=None)\n",
    "cad_df = pd.read_excel('ICD_CAD_VHD.xlsx',sheet_name='IHD_CAD')\n",
    "vhd_df = pd.read_excel('ICD_CAD_VHD.xlsx',sheet_name='VHD_NONRHEUM')\n"
   ]
  },
  {
   "cell_type": "code",
   "execution_count": 9,
   "metadata": {},
   "outputs": [],
   "source": [
    "stroke_df = pd.read_excel('STROKE_STRICT_PROBLEM_LIST.xlsx', sheet_name='PROBLEM_LIST')\n",
    "admission_df = pd.read_excel('STROKE_STRICT_PROBLEM_LIST.xlsx', sheet_name='ADMISION_ENCS')\n",
    "geisinger_df = pd.read_excel('GNSIS_DATABASE_v7.5_6.25.2020.xlsx')"
   ]
  },
  {
   "cell_type": "code",
   "execution_count": 10,
   "metadata": {},
   "outputs": [
    {
     "name": "stdout",
     "output_type": "stream",
     "text": [
      "9243\n"
     ]
    }
   ],
   "source": [
    "data_master.columns = ['PT_ID','Dates','ENC_TYPE','ICD_CD','ICD_NM','CODE_SYSTEM','PRIMARY_YN'] \n",
    "data_master = data_master.iloc[2:]\n",
    "data_master = data_master.iloc[:-3]\n",
    "data_master[['INDEX_DT','ENC_DT']] = data_master['Dates'].str.split(expand=True) \n",
    "del data_master['Dates']\n",
    "print(data_master['PT_ID'].nunique())"
   ]
  },
  {
   "cell_type": "code",
   "execution_count": 11,
   "metadata": {},
   "outputs": [
    {
     "name": "stdout",
     "output_type": "stream",
     "text": [
      "8917\n",
      "16\n"
     ]
    }
   ],
   "source": [
    "stroke_df=stroke_df.rename(columns={'PROB_DT':'ENC_DT'})\n",
    "stroke_df['ENC_TYPE'] = 'IP ONLY'\n",
    "print(stroke_df['PT_ID'].nunique())\n",
    "print(admission_df['PT_ID'].nunique())"
   ]
  },
  {
   "cell_type": "code",
   "execution_count": 12,
   "metadata": {},
   "outputs": [],
   "source": [
    "data_master = data_master[['PT_ID','INDEX_DT','ENC_DT','ENC_TYPE','ICD_CD','ICD_NM']]\n",
    "admission_df = admission_df[['PT_ID','INDEX_DT','ENC_DT','ENC_TYPE','ICD_CD','ICD_NM']]"
   ]
  },
  {
   "cell_type": "code",
   "execution_count": 13,
   "metadata": {},
   "outputs": [],
   "source": [
    "data = data_master.append(stroke_df, ignore_index = True,sort=True) \n",
    "data = data.append(admission_df, ignore_index = True,sort=True) "
   ]
  },
  {
   "cell_type": "code",
   "execution_count": 14,
   "metadata": {},
   "outputs": [
    {
     "name": "stdout",
     "output_type": "stream",
     "text": [
      "9243\n",
      "8929\n",
      "8929\n"
     ]
    }
   ],
   "source": [
    "print(data['PT_ID'].nunique())\n",
    "df = pd.merge(geisinger_df['PT_ID'], data, on=['PT_ID'], how='inner')\n",
    "print(df['PT_ID'].nunique())\n",
    "print(geisinger_df['PT_ID'].nunique())"
   ]
  },
  {
   "cell_type": "code",
   "execution_count": 16,
   "metadata": {},
   "outputs": [
    {
     "name": "stdout",
     "output_type": "stream",
     "text": [
      "3867\n",
      "1679\n"
     ]
    }
   ],
   "source": [
    "df_cad = df[df['ICD_CD'].isin (cad_df.ICD_CODE)]\n",
    "df_vhd = df[df['ICD_CD'].isin (vhd_df.ICD_CODE)]\n",
    "print(df_cad['PT_ID'].nunique())\n",
    "print(df_vhd['PT_ID'].nunique())"
   ]
  },
  {
   "cell_type": "markdown",
   "metadata": {},
   "source": [
    "# Using rule of 2 (1 inpatient, 2 out patient contribute to 1)"
   ]
  },
  {
   "cell_type": "code",
   "execution_count": 20,
   "metadata": {},
   "outputs": [
    {
     "name": "stdout",
     "output_type": "stream",
     "text": [
      "CAD Only\n",
      "outPatient:  2378\n",
      "inPatient:  3680\n",
      "===================================================\n",
      "VHD only\n",
      "outPatient:  1093\n",
      "inPatient:  1509\n"
     ]
    },
    {
     "data": {
      "text/plain": [
       "PT_ID       object\n",
       "ENC_DT      object\n",
       "ENC_TYPE    object\n",
       "ICD_CD      object\n",
       "ICD_NM      object\n",
       "INDEX_DT    object\n",
       "dtype: object"
      ]
     },
     "execution_count": 20,
     "metadata": {},
     "output_type": "execute_result"
    }
   ],
   "source": [
    "df_cad_outPatient = df_cad[df_cad['ENC_TYPE'] == 'OUTPATIENT'].copy()\n",
    "df_cad_inPatient = df_cad[df_cad['ENC_TYPE'] != 'OUTPATIENT']\n",
    "print('CAD Only')\n",
    "print('outPatient: ',df_cad_outPatient['PT_ID'].nunique())\n",
    "print('inPatient: ',df_cad_inPatient['PT_ID'].nunique())\n",
    "\n",
    "print('===================================================')\n",
    "\n",
    "df_vhd_outPatient = df_vhd[df_vhd['ENC_TYPE'] == 'OUTPATIENT'].copy()\n",
    "df_vhd_inPatient = df_vhd[df_vhd['ENC_TYPE'] != 'OUTPATIENT']\n",
    "print('VHD only')\n",
    "print('outPatient: ',df_vhd_outPatient['PT_ID'].nunique())\n",
    "print('inPatient: ',df_vhd_inPatient['PT_ID'].nunique())\n",
    "\n",
    "df_vhd_outPatient.dtypes"
   ]
  },
  {
   "cell_type": "code",
   "execution_count": 21,
   "metadata": {},
   "outputs": [
    {
     "name": "stdout",
     "output_type": "stream",
     "text": [
      "1985\n"
     ]
    }
   ],
   "source": [
    "df_cad_outPatient = df_cad_outPatient.groupby('PT_ID')\n",
    "df_cad_outPatient = df_cad_outPatient.filter(lambda x: len(x) > 1)\n",
    "\n",
    "print(df_cad_outPatient['PT_ID'].nunique())\n",
    "df_cad_outPatient=df_cad_outPatient.sort_values(by=['PT_ID','ENC_DT'])\n",
    "testVal= df_cad_outPatient.groupby('PT_ID',as_index=False)['ENC_DT'].apply(lambda x: x.sort_values())\n",
    "df_cad_outPatient['ENC_DT'] = testVal.reset_index(level=0, drop=True)\n"
   ]
  },
  {
   "cell_type": "code",
   "execution_count": null,
   "metadata": {},
   "outputs": [],
   "source": [
    "df_cad_outPatient"
   ]
  },
  {
   "cell_type": "code",
   "execution_count": null,
   "metadata": {},
   "outputs": [],
   "source": [
    "df_cad_outPatient = df_cad_outPatient.groupby('PT_ID').apply(lambda x: x.tail(len(x)-1))\\\n",
    "        .reset_index(drop=True)"
   ]
  },
  {
   "cell_type": "code",
   "execution_count": 31,
   "metadata": {},
   "outputs": [
    {
     "name": "stdout",
     "output_type": "stream",
     "text": [
      "2662\n",
      "1345\n",
      "2718\n"
     ]
    },
    {
     "name": "stderr",
     "output_type": "stream",
     "text": [
      "c:\\users\\mobas\\appdata\\local\\programs\\python\\python37\\lib\\site-packages\\ipykernel_launcher.py:1: SettingWithCopyWarning: \n",
      "A value is trying to be set on a copy of a slice from a DataFrame.\n",
      "Try using .loc[row_indexer,col_indexer] = value instead\n",
      "\n",
      "See the caveats in the documentation: http://pandas.pydata.org/pandas-docs/stable/user_guide/indexing.html#returning-a-view-versus-a-copy\n",
      "  \"\"\"Entry point for launching an IPython kernel.\n",
      "c:\\users\\mobas\\appdata\\local\\programs\\python\\python37\\lib\\site-packages\\ipykernel_launcher.py:2: SettingWithCopyWarning: \n",
      "A value is trying to be set on a copy of a slice from a DataFrame.\n",
      "Try using .loc[row_indexer,col_indexer] = value instead\n",
      "\n",
      "See the caveats in the documentation: http://pandas.pydata.org/pandas-docs/stable/user_guide/indexing.html#returning-a-view-versus-a-copy\n",
      "  \n"
     ]
    }
   ],
   "source": [
    "df_cad_inPatient['INDEX_DT']=pd.to_datetime(df_cad_inPatient['INDEX_DT'])\n",
    "df_cad_inPatient['ENC_DT']=pd.to_datetime(df_cad_inPatient['ENC_DT'])\n",
    "cad_inPatient_at_index = df_cad_inPatient[df_cad_inPatient['INDEX_DT']>= df_cad_inPatient['ENC_DT']].copy()\n",
    "\n",
    "df_cad_outPatient['INDEX_DT']=pd.to_datetime(df_cad_outPatient['INDEX_DT'])\n",
    "df_cad_outPatient['ENC_DT']=pd.to_datetime(df_cad_outPatient['ENC_DT'])\n",
    "\n",
    "cad_outPatient_at_index = df_cad_outPatient[df_cad_outPatient['INDEX_DT']>= df_cad_outPatient['ENC_DT']].copy()\n",
    "cad_patient_at_index = cad_inPatient_at_index.append(cad_outPatient_at_index)\n",
    "print(cad_inPatient_at_index['PT_ID'].nunique())\n",
    "print(cad_outPatient_at_index['PT_ID'].nunique())\n",
    "print(cad_patient_at_index['PT_ID'].nunique())"
   ]
  },
  {
   "cell_type": "code",
   "execution_count": null,
   "metadata": {},
   "outputs": [],
   "source": []
  },
  {
   "cell_type": "code",
   "execution_count": 32,
   "metadata": {},
   "outputs": [
    {
     "name": "stdout",
     "output_type": "stream",
     "text": [
      "843\n"
     ]
    }
   ],
   "source": [
    "df_vhd_outPatient = df_vhd_outPatient.groupby('PT_ID')\n",
    "df_vhd_outPatient = df_vhd_outPatient.filter(lambda x: len(x) > 1)\n",
    "\n",
    "print(df_vhd_outPatient['PT_ID'].nunique())\n",
    "df_vhd_outPatient=df_vhd_outPatient.sort_values(by=['PT_ID','ENC_DT'])\n",
    "testVal= df_vhd_outPatient.groupby('PT_ID',as_index=False)['ENC_DT'].apply(lambda x: x.sort_values())\n",
    "df_vhd_outPatient['ENC_DT'] = testVal.reset_index(level=0, drop=True)\n",
    "\n",
    "df_vhd_outPatient = df_vhd_outPatient.groupby('PT_ID').apply(lambda x: x.tail(len(x)-1))\\\n",
    "        .reset_index(drop=True)"
   ]
  },
  {
   "cell_type": "code",
   "execution_count": 33,
   "metadata": {},
   "outputs": [
    {
     "name": "stdout",
     "output_type": "stream",
     "text": [
      "966\n",
      "457\n",
      "1007\n"
     ]
    },
    {
     "name": "stderr",
     "output_type": "stream",
     "text": [
      "c:\\users\\mobas\\appdata\\local\\programs\\python\\python37\\lib\\site-packages\\ipykernel_launcher.py:1: SettingWithCopyWarning: \n",
      "A value is trying to be set on a copy of a slice from a DataFrame.\n",
      "Try using .loc[row_indexer,col_indexer] = value instead\n",
      "\n",
      "See the caveats in the documentation: http://pandas.pydata.org/pandas-docs/stable/user_guide/indexing.html#returning-a-view-versus-a-copy\n",
      "  \"\"\"Entry point for launching an IPython kernel.\n",
      "c:\\users\\mobas\\appdata\\local\\programs\\python\\python37\\lib\\site-packages\\ipykernel_launcher.py:2: SettingWithCopyWarning: \n",
      "A value is trying to be set on a copy of a slice from a DataFrame.\n",
      "Try using .loc[row_indexer,col_indexer] = value instead\n",
      "\n",
      "See the caveats in the documentation: http://pandas.pydata.org/pandas-docs/stable/user_guide/indexing.html#returning-a-view-versus-a-copy\n",
      "  \n"
     ]
    }
   ],
   "source": [
    "df_vhd_inPatient['INDEX_DT']=pd.to_datetime(df_vhd_inPatient['INDEX_DT'])\n",
    "df_vhd_inPatient['ENC_DT']=pd.to_datetime(df_vhd_inPatient['ENC_DT'])\n",
    "vhd_inPatient_at_index = df_vhd_inPatient[df_vhd_inPatient['INDEX_DT']>= df_vhd_inPatient['ENC_DT']].copy()\n",
    "\n",
    "df_vhd_outPatient['INDEX_DT']=pd.to_datetime(df_vhd_outPatient['INDEX_DT'])\n",
    "df_vhd_outPatient['ENC_DT']=pd.to_datetime(df_vhd_outPatient['ENC_DT'])\n",
    "\n",
    "vhd_outPatient_at_index = df_vhd_outPatient[df_vhd_outPatient['INDEX_DT']>= df_vhd_outPatient['ENC_DT']].copy()\n",
    "\n",
    "vhd_patient_at_index = vhd_inPatient_at_index.append(vhd_outPatient_at_index)\n",
    "print(vhd_inPatient_at_index['PT_ID'].nunique())\n",
    "print(vhd_outPatient_at_index['PT_ID'].nunique())\n",
    "print(vhd_patient_at_index['PT_ID'].nunique())"
   ]
  },
  {
   "cell_type": "code",
   "execution_count": 45,
   "metadata": {},
   "outputs": [],
   "source": [
    "geisinger_afib_panda = pd.read_csv('geisinger_afib_patients.csv',low_memory=False)\n",
    "geisinger_non_afib_panda = pd.read_csv('geisinger_non_afib_patients.csv',low_memory=False)\n",
    "\n",
    "geisinger_afib_aflt_panda = pd.read_csv('geisinger_afib_aflt_patients.csv',low_memory=False)\n",
    "geisinger_non_afib_aflt_panda = pd.read_csv('geisinger_non_afib_aflt_patients.csv',low_memory=False)"
   ]
  },
  {
   "cell_type": "code",
   "execution_count": 56,
   "metadata": {},
   "outputs": [],
   "source": [
    "geisinger_afib_panda['CAD_AT_INDEX'] = 0\n",
    "geisinger_afib_panda.loc[geisinger_afib_panda['PT_ID'].isin(cad_patient_at_index['PT_ID'].unique()), 'CAD_AT_INDEX'] = 1\n",
    "\n",
    "geisinger_afib_panda['VHD_AT_INDEX'] = 0\n",
    "geisinger_afib_panda.loc[geisinger_afib_panda['PT_ID'].isin(vhd_patient_at_index['PT_ID'].unique()), 'VHD_AT_INDEX'] = 1\n",
    "\n",
    "geisinger_non_afib_panda['CAD_AT_INDEX'] = 0\n",
    "geisinger_non_afib_panda.loc[geisinger_non_afib_panda['PT_ID'].isin(cad_patient_at_index['PT_ID'].unique()), 'CAD_AT_INDEX'] = 1\n",
    "\n",
    "geisinger_non_afib_panda['VHD_AT_INDEX'] = 0\n",
    "geisinger_non_afib_panda.loc[geisinger_non_afib_panda['PT_ID'].isin(vhd_patient_at_index['PT_ID'].unique()), 'VHD_AT_INDEX'] = 1\n",
    "\n",
    "\n",
    "geisinger_afib_aflt_panda['CAD_AT_INDEX'] = 0\n",
    "geisinger_afib_aflt_panda.loc[geisinger_afib_aflt_panda['PT_ID'].isin(cad_patient_at_index['PT_ID'].unique()), 'CAD_AT_INDEX'] = 1\n",
    "\n",
    "geisinger_afib_aflt_panda['VHD_AT_INDEX'] = 0\n",
    "geisinger_afib_aflt_panda.loc[geisinger_afib_aflt_panda['PT_ID'].isin(vhd_patient_at_index['PT_ID'].unique()), 'VHD_AT_INDEX'] = 1\n",
    "\n",
    "geisinger_non_afib_aflt_panda['CAD_AT_INDEX'] = 0\n",
    "geisinger_non_afib_aflt_panda.loc[geisinger_non_afib_aflt_panda['PT_ID'].isin(cad_patient_at_index['PT_ID'].unique()), 'CAD_AT_INDEX'] = 1\n",
    "\n",
    "geisinger_non_afib_aflt_panda['VHD_AT_INDEX'] = 0\n",
    "geisinger_non_afib_aflt_panda.loc[geisinger_non_afib_aflt_panda['PT_ID'].isin(vhd_patient_at_index['PT_ID'].unique()), 'VHD_AT_INDEX'] = 1"
   ]
  },
  {
   "cell_type": "code",
   "execution_count": 92,
   "metadata": {},
   "outputs": [
    {
     "data": {
      "text/plain": [
       "823"
      ]
     },
     "execution_count": 92,
     "metadata": {},
     "output_type": "execute_result"
    }
   ],
   "source": [
    "geisinger_afib_panda[geisinger_afib_panda['OBESITY_AT_INDEX']==1]['PT_ID'].nunique()"
   ]
  },
  {
   "cell_type": "code",
   "execution_count": 103,
   "metadata": {},
   "outputs": [
    {
     "data": {
      "text/plain": [
       "841"
      ]
     },
     "execution_count": 103,
     "metadata": {},
     "output_type": "execute_result"
    }
   ],
   "source": [
    "geisinger_afib_aflt_panda[geisinger_afib_aflt_panda['OBESITY_AT_INDEX']==1]['PT_ID'].nunique()"
   ]
  },
  {
   "cell_type": "code",
   "execution_count": 104,
   "metadata": {},
   "outputs": [
    {
     "data": {
      "text/plain": [
       "1866"
      ]
     },
     "execution_count": 104,
     "metadata": {},
     "output_type": "execute_result"
    }
   ],
   "source": [
    "geisinger_non_afib_aflt_panda[geisinger_non_afib_aflt_panda['OBESITY_AT_INDEX']==1]['PT_ID'].nunique()"
   ]
  },
  {
   "cell_type": "code",
   "execution_count": 63,
   "metadata": {},
   "outputs": [
    {
     "data": {
      "text/plain": [
       "PT_ID                                                        object\n",
       "PT_SEX                                                       object\n",
       "PT_BIRTH_DT                                          datetime64[ns]\n",
       "PT_DEATH_DT                                          datetime64[ns]\n",
       "LAST_ACTIVE_DT                                       datetime64[ns]\n",
       "                                                          ...      \n",
       "CREATININE_MEDIAN_AFTER_INDEX                               float64\n",
       "CREATININE_CLOSEST_BEFORE_RECUR_OR_LASTENC                  float64\n",
       "DT_CREATININE_CLOSEST_BEFORE_RECUR_OR_LASTENC        datetime64[ns]\n",
       "CREATININE_CLOSEST_BEFORE_DEATH_OR_LASTENC                  float64\n",
       "DT_FOR_CREATININE_CLOSEST_BEFORE_DEATH_OR_LASTENC    datetime64[ns]\n",
       "Length: 284, dtype: object"
      ]
     },
     "execution_count": 63,
     "metadata": {},
     "output_type": "execute_result"
    }
   ],
   "source": [
    "geisinger_non_afib_aflt_panda[geisinger_non_afib_aflt_panda['VHD_AT_INDEX']==1]['PT_ID'].nunique()\n",
    "geisinger_df.dtypes"
   ]
  },
  {
   "cell_type": "code",
   "execution_count": 64,
   "metadata": {},
   "outputs": [],
   "source": [
    "geisinger_afib_panda.to_csv('geisinger_afib_patients.csv',index=False)\n",
    "geisinger_non_afib_panda.to_csv('geisinger_non_afib_patients.csv',index=False)\n",
    "\n",
    "geisinger_afib_aflt_panda.to_csv('geisinger_afib_aflt_patients.csv',index=False)\n",
    "geisinger_non_afib_aflt_panda.to_csv('geisinger_non_afib_aflt_patients.csv',index=False)\n"
   ]
  },
  {
   "cell_type": "code",
   "execution_count": 80,
   "metadata": {},
   "outputs": [],
   "source": [
    "import numpy as np\n",
    "geisinger_df['DT_FOR_BMI_CLOSEST_TO_INDEX']=pd.to_datetime(geisinger_df['DT_FOR_BMI_CLOSEST_TO_INDEX'])\n",
    "geisinger_df['INDEX_DT']=pd.to_datetime(geisinger_df['INDEX_DT'])\n",
    "geisinger_df['diff'] = (geisinger_df['INDEX_DT']-geisinger_df['DT_FOR_BMI_CLOSEST_TO_INDEX'])/np.timedelta64(1,'Y')"
   ]
  },
  {
   "cell_type": "code",
   "execution_count": 83,
   "metadata": {},
   "outputs": [
    {
     "data": {
      "text/plain": [
       "count   6966.000\n",
       "mean       0.011\n",
       "std        0.117\n",
       "min        0.000\n",
       "25%        0.000\n",
       "50%        0.000\n",
       "75%        0.000\n",
       "max        2.913\n",
       "Name: diff, dtype: float64"
      ]
     },
     "execution_count": 83,
     "metadata": {},
     "output_type": "execute_result"
    }
   ],
   "source": [
    "geisinger_df[geisinger_df['diff']>=0]['diff'].describe()"
   ]
  },
  {
   "cell_type": "code",
   "execution_count": 100,
   "metadata": {},
   "outputs": [
    {
     "data": {
      "text/plain": [
       "2707"
      ]
     },
     "execution_count": 100,
     "metadata": {},
     "output_type": "execute_result"
    }
   ],
   "source": [
    "geisinger_obesity = geisinger_df[geisinger_df['DT_FOR_BMI_CLOSEST_TO_INDEX'] <= geisinger_df['INDEX_DT']]\n",
    "geisinger_obesity_greate_30 = geisinger_obesity[geisinger_obesity['BMI_CLOSEST_TO_INDEX'] > 30]\n",
    "geisinger_obesity_greate_30['PT_ID'].nunique()"
   ]
  },
  {
   "cell_type": "code",
   "execution_count": 101,
   "metadata": {},
   "outputs": [],
   "source": [
    "geisinger_afib_panda['OBESITY_AT_INDEX'] = 0\n",
    "geisinger_afib_panda.loc[geisinger_afib_panda['PT_ID'].isin(geisinger_obesity_greate_30['PT_ID'].unique()), 'OBESITY_AT_INDEX'] = 1\n",
    "\n",
    "geisinger_non_afib_panda['OBESITY_AT_INDEX'] = 0\n",
    "geisinger_non_afib_panda.loc[geisinger_non_afib_panda['PT_ID'].isin(geisinger_obesity_greate_30['PT_ID'].unique()), 'OBESITY_AT_INDEX'] = 1\n",
    "\n",
    "geisinger_afib_aflt_panda['OBESITY_AT_INDEX'] = 0\n",
    "geisinger_afib_aflt_panda.loc[geisinger_afib_aflt_panda['PT_ID'].isin(geisinger_obesity_greate_30['PT_ID'].unique()), 'OBESITY_AT_INDEX'] = 1\n",
    "\n",
    "geisinger_non_afib_aflt_panda['OBESITY_AT_INDEX'] = 0\n",
    "geisinger_non_afib_aflt_panda.loc[geisinger_non_afib_aflt_panda['PT_ID'].isin(geisinger_obesity_greate_30['PT_ID'].unique()), 'OBESITY_AT_INDEX'] = 1"
   ]
  },
  {
   "cell_type": "code",
   "execution_count": 102,
   "metadata": {},
   "outputs": [
    {
     "data": {
      "text/plain": [
       "PT_ID                                                 object\n",
       "PT_SEX                                                object\n",
       "PT_BIRTH_DT                                           object\n",
       "PT_DEATH_DT                                           object\n",
       "LAST_ACTIVE_DT                                        object\n",
       "                                                      ...   \n",
       "CREATININE_CLOSEST_BEFORE_DEATH_OR_LASTENC           float64\n",
       "DT_FOR_CREATININE_CLOSEST_BEFORE_DEATH_OR_LASTENC     object\n",
       "CAD_AT_INDEX                                           int64\n",
       "VHD_AT_INDEX                                           int64\n",
       "OBESITY_AT_INDEX                                       int64\n",
       "Length: 287, dtype: object"
      ]
     },
     "execution_count": 102,
     "metadata": {},
     "output_type": "execute_result"
    }
   ],
   "source": [
    "geisinger_afib_panda.dtypes"
   ]
  },
  {
   "cell_type": "code",
   "execution_count": 105,
   "metadata": {},
   "outputs": [],
   "source": [
    "geisinger_afib_panda.to_csv('geisinger_afib_patients.csv',index=False)\n",
    "geisinger_non_afib_panda.to_csv('geisinger_non_afib_patients.csv',index=False)\n",
    "\n",
    "geisinger_afib_aflt_panda.to_csv('geisinger_afib_aflt_patients.csv',index=False)\n",
    "geisinger_non_afib_aflt_panda.to_csv('geisinger_non_afib_aflt_patients.csv',index=False)"
   ]
  },
  {
   "cell_type": "code",
   "execution_count": null,
   "metadata": {},
   "outputs": [],
   "source": []
  }
 ],
 "metadata": {
  "kernelspec": {
   "display_name": "Python 3",
   "language": "python",
   "name": "python3"
  },
  "language_info": {
   "codemirror_mode": {
    "name": "ipython",
    "version": 3
   },
   "file_extension": ".py",
   "mimetype": "text/x-python",
   "name": "python",
   "nbconvert_exporter": "python",
   "pygments_lexer": "ipython3",
   "version": "3.7.7"
  }
 },
 "nbformat": 4,
 "nbformat_minor": 4
}
