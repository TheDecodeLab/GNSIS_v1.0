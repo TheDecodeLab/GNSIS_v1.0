{
 "cells": [
  {
   "cell_type": "code",
   "execution_count": 1,
   "metadata": {},
   "outputs": [],
   "source": [
    "from __future__ import division\n",
    "import pandas as pd\n",
    "import numpy as np  \n",
    "import matplotlib.pyplot as plt  \n",
    "import seaborn as seabornInstance \n",
    "import scipy.optimize as op \n",
    "\n",
    "from sklearn.model_selection import train_test_split,StratifiedShuffleSplit \n",
    "from sklearn.linear_model import LinearRegression,LogisticRegression\n",
    "from sklearn import metrics as metrices\n",
    "\n",
    "%matplotlib inline\n",
    "\n",
    "pd.options.display.float_format = '{:.2f}'.format"
   ]
  },
  {
   "cell_type": "code",
   "execution_count": 2,
   "metadata": {},
   "outputs": [],
   "source": [
    "geisinger_afib_panda = pd.read_csv('geisinger_afib_aflt_patients.csv')\n",
    "geisinger_non_afib_panda = pd.read_csv('geisinger_non_afib_aflt_patients.csv')"
   ]
  },
  {
   "cell_type": "code",
   "execution_count": 3,
   "metadata": {},
   "outputs": [
    {
     "name": "stdout",
     "output_type": "stream",
     "text": [
      "1090\n",
      "841\n",
      "587\n",
      "279\n"
     ]
    }
   ],
   "source": [
    "#data for 2762 patients's first occurance of afib\n",
    "data_afib_per_patient_panda = pd.read_csv('df_afib_aflt_no_duplicate_per_patient.csv')\n",
    "\n",
    "#data for 1091 patients's whose first occurance of afib is before the stroke date\n",
    "data_afib_diagnosed_before_storke = data_afib_per_patient_panda[data_afib_per_patient_panda['Occurance_in_years'] < 0]\n",
    "data_afib_diagnosed_before_storke_at_index = data_afib_per_patient_panda[data_afib_per_patient_panda['Occurance_in_years'] == 0]\n",
    "data_afib_diagnosed_after_storke_within_3_years =  data_afib_per_patient_panda[(data_afib_per_patient_panda['Occurance_in_years'] > 0) & (data_afib_per_patient_panda['Occurance_in_years'] <= 3)]\n",
    "data_afib_diagnosed_other = data_afib_per_patient_panda[data_afib_per_patient_panda['Occurance_in_years'] > 3]\n",
    "\n",
    "print(data_afib_diagnosed_before_storke['PT_ID'].nunique())\n",
    "print(data_afib_diagnosed_before_storke_at_index['PT_ID'].nunique())\n",
    "print(data_afib_diagnosed_after_storke_within_3_years['PT_ID'].nunique())\n",
    "print(data_afib_diagnosed_other['PT_ID'].nunique())"
   ]
  },
  {
   "cell_type": "code",
   "execution_count": 4,
   "metadata": {},
   "outputs": [],
   "source": [
    "Lab_data_event_dates = pd.read_excel('LABS_DATASETS_CLEAN.xlsx',sheet_name='PT_ID and Event Dates')\n",
    "Lab_data_BMI = pd.read_excel('LABS_DATASETS_CLEAN.xlsx',sheet_name='BMI')\n",
    "Lab_data_CRP = pd.read_excel('LABS_DATASETS_CLEAN.xlsx',sheet_name='CRP')\n",
    "Lab_data_ESR = pd.read_excel('LABS_DATASETS_CLEAN.xlsx',sheet_name='ESR')\n",
    "Lab_data_GFR = pd.read_excel('LABS_DATASETS_CLEAN.xlsx',sheet_name='GFR')\n",
    "Lab_data_HB = pd.read_excel('LABS_DATASETS_CLEAN.xlsx',sheet_name='HB')\n",
    "Lab_data_HBA1C = pd.read_excel('LABS_DATASETS_CLEAN.xlsx',sheet_name='HBA1C')\n",
    "Lab_data_HCT = pd.read_excel('LABS_DATASETS_CLEAN.xlsx',sheet_name='HCT')\n",
    "Lab_data_HDL = pd.read_excel('LABS_DATASETS_CLEAN.xlsx',sheet_name='HDL')\n",
    "Lab_data_LDL = pd.read_excel('LABS_DATASETS_CLEAN.xlsx',sheet_name='LDL')\n",
    "Lab_data_PLT = pd.read_excel('LABS_DATASETS_CLEAN.xlsx',sheet_name='PLT')\n",
    "Lab_data_WBC = pd.read_excel('LABS_DATASETS_CLEAN.xlsx',sheet_name='WBC')"
   ]
  },
  {
   "cell_type": "code",
   "execution_count": 5,
   "metadata": {},
   "outputs": [],
   "source": [
    "Lab_data_event_dates = Lab_data_event_dates[Lab_data_event_dates['PT_DEATH_DT'].notna()]\n",
    "Lab_data_BMI = Lab_data_BMI[Lab_data_BMI['TIME_DIFF_BMI_INDEX'].notna()]\n",
    "Lab_data_CRP = Lab_data_CRP[Lab_data_CRP['TIME_DIFF_CRP_INDEX'].notna()]\n",
    "Lab_data_ESR = Lab_data_ESR[Lab_data_ESR['TIME_DIFF_ESR_INDEX'].notna()]\n",
    "Lab_data_GFR = Lab_data_GFR[Lab_data_GFR['TIME_DIFF_GFR_INDEX'].notna()]\n",
    "Lab_data_HB = Lab_data_HB[Lab_data_HB['TIME_DIFF_HB_INDEX'].notna()]\n",
    "Lab_data_HBA1C = Lab_data_HBA1C[Lab_data_HBA1C['TIME_DIFF_HBA1C_INDEX'].notna()]\n",
    "Lab_data_HCT = Lab_data_HCT[Lab_data_HCT['TIME_DIFF_HCT_INDEX'].notna()]\n",
    "Lab_data_HDL = Lab_data_HDL[Lab_data_HDL['TIME_DIFF_HDL_INDEX'].notna()]\n",
    "Lab_data_LDL = Lab_data_LDL[Lab_data_LDL['TIME_DIFF_LDL_INDEX'].notna()]\n",
    "Lab_data_PLT = Lab_data_PLT[Lab_data_PLT['TIME_DIFF_PLT_INDEX'].notna()]\n",
    "Lab_data_WBC = Lab_data_WBC[Lab_data_WBC['TIME_DIFF_WBC_INDEX'].notna()]"
   ]
  },
  {
   "cell_type": "code",
   "execution_count": 6,
   "metadata": {},
   "outputs": [
    {
     "name": "stdout",
     "output_type": "stream",
     "text": [
      "2765\n",
      "8649\n",
      "2514\n",
      "4540\n",
      "8821\n",
      "8868\n",
      "7774\n",
      "8867\n",
      "8528\n",
      "8522\n",
      "8863\n",
      "8863\n"
     ]
    }
   ],
   "source": [
    "print(Lab_data_event_dates['PT_ID'].nunique())\n",
    "print(Lab_data_BMI['PT_ID'].nunique())\n",
    "print(Lab_data_CRP['PT_ID'].nunique())\n",
    "print(Lab_data_ESR['PT_ID'].nunique())\n",
    "print(Lab_data_GFR['PT_ID'].nunique())\n",
    "print(Lab_data_HB['PT_ID'].nunique())\n",
    "print(Lab_data_HBA1C['PT_ID'].nunique())\n",
    "print(Lab_data_HCT['PT_ID'].nunique())\n",
    "print(Lab_data_HDL['PT_ID'].nunique())\n",
    "print(Lab_data_LDL['PT_ID'].nunique())\n",
    "print(Lab_data_PLT['PT_ID'].nunique())\n",
    "print(Lab_data_WBC['PT_ID'].nunique())"
   ]
  },
  {
   "cell_type": "code",
   "execution_count": 7,
   "metadata": {},
   "outputs": [],
   "source": [
    "Lab_data_BMI_refined = Lab_data_BMI[(Lab_data_BMI['TIME_DIFF_BMI_INDEX'] <= 0) & (Lab_data_BMI['TIME_DIFF_BMI_INDEX'] > -1095)]\n",
    "Lab_data_CRP_refined = Lab_data_CRP[(Lab_data_CRP['TIME_DIFF_CRP_INDEX'] <= 0) & (Lab_data_CRP['TIME_DIFF_CRP_INDEX'] > -1095)]\n",
    "Lab_data_ESR_refined = Lab_data_ESR[(Lab_data_ESR['TIME_DIFF_ESR_INDEX'] <= 0) & (Lab_data_ESR['TIME_DIFF_ESR_INDEX'] > -1095)]\n",
    "Lab_data_GFR_refined = Lab_data_GFR[(Lab_data_GFR['TIME_DIFF_GFR_INDEX'] <= 0) & (Lab_data_GFR['TIME_DIFF_GFR_INDEX']  > -1095)]\n",
    "Lab_data_HB_refined = Lab_data_HB[(Lab_data_HB['TIME_DIFF_HB_INDEX'] <= 0) & (Lab_data_HB['TIME_DIFF_HB_INDEX'] < 1095)]\n",
    "Lab_data_HBA1C_refined = Lab_data_HBA1C[(Lab_data_HBA1C['TIME_DIFF_HBA1C_INDEX'] >= 0) & (Lab_data_HBA1C['TIME_DIFF_HBA1C_INDEX'] < 1095)]\n",
    "Lab_data_HCT_refined = Lab_data_HCT[(Lab_data_HCT['TIME_DIFF_HCT_INDEX'] <= 0) & (Lab_data_HCT['TIME_DIFF_HCT_INDEX'] > -1095)]\n",
    "Lab_data_HDL_refined = Lab_data_HDL[(Lab_data_HDL['TIME_DIFF_HDL_INDEX'] <= 0) & (Lab_data_HDL['TIME_DIFF_HDL_INDEX'] > -1095)]\n",
    "Lab_data_LDL_refined = Lab_data_LDL[(Lab_data_LDL['TIME_DIFF_LDL_INDEX'] <= 0) & (Lab_data_LDL['TIME_DIFF_LDL_INDEX'] > -1095)]\n",
    "Lab_data_PLT_refined = Lab_data_PLT[(Lab_data_PLT['TIME_DIFF_PLT_INDEX'] <= 0) & (Lab_data_PLT['TIME_DIFF_PLT_INDEX'] > -1095)]\n",
    "Lab_data_WBC_refined = Lab_data_WBC[(Lab_data_WBC['TIME_DIFF_WBC_INDEX'] <= 0) & (Lab_data_WBC['TIME_DIFF_WBC_INDEX'] > -1095)]"
   ]
  },
  {
   "cell_type": "code",
   "execution_count": 8,
   "metadata": {},
   "outputs": [
    {
     "name": "stdout",
     "output_type": "stream",
     "text": [
      "8003\n",
      "870\n",
      "1915\n",
      "8181\n",
      "8485\n",
      "7127\n",
      "8330\n",
      "5020\n",
      "5100\n",
      "8325\n",
      "8317\n"
     ]
    }
   ],
   "source": [
    "print(Lab_data_BMI_refined['PT_ID'].nunique())\n",
    "print(Lab_data_CRP_refined['PT_ID'].nunique())\n",
    "print(Lab_data_ESR_refined['PT_ID'].nunique())\n",
    "print(Lab_data_GFR_refined['PT_ID'].nunique())\n",
    "print(Lab_data_HB_refined['PT_ID'].nunique())\n",
    "print(Lab_data_HBA1C_refined['PT_ID'].nunique())\n",
    "print(Lab_data_HCT_refined['PT_ID'].nunique())\n",
    "print(Lab_data_HDL_refined['PT_ID'].nunique())\n",
    "print(Lab_data_LDL_refined['PT_ID'].nunique())\n",
    "print(Lab_data_PLT_refined['PT_ID'].nunique())\n",
    "print(Lab_data_WBC_refined['PT_ID'].nunique())"
   ]
  },
  {
   "cell_type": "markdown",
   "metadata": {},
   "source": [
    "# $\\color{BLUE}{\\text{Patients having afib before stroke index}}$"
   ]
  },
  {
   "cell_type": "code",
   "execution_count": 9,
   "metadata": {},
   "outputs": [
    {
     "name": "stdout",
     "output_type": "stream",
     "text": [
      "BMI  1070\n",
      "CRP  158\n",
      "ESR  332\n",
      "GFR  1062\n",
      "HB  1084\n",
      "HBA1C  869\n",
      "HCT  1071\n",
      "HDL  790\n",
      "LDL  810\n",
      "PLT  1070\n",
      "WBC  1071\n"
     ]
    }
   ],
   "source": [
    "Lab_data_BMI_before_stroke = Lab_data_BMI_refined[Lab_data_BMI_refined['PT_ID'].isin(data_afib_diagnosed_before_storke['PT_ID'])]\n",
    "print('BMI ',Lab_data_BMI_before_stroke['PT_ID'].nunique())\n",
    "Lab_data_CRP_before_stroke = Lab_data_CRP_refined[Lab_data_CRP_refined['PT_ID'].isin(data_afib_diagnosed_before_storke['PT_ID'])]\n",
    "print('CRP ',Lab_data_CRP_before_stroke['PT_ID'].nunique())\n",
    "Lab_data_ESR_before_stroke = Lab_data_ESR_refined[Lab_data_ESR_refined['PT_ID'].isin(data_afib_diagnosed_before_storke['PT_ID'])]\n",
    "print('ESR ',Lab_data_ESR_before_stroke['PT_ID'].nunique())\n",
    "Lab_data_GFR_before_stroke = Lab_data_GFR_refined[Lab_data_GFR_refined['PT_ID'].isin(data_afib_diagnosed_before_storke['PT_ID'])]\n",
    "print('GFR ',Lab_data_GFR_before_stroke['PT_ID'].nunique())\n",
    "Lab_data_HB_before_stroke = Lab_data_HB_refined[Lab_data_HB_refined['PT_ID'].isin(data_afib_diagnosed_before_storke['PT_ID'])]\n",
    "print('HB ',Lab_data_HB_before_stroke['PT_ID'].nunique())\n",
    "Lab_data_HBA1C_before_stroke = Lab_data_HBA1C_refined[Lab_data_HBA1C_refined['PT_ID'].isin(data_afib_diagnosed_before_storke['PT_ID'])]\n",
    "print('HBA1C ',Lab_data_HBA1C_before_stroke['PT_ID'].nunique())\n",
    "Lab_data_HCT_before_stroke = Lab_data_HCT_refined[Lab_data_HCT_refined['PT_ID'].isin(data_afib_diagnosed_before_storke['PT_ID'])]\n",
    "print('HCT ',Lab_data_HCT_before_stroke['PT_ID'].nunique())\n",
    "Lab_data_HDL_before_stroke = Lab_data_HDL_refined[Lab_data_HDL_refined['PT_ID'].isin(data_afib_diagnosed_before_storke['PT_ID'])]\n",
    "print('HDL ',Lab_data_HDL_before_stroke['PT_ID'].nunique())\n",
    "Lab_data_LDL_before_stroke = Lab_data_LDL_refined[Lab_data_LDL_refined['PT_ID'].isin(data_afib_diagnosed_before_storke['PT_ID'])]\n",
    "print('LDL ',Lab_data_LDL_before_stroke['PT_ID'].nunique())\n",
    "Lab_data_PLT_before_stroke = Lab_data_PLT_refined[Lab_data_PLT_refined['PT_ID'].isin(data_afib_diagnosed_before_storke['PT_ID'])]\n",
    "print('PLT ',Lab_data_PLT_before_stroke['PT_ID'].nunique())\n",
    "Lab_data_WBC_before_stroke = Lab_data_WBC_refined[Lab_data_WBC_refined['PT_ID'].isin(data_afib_diagnosed_before_storke['PT_ID'])]\n",
    "print('WBC ',Lab_data_WBC_before_stroke['PT_ID'].nunique())"
   ]
  },
  {
   "cell_type": "code",
   "execution_count": 10,
   "metadata": {},
   "outputs": [
    {
     "data": {
      "text/plain": [
       "ENC_DT                 20\n",
       "ENC_TYPE               20\n",
       "ICD_CD                 20\n",
       "ICD_NM                 20\n",
       "INDEX_DT               20\n",
       "PT_ID                  20\n",
       "Difference             20\n",
       "Difference_in_years    20\n",
       "Occurance_in_years     20\n",
       "dtype: int64"
      ]
     },
     "execution_count": 10,
     "metadata": {},
     "output_type": "execute_result"
    }
   ],
   "source": [
    "data_afib_diagnosed_before_storke[~data_afib_diagnosed_before_storke['PT_ID'].isin(Lab_data_BMI_before_stroke['PT_ID'])].count()"
   ]
  },
  {
   "cell_type": "code",
   "execution_count": 11,
   "metadata": {},
   "outputs": [
    {
     "name": "stdout",
     "output_type": "stream",
     "text": [
      "========================\n",
      "BMI \n",
      "        BMI_VALUE  TIME_DIFF_BMI_INDEX\n",
      "count   22458.00             22458.00\n",
      "mean       29.75              -461.30\n",
      "std         6.77               331.04\n",
      "min        15.00             -1094.00\n",
      "25%        25.00              -734.00\n",
      "50%        29.00              -439.00\n",
      "75%        33.40              -158.00\n",
      "max        92.00                 0.00\n",
      "========================\n",
      "CRP \n",
      " count          302\n",
      "unique         158\n",
      "top       PT777077\n",
      "freq            21\n",
      "Name: PT_ID, dtype: object\n",
      "========================\n",
      "ESR \n",
      " count           656\n",
      "unique          332\n",
      "top       PT1060126\n",
      "freq             22\n",
      "Name: PT_ID, dtype: object\n",
      "========================\n",
      "GFR \n",
      " count        18922\n",
      "unique        1062\n",
      "top       PT234434\n",
      "freq           253\n",
      "Name: PT_ID, dtype: object\n",
      "========================\n",
      "HB \n",
      " count        36717\n",
      "unique        1084\n",
      "top       PT263782\n",
      "freq           642\n",
      "Name: PT_ID, dtype: object\n",
      "========================\n",
      "HBA1C \n",
      " count         2131\n",
      "unique         869\n",
      "top       PT336644\n",
      "freq            18\n",
      "Name: PT_ID, dtype: object\n",
      "========================\n",
      "HCT \n",
      " count        16424\n",
      "unique        1071\n",
      "top       PT741218\n",
      "freq           197\n",
      "Name: PT_ID, dtype: object\n",
      "========================\n",
      "HDL \n",
      " count          2337\n",
      "unique          790\n",
      "top       PT1164690\n",
      "freq             13\n",
      "Name: PT_ID, dtype: object\n",
      "========================\n",
      "LDL \n",
      " count          2635\n",
      "unique          810\n",
      "top       PT1164690\n",
      "freq             13\n",
      "Name: PT_ID, dtype: object\n",
      "========================\n",
      "PLT \n",
      " count        16212\n",
      "unique        1070\n",
      "top       PT741218\n",
      "freq           197\n",
      "Name: PT_ID, dtype: object\n",
      "========================\n",
      "WBC \n",
      " count       15992\n",
      "unique       1071\n",
      "top       PT91200\n",
      "freq          193\n",
      "Name: PT_ID, dtype: object\n"
     ]
    }
   ],
   "source": [
    "print('========================')\n",
    "print('BMI \\n',Lab_data_BMI_before_stroke.describe())\n",
    "print('========================')\n",
    "print('CRP \\n',Lab_data_CRP_before_stroke['PT_ID'].describe())\n",
    "print('========================')\n",
    "print('ESR \\n',Lab_data_ESR_before_stroke['PT_ID'].describe())\n",
    "print('========================')\n",
    "print('GFR \\n',Lab_data_GFR_before_stroke['PT_ID'].describe())\n",
    "print('========================')\n",
    "print('HB \\n',Lab_data_HB_before_stroke['PT_ID'].describe())\n",
    "print('========================')\n",
    "print('HBA1C \\n',Lab_data_HBA1C_before_stroke['PT_ID'].describe())\n",
    "print('========================')\n",
    "print('HCT \\n',Lab_data_HCT_before_stroke['PT_ID'].describe())\n",
    "print('========================')\n",
    "print('HDL \\n',Lab_data_HDL_before_stroke['PT_ID'].describe())\n",
    "print('========================')\n",
    "print('LDL \\n',Lab_data_LDL_before_stroke['PT_ID'].describe())\n",
    "print('========================')\n",
    "print('PLT \\n',Lab_data_PLT_before_stroke['PT_ID'].describe())\n",
    "print('========================')\n",
    "print('WBC \\n',Lab_data_WBC_before_stroke['PT_ID'].describe())\n"
   ]
  },
  {
   "cell_type": "code",
   "execution_count": 12,
   "metadata": {},
   "outputs": [
    {
     "name": "stdout",
     "output_type": "stream",
     "text": [
      "===================================================\n",
      "BMI \n",
      "        BMI_VALUE  TIME_DIFF_BMI_INDEX\n",
      "count    1070.00              1070.00\n",
      "mean       28.56               -22.54\n",
      "std         6.28               100.28\n",
      "min        15.10             -1087.00\n",
      "25%        24.30                 0.00\n",
      "50%        27.75                 0.00\n",
      "75%        32.40                 0.00\n",
      "max        58.90                 0.00\n",
      "===================================================\n",
      "CRP \n",
      "        CRP_VALUE  TIME_DIFF_CRP_INDEX\n",
      "count     158.00               158.00\n",
      "mean       43.08              -373.87\n",
      "std        64.89               333.98\n",
      "min         0.37             -1094.00\n",
      "25%         4.00              -575.50\n",
      "50%        13.77              -301.00\n",
      "75%        52.75               -80.75\n",
      "max       318.00                 0.00\n",
      "===================================================\n",
      "ESR \n",
      "        ESR_VALUE  TIME_DIFF_ESR_INDEX\n",
      "count     332.00               332.00\n",
      "mean       35.11              -323.33\n",
      "std        28.44               329.66\n",
      "min         1.00             -1094.00\n",
      "25%        13.00              -538.25\n",
      "50%        26.00              -207.50\n",
      "75%        50.00               -21.00\n",
      "max       120.00                 0.00\n",
      "===================================================\n",
      "GFR \n",
      "        GFR_VALUE  TIME_DIFF_GFR_INDEX\n",
      "count    1062.00              1062.00\n",
      "mean       50.14               -22.48\n",
      "std        13.60               103.09\n",
      "min        15.00             -1070.00\n",
      "25%        42.60                 0.00\n",
      "50%        59.45                 0.00\n",
      "75%        60.00                 0.00\n",
      "max        60.00                 0.00\n",
      "===================================================\n",
      "HB \n",
      "        HB_VALUE  TIME_DIFF_HB_INDEX\n",
      "count   1084.00             1084.00\n",
      "mean      12.98              -46.32\n",
      "std        2.00              304.87\n",
      "min        6.80            -4892.00\n",
      "25%       11.78                0.00\n",
      "50%       13.10                0.00\n",
      "75%       14.40                0.00\n",
      "max       19.70                0.00\n",
      "===================================================\n",
      "HBA1C \n",
      "        HBA1C_VALUE  TIME_DIFF_HBA1C_INDEX\n",
      "count       869.00                 869.00\n",
      "mean          6.29                 265.87\n",
      "std           1.30                 370.41\n",
      "min           4.00                   0.00\n",
      "25%           5.50                   1.00\n",
      "50%           5.90                   4.00\n",
      "75%           6.70                 497.00\n",
      "max          13.00                1094.00\n",
      "===================================================\n",
      "HCT \n",
      "        HCT_VALUE  TIME_DIFF_HCT_INDEX\n",
      "count    1071.00              1071.00\n",
      "mean       38.90               -17.91\n",
      "std         5.48                96.88\n",
      "min        25.00             -1070.00\n",
      "25%        35.00                 0.00\n",
      "50%        39.00                 0.00\n",
      "75%        43.00                 0.00\n",
      "max        56.00                 0.00\n",
      "===================================================\n",
      "HDL \n",
      "        HDL_VALUE  TIME_DIFF_HDL_INDEX\n",
      "count     790.00               790.00\n",
      "mean       46.91              -203.21\n",
      "std        14.81               250.47\n",
      "min         7.00             -1092.00\n",
      "25%        37.00              -313.75\n",
      "50%        45.00               -94.00\n",
      "75%        55.00                -4.25\n",
      "max       100.00                 0.00\n",
      "===================================================\n",
      "LDL \n",
      "        LDL_VALUE  TIME_DIFF_LDL_INDEX\n",
      "count     810.00               810.00\n",
      "mean       87.30              -187.60\n",
      "std        37.81               232.39\n",
      "min        15.00             -1087.00\n",
      "25%        61.00              -287.75\n",
      "50%        81.00               -92.00\n",
      "75%       107.00                -5.25\n",
      "max       338.00                 0.00\n",
      "===================================================\n",
      "PLT \n",
      "        PLT_VALUE  TIME_DIFF_PLT_INDEX\n",
      "count    1070.00              1070.00\n",
      "mean      224.23               -17.46\n",
      "std        82.96                96.84\n",
      "min        15.00             -1070.00\n",
      "25%       170.00                 0.00\n",
      "50%       211.00                 0.00\n",
      "75%       263.00                 0.00\n",
      "max       752.00                 0.00\n",
      "===================================================\n",
      "WBC \n",
      "        WBC_VALUE  TIME_DIFF_WBC_INDEX\n",
      "count    1071.00              1071.00\n",
      "mean        8.84               -18.06\n",
      "std         3.21                96.53\n",
      "min         0.61             -1070.00\n",
      "25%         6.70                 0.00\n",
      "50%         8.14                 0.00\n",
      "75%        10.29                 0.00\n",
      "max        24.97                 0.00\n"
     ]
    }
   ],
   "source": [
    "Lab_data_BMI_before_stroke_sorted = Lab_data_BMI_before_stroke.sort_values(by=['TIME_DIFF_BMI_INDEX'],ascending=False).drop_duplicates(subset=['PT_ID'])\n",
    "print('===================================================')\n",
    "print('BMI \\n',Lab_data_BMI_before_stroke_sorted.describe())\n",
    "#Lab_data_BMI_before_stroke_sorted['BMI_VALUE'].hist(bins=100)\n",
    "print('===================================================')\n",
    "Lab_data_CRP_before_stroke_sorted = Lab_data_CRP_before_stroke.sort_values(by=['TIME_DIFF_CRP_INDEX'],ascending=False).drop_duplicates(subset=['PT_ID'])\n",
    "print('CRP \\n',Lab_data_CRP_before_stroke_sorted.describe())\n",
    "#Lab_data_CRP_before_stroke_sorted['CRP_VALUE'].hist(bins=100)\n",
    "print('===================================================')\n",
    "Lab_data_ESR_before_stroke_sorted = Lab_data_ESR_before_stroke.sort_values(by=['TIME_DIFF_ESR_INDEX'],ascending=False).drop_duplicates(subset=['PT_ID'])\n",
    "print('ESR \\n',Lab_data_ESR_before_stroke_sorted.describe())\n",
    "#Lab_data_ESR_before_stroke_sorted['ESR_VALUE'].hist(bins=100)\n",
    "print('===================================================')\n",
    "Lab_data_GFR_before_stroke_sorted = Lab_data_GFR_before_stroke.sort_values(by=['TIME_DIFF_GFR_INDEX'],ascending=False).drop_duplicates(subset=['PT_ID'])\n",
    "print('GFR \\n',Lab_data_GFR_before_stroke_sorted.describe())\n",
    "#Lab_data_GFR_before_stroke_sorted['GFR_VALUE'].hist(bins=100)\n",
    "print('===================================================')\n",
    "Lab_data_HB_before_stroke_sorted = Lab_data_HB_before_stroke.sort_values(by=['TIME_DIFF_HB_INDEX'],ascending=False).drop_duplicates(subset=['PT_ID'])\n",
    "print('HB \\n',Lab_data_HB_before_stroke_sorted.describe())\n",
    "#Lab_data_HB_before_stroke_sorted['HB_VALUE'].hist(bins=100)\n",
    "print('===================================================')\n",
    "Lab_data_HBA1C_before_stroke_sorted = Lab_data_HBA1C_before_stroke.sort_values(by=['TIME_DIFF_HBA1C_INDEX'],ascending=False).drop_duplicates(subset=['PT_ID'])\n",
    "print('HBA1C \\n',Lab_data_HBA1C_before_stroke_sorted.describe())\n",
    "#Lab_data_HBA1C_before_stroke_sorted['HBA1C_VALUE'].hist(bins=100)\n",
    "print('===================================================')\n",
    "Lab_data_HCT_before_stroke_sorted = Lab_data_HCT_before_stroke.sort_values(by=['TIME_DIFF_HCT_INDEX'],ascending=False).drop_duplicates(subset=['PT_ID'])\n",
    "print('HCT \\n',Lab_data_HCT_before_stroke_sorted.describe())\n",
    "#Lab_data_HCT_before_stroke_sorted['HCT_VALUE'].hist(bins=100)\n",
    "print('===================================================')\n",
    "Lab_data_HDL_before_stroke_sorted = Lab_data_HDL_before_stroke.sort_values(by=['TIME_DIFF_HDL_INDEX'],ascending=False).drop_duplicates(subset=['PT_ID'])\n",
    "print('HDL \\n',Lab_data_HDL_before_stroke_sorted.describe())\n",
    "#Lab_data_HDL_before_stroke_sorted['HDL_VALUE'].hist(bins=100)\n",
    "print('===================================================')\n",
    "Lab_data_LDL_before_stroke_sorted =Lab_data_LDL_before_stroke.sort_values(by=['TIME_DIFF_LDL_INDEX'],ascending=False).drop_duplicates(subset=['PT_ID'])\n",
    "print('LDL \\n',Lab_data_LDL_before_stroke_sorted.describe())\n",
    "#Lab_data_LDL_before_stroke_sorted['LDL_VALUE'].hist(bins=100)\n",
    "print('===================================================')\n",
    "Lab_data_PLT_before_stroke_sorted = Lab_data_PLT_before_stroke.sort_values(by=['TIME_DIFF_PLT_INDEX'],ascending=False).drop_duplicates(subset=['PT_ID'])\n",
    "print('PLT \\n',Lab_data_PLT_before_stroke_sorted.describe())\n",
    "#Lab_data_PLT_before_stroke_sorted['PLT_VALUE'].hist(bins=100)\n",
    "print('===================================================')\n",
    "Lab_data_WBC_before_stroke_sorted = Lab_data_WBC_before_stroke.sort_values(by=['TIME_DIFF_WBC_INDEX'],ascending=False).drop_duplicates(subset=['PT_ID'])\n",
    "print('WBC \\n',Lab_data_WBC_before_stroke_sorted.describe())\n",
    "#Lab_data_WBC_before_stroke_sorted['WBC_VALUE'].hist(bins=100)"
   ]
  },
  {
   "cell_type": "code",
   "execution_count": 13,
   "metadata": {},
   "outputs": [
    {
     "data": {
      "text/plain": [
       "<matplotlib.axes._subplots.AxesSubplot at 0x18f1300be08>"
      ]
     },
     "execution_count": 13,
     "metadata": {},
     "output_type": "execute_result"
    },
    {
     "data": {
      "image/png": "[encoded data removed]",
      "text/plain": [
       "<Figure size 432x288 with 1 Axes>"
      ]
     },
     "metadata": {
      "needs_background": "light"
     },
     "output_type": "display_data"
    }
   ],
   "source": [
    "Lab_data_BMI_before_stroke_sorted['BMI_VALUE'].hist(bins=100)"
   ]
  },
  {
   "cell_type": "code",
   "execution_count": 14,
   "metadata": {},
   "outputs": [
    {
     "data": {
      "text/plain": [
       "<matplotlib.axes._subplots.AxesSubplot at 0x18f0f06bb48>"
      ]
     },
     "execution_count": 14,
     "metadata": {},
     "output_type": "execute_result"
    },
    {
     "data": {
      "image/png": "[encoded data removed]",
      "text/plain": [
       "<Figure size 432x288 with 1 Axes>"
      ]
     },
     "metadata": {
      "needs_background": "light"
     },
     "output_type": "display_data"
    }
   ],
   "source": [
    "Lab_data_CRP_before_stroke_sorted['CRP_VALUE'].hist(bins=100)"
   ]
  },
  {
   "cell_type": "code",
   "execution_count": 15,
   "metadata": {},
   "outputs": [
    {
     "data": {
      "text/plain": [
       "<matplotlib.axes._subplots.AxesSubplot at 0x18f0be94d48>"
      ]
     },
     "execution_count": 15,
     "metadata": {},
     "output_type": "execute_result"
    },
    {
     "data": {
      "image/png": "[encoded data removed]",
      "text/plain": [
       "<Figure size 432x288 with 1 Axes>"
      ]
     },
     "metadata": {
      "needs_background": "light"
     },
     "output_type": "display_data"
    }
   ],
   "source": [
    "Lab_data_ESR_before_stroke_sorted['ESR_VALUE'].hist(bins=100)"
   ]
  },
  {
   "cell_type": "code",
   "execution_count": 16,
   "metadata": {},
   "outputs": [
    {
     "data": {
      "text/plain": [
       "<matplotlib.axes._subplots.AxesSubplot at 0x18f181a61c8>"
      ]
     },
     "execution_count": 16,
     "metadata": {},
     "output_type": "execute_result"
    },
    {
     "data": {
      "image/png": "[encoded data removed]",
      "text/plain": [
       "<Figure size 432x288 with 1 Axes>"
      ]
     },
     "metadata": {
      "needs_background": "light"
     },
     "output_type": "display_data"
    }
   ],
   "source": [
    "Lab_data_GFR_before_stroke_sorted['GFR_VALUE'].hist(bins=100)"
   ]
  },
  {
   "cell_type": "code",
   "execution_count": 17,
   "metadata": {},
   "outputs": [
    {
     "data": {
      "text/plain": [
       "<matplotlib.axes._subplots.AxesSubplot at 0x18f185144c8>"
      ]
     },
     "execution_count": 17,
     "metadata": {},
     "output_type": "execute_result"
    },
    {
     "data": {
      "image/png": "[encoded data removed]",
      "text/plain": [
       "<Figure size 432x288 with 1 Axes>"
      ]
     },
     "metadata": {
      "needs_background": "light"
     },
     "output_type": "display_data"
    }
   ],
   "source": [
    "Lab_data_HB_before_stroke_sorted['HB_VALUE'].hist(bins=100)"
   ]
  },
  {
   "cell_type": "code",
   "execution_count": 18,
   "metadata": {},
   "outputs": [
    {
     "data": {
      "text/plain": [
       "<matplotlib.axes._subplots.AxesSubplot at 0x18f0d4799c8>"
      ]
     },
     "execution_count": 18,
     "metadata": {},
     "output_type": "execute_result"
    },
    {
     "data": {
      "image/png": "[encoded data removed]",
      "text/plain": [
       "<Figure size 432x288 with 1 Axes>"
      ]
     },
     "metadata": {
      "needs_background": "light"
     },
     "output_type": "display_data"
    }
   ],
   "source": [
    "Lab_data_HBA1C_before_stroke_sorted['HBA1C_VALUE'].hist(bins=100)"
   ]
  },
  {
   "cell_type": "code",
   "execution_count": 19,
   "metadata": {},
   "outputs": [
    {
     "data": {
      "text/plain": [
       "<matplotlib.axes._subplots.AxesSubplot at 0x18f12c20588>"
      ]
     },
     "execution_count": 19,
     "metadata": {},
     "output_type": "execute_result"
    },
    {
     "data": {
      "image/png": "[encoded data removed]",
      "text/plain": [
       "<Figure size 432x288 with 1 Axes>"
      ]
     },
     "metadata": {
      "needs_background": "light"
     },
     "output_type": "display_data"
    }
   ],
   "source": [
    "Lab_data_HCT_before_stroke_sorted['HCT_VALUE'].hist(bins=100)"
   ]
  },
  {
   "cell_type": "code",
   "execution_count": 20,
   "metadata": {},
   "outputs": [
    {
     "data": {
      "text/plain": [
       "<matplotlib.axes._subplots.AxesSubplot at 0x18f1c8f3f48>"
      ]
     },
     "execution_count": 20,
     "metadata": {},
     "output_type": "execute_result"
    },
    {
     "data": {
      "image/png": "[encoded data removed]",
      "text/plain": [
       "<Figure size 432x288 with 1 Axes>"
      ]
     },
     "metadata": {
      "needs_background": "light"
     },
     "output_type": "display_data"
    }
   ],
   "source": [
    "Lab_data_HDL_before_stroke_sorted['HDL_VALUE'].hist(bins=100)"
   ]
  },
  {
   "cell_type": "code",
   "execution_count": 21,
   "metadata": {},
   "outputs": [
    {
     "data": {
      "text/plain": [
       "<matplotlib.axes._subplots.AxesSubplot at 0x18f181a6f08>"
      ]
     },
     "execution_count": 21,
     "metadata": {},
     "output_type": "execute_result"
    },
    {
     "data": {
      "image/png": "[encoded data removed]",
      "text/plain": [
       "<Figure size 432x288 with 1 Axes>"
      ]
     },
     "metadata": {
      "needs_background": "light"
     },
     "output_type": "display_data"
    }
   ],
   "source": [
    "Lab_data_LDL_before_stroke_sorted['LDL_VALUE'].hist(bins=100)"
   ]
  },
  {
   "cell_type": "code",
   "execution_count": 22,
   "metadata": {},
   "outputs": [
    {
     "data": {
      "text/plain": [
       "<matplotlib.axes._subplots.AxesSubplot at 0x18f18435848>"
      ]
     },
     "execution_count": 22,
     "metadata": {},
     "output_type": "execute_result"
    },
    {
     "data": {
      "image/png": "[encoded data removed]",
      "text/plain": [
       "<Figure size 432x288 with 1 Axes>"
      ]
     },
     "metadata": {
      "needs_background": "light"
     },
     "output_type": "display_data"
    }
   ],
   "source": [
    "Lab_data_PLT_before_stroke_sorted['PLT_VALUE'].hist(bins=100)"
   ]
  },
  {
   "cell_type": "code",
   "execution_count": 23,
   "metadata": {},
   "outputs": [
    {
     "data": {
      "text/plain": [
       "<matplotlib.axes._subplots.AxesSubplot at 0x18f0ca14c08>"
      ]
     },
     "execution_count": 23,
     "metadata": {},
     "output_type": "execute_result"
    },
    {
     "data": {
      "image/png": "[encoded data removed]",
      "text/plain": [
       "<Figure size 432x288 with 1 Axes>"
      ]
     },
     "metadata": {
      "needs_background": "light"
     },
     "output_type": "display_data"
    }
   ],
   "source": [
    "Lab_data_WBC_before_stroke_sorted['WBC_VALUE'].hist(bins=100)"
   ]
  },
  {
   "cell_type": "markdown",
   "metadata": {},
   "source": [
    "# $\\color{BLUE}{\\text{Patients having afib at stroke index}}$"
   ]
  },
  {
   "cell_type": "code",
   "execution_count": 24,
   "metadata": {},
   "outputs": [
    {
     "name": "stdout",
     "output_type": "stream",
     "text": [
      "BMI  758\n",
      "CRP  42\n",
      "ESR  96\n",
      "GFR  756\n",
      "HB  803\n",
      "HBA1C  711\n",
      "HCT  786\n",
      "HDL  411\n",
      "LDL  414\n",
      "PLT  782\n",
      "WBC  778\n"
     ]
    }
   ],
   "source": [
    "Lab_data_BMI_before_stroke_at_index = Lab_data_BMI_refined[Lab_data_BMI_refined['PT_ID'].isin(data_afib_diagnosed_before_storke_at_index['PT_ID'])]\n",
    "print('BMI ',Lab_data_BMI_before_stroke_at_index['PT_ID'].nunique())\n",
    "Lab_data_CRP_before_stroke_at_index = Lab_data_CRP_refined[Lab_data_CRP_refined['PT_ID'].isin(data_afib_diagnosed_before_storke_at_index['PT_ID'])]\n",
    "print('CRP ',Lab_data_CRP_before_stroke_at_index['PT_ID'].nunique())\n",
    "Lab_data_ESR_before_stroke_at_index = Lab_data_ESR_refined[Lab_data_ESR_refined['PT_ID'].isin(data_afib_diagnosed_before_storke_at_index['PT_ID'])]\n",
    "print('ESR ',Lab_data_ESR_before_stroke_at_index['PT_ID'].nunique())\n",
    "Lab_data_GFR_before_stroke_at_index = Lab_data_GFR_refined[Lab_data_GFR_refined['PT_ID'].isin(data_afib_diagnosed_before_storke_at_index['PT_ID'])]\n",
    "print('GFR ',Lab_data_GFR_before_stroke_at_index['PT_ID'].nunique())\n",
    "Lab_data_HB_before_stroke_at_index = Lab_data_HB_refined[Lab_data_HB_refined['PT_ID'].isin(data_afib_diagnosed_before_storke_at_index['PT_ID'])]\n",
    "print('HB ',Lab_data_HB_before_stroke_at_index['PT_ID'].nunique())\n",
    "Lab_data_HBA1C_before_stroke_at_index = Lab_data_HBA1C_refined[Lab_data_HBA1C_refined['PT_ID'].isin(data_afib_diagnosed_before_storke_at_index['PT_ID'])]\n",
    "print('HBA1C ',Lab_data_HBA1C_before_stroke_at_index['PT_ID'].nunique())\n",
    "Lab_data_HCT_before_stroke_at_index = Lab_data_HCT_refined[Lab_data_HCT_refined['PT_ID'].isin(data_afib_diagnosed_before_storke_at_index['PT_ID'])]\n",
    "print('HCT ',Lab_data_HCT_before_stroke_at_index['PT_ID'].nunique())\n",
    "Lab_data_HDL_before_stroke_at_index = Lab_data_HDL_refined[Lab_data_HDL_refined['PT_ID'].isin(data_afib_diagnosed_before_storke_at_index['PT_ID'])]\n",
    "print('HDL ',Lab_data_HDL_before_stroke_at_index['PT_ID'].nunique())\n",
    "Lab_data_LDL_before_stroke_at_index = Lab_data_LDL_refined[Lab_data_LDL_refined['PT_ID'].isin(data_afib_diagnosed_before_storke_at_index['PT_ID'])]\n",
    "print('LDL ',Lab_data_LDL_before_stroke_at_index['PT_ID'].nunique())\n",
    "Lab_data_PLT_before_stroke_at_index = Lab_data_PLT_refined[Lab_data_PLT_refined['PT_ID'].isin(data_afib_diagnosed_before_storke_at_index['PT_ID'])]\n",
    "print('PLT ',Lab_data_PLT_before_stroke_at_index['PT_ID'].nunique())\n",
    "Lab_data_WBC_before_stroke_at_index = Lab_data_WBC_refined[Lab_data_WBC_refined['PT_ID'].isin(data_afib_diagnosed_before_storke_at_index['PT_ID'])]\n",
    "print('WBC ',Lab_data_WBC_before_stroke_at_index['PT_ID'].nunique())"
   ]
  },
  {
   "cell_type": "code",
   "execution_count": 25,
   "metadata": {},
   "outputs": [
    {
     "name": "stdout",
     "output_type": "stream",
     "text": [
      "BMI \n",
      "        BMI_VALUE  TIME_DIFF_BMI_INDEX\n",
      "count     758.00               758.00\n",
      "mean       29.19               -18.20\n",
      "std         6.75                93.57\n",
      "min        15.90             -1073.00\n",
      "25%        24.60                 0.00\n",
      "50%        28.00                 0.00\n",
      "75%        32.50                 0.00\n",
      "max        60.80                 0.00\n",
      "CRP \n",
      "        CRP_VALUE  TIME_DIFF_CRP_INDEX\n",
      "count      42.00                42.00\n",
      "mean       39.45              -298.14\n",
      "std        55.05               347.59\n",
      "min         0.48             -1084.00\n",
      "25%         3.25              -500.50\n",
      "50%         9.50              -125.50\n",
      "75%        62.75                 0.00\n",
      "max       273.00                 0.00\n",
      "ESR \n",
      "        ESR_VALUE  TIME_DIFF_ESR_INDEX\n",
      "count      96.00                96.00\n",
      "mean       30.80              -242.12\n",
      "std        24.65               330.17\n",
      "min         2.00             -1090.00\n",
      "25%        11.00              -415.75\n",
      "50%        23.00               -44.00\n",
      "75%        44.00                 0.00\n",
      "max       113.00                 0.00\n",
      "GFR \n",
      "        GFR_VALUE  TIME_DIFF_GFR_INDEX\n",
      "count     756.00               756.00\n",
      "mean       53.39               -26.54\n",
      "std        11.39               118.68\n",
      "min        15.00             -1012.00\n",
      "25%        50.20                 0.00\n",
      "50%        60.00                 0.00\n",
      "75%        60.00                 0.00\n",
      "max        60.00                 0.00\n",
      "HB \n",
      "        HB_VALUE  TIME_DIFF_HB_INDEX\n",
      "count    803.00              803.00\n",
      "mean      13.53              -65.85\n",
      "std        1.86              396.10\n",
      "min        7.40            -4978.00\n",
      "25%       12.40                0.00\n",
      "50%       13.70                0.00\n",
      "75%       14.80                0.00\n",
      "max       19.00                0.00\n",
      "HBA1C \n",
      "        HBA1C_VALUE  TIME_DIFF_HBA1C_INDEX\n",
      "count       711.00                 711.00\n",
      "mean          6.23                 207.76\n",
      "std           1.28                 351.18\n",
      "min           4.20                   0.00\n",
      "25%           5.50                   0.00\n",
      "50%           5.90                   1.00\n",
      "75%           6.50                 321.00\n",
      "max          13.00                1093.00\n",
      "HCT \n",
      "        HCT_VALUE  TIME_DIFF_HCT_INDEX\n",
      "count     786.00               786.00\n",
      "mean       40.29               -13.28\n",
      "std         5.09                88.41\n",
      "min        25.00             -1011.00\n",
      "25%        37.00                 0.00\n",
      "50%        41.00                 0.00\n",
      "75%        44.00                 0.00\n",
      "max        56.00                 0.00\n",
      "HDL \n",
      "        HDL_VALUE  TIME_DIFF_HDL_INDEX\n",
      "count     411.00               411.00\n",
      "mean       49.94              -161.54\n",
      "std        14.78               254.81\n",
      "min        15.00             -1094.00\n",
      "25%        40.00              -229.50\n",
      "50%        48.00               -27.00\n",
      "75%        58.00                 0.00\n",
      "max       100.00                 0.00\n",
      "LDL \n",
      "        LDL_VALUE  TIME_DIFF_LDL_INDEX\n",
      "count     414.00               414.00\n",
      "mean       95.01              -152.42\n",
      "std        41.11               245.46\n",
      "min         0.00             -1094.00\n",
      "25%        69.00              -203.75\n",
      "50%        88.50               -29.00\n",
      "75%       116.75                 0.00\n",
      "max       400.00                 0.00\n",
      "PLT \n",
      "        PLT_VALUE  TIME_DIFF_PLT_INDEX\n",
      "count     782.00               782.00\n",
      "mean      224.41               -13.54\n",
      "std        79.99                88.95\n",
      "min        57.00             -1011.00\n",
      "25%       176.00                 0.00\n",
      "50%       211.00                 0.00\n",
      "75%       257.00                 0.00\n",
      "max       829.00                 0.00\n",
      "WBC \n",
      "        WBC_VALUE  TIME_DIFF_WBC_INDEX\n",
      "count     778.00               778.00\n",
      "mean        9.22               -13.46\n",
      "std         3.15                89.09\n",
      "min         2.06             -1011.00\n",
      "25%         6.99                 0.00\n",
      "50%         8.61                 0.00\n",
      "75%        10.84                 0.00\n",
      "max        23.84                 0.00\n"
     ]
    }
   ],
   "source": [
    "Lab_data_BMI_before_stroke_at_index_sorted = Lab_data_BMI_before_stroke_at_index.sort_values(by=['TIME_DIFF_BMI_INDEX'],ascending=False).drop_duplicates(subset=['PT_ID'])\n",
    "print('BMI \\n',Lab_data_BMI_before_stroke_at_index_sorted.describe())\n",
    "Lab_data_CRP_before_stroke_at_index_sorted = Lab_data_CRP_before_stroke_at_index.sort_values(by=['TIME_DIFF_CRP_INDEX'],ascending=False).drop_duplicates(subset=['PT_ID'])\n",
    "print('CRP \\n',Lab_data_CRP_before_stroke_at_index_sorted.describe())\n",
    "Lab_data_ESR_before_stroke_at_index_sorted = Lab_data_ESR_before_stroke_at_index.sort_values(by=['TIME_DIFF_ESR_INDEX'],ascending=False).drop_duplicates(subset=['PT_ID'])\n",
    "print('ESR \\n',Lab_data_ESR_before_stroke_at_index_sorted.describe())\n",
    "Lab_data_GFR_before_stroke_at_index_sorted = Lab_data_GFR_before_stroke_at_index.sort_values(by=['TIME_DIFF_GFR_INDEX'],ascending=False).drop_duplicates(subset=['PT_ID'])\n",
    "print('GFR \\n',Lab_data_GFR_before_stroke_at_index_sorted.describe())\n",
    "Lab_data_HB_before_stroke_at_index_sorted = Lab_data_HB_before_stroke_at_index.sort_values(by=['TIME_DIFF_HB_INDEX'],ascending=False).drop_duplicates(subset=['PT_ID'])\n",
    "print('HB \\n',Lab_data_HB_before_stroke_at_index_sorted.describe())\n",
    "Lab_data_HBA1C_before_stroke_at_index_sorted = Lab_data_HBA1C_before_stroke_at_index.sort_values(by=['TIME_DIFF_HBA1C_INDEX'],ascending=False).drop_duplicates(subset=['PT_ID'])\n",
    "print('HBA1C \\n',Lab_data_HBA1C_before_stroke_at_index_sorted.describe())\n",
    "Lab_data_HCT_before_stroke_at_index_sorted = Lab_data_HCT_before_stroke_at_index.sort_values(by=['TIME_DIFF_HCT_INDEX'],ascending=False).drop_duplicates(subset=['PT_ID'])\n",
    "print('HCT \\n',Lab_data_HCT_before_stroke_at_index_sorted.describe())\n",
    "Lab_data_HDL_before_stroke_at_index_sorted = Lab_data_HDL_before_stroke_at_index.sort_values(by=['TIME_DIFF_HDL_INDEX'],ascending=False).drop_duplicates(subset=['PT_ID'])\n",
    "print('HDL \\n',Lab_data_HDL_before_stroke_at_index_sorted.describe())\n",
    "Lab_data_LDL_before_stroke_at_index_sorted =Lab_data_LDL_before_stroke_at_index.sort_values(by=['TIME_DIFF_LDL_INDEX'],ascending=False).drop_duplicates(subset=['PT_ID'])\n",
    "print('LDL \\n',Lab_data_LDL_before_stroke_at_index_sorted.describe())\n",
    "Lab_data_PLT_before_stroke_at_index_sorted = Lab_data_PLT_before_stroke_at_index.sort_values(by=['TIME_DIFF_PLT_INDEX'],ascending=False).drop_duplicates(subset=['PT_ID'])\n",
    "print('PLT \\n',Lab_data_PLT_before_stroke_at_index_sorted.describe())\n",
    "Lab_data_WBC_before_stroke_at_index_sorted = Lab_data_WBC_before_stroke_at_index.sort_values(by=['TIME_DIFF_WBC_INDEX'],ascending=False).drop_duplicates(subset=['PT_ID'])\n",
    "print('WBC \\n',Lab_data_WBC_before_stroke_at_index_sorted.describe())"
   ]
  },
  {
   "cell_type": "markdown",
   "metadata": {},
   "source": [
    "# $\\color{BLUE}{\\text{Patients having afib within 3 years after stroke index}}$"
   ]
  },
  {
   "cell_type": "code",
   "execution_count": 26,
   "metadata": {},
   "outputs": [
    {
     "name": "stdout",
     "output_type": "stream",
     "text": [
      "BMI  523\n",
      "CRP  49\n",
      "ESR  107\n",
      "GFR  536\n",
      "HB  552\n",
      "HBA1C  476\n",
      "HCT  536\n",
      "HDL  329\n",
      "LDL  335\n",
      "PLT  535\n",
      "WBC  534\n"
     ]
    }
   ],
   "source": [
    "Lab_data_BMI_after_storke_within_3_years = Lab_data_BMI_refined[Lab_data_BMI_refined['PT_ID'].isin(data_afib_diagnosed_after_storke_within_3_years['PT_ID'])]\n",
    "print('BMI ',Lab_data_BMI_after_storke_within_3_years['PT_ID'].nunique())\n",
    "Lab_data_CRP_after_storke_within_3_years = Lab_data_CRP_refined[Lab_data_CRP_refined['PT_ID'].isin(data_afib_diagnosed_after_storke_within_3_years['PT_ID'])]\n",
    "print('CRP ',Lab_data_CRP_after_storke_within_3_years['PT_ID'].nunique())\n",
    "Lab_data_ESR_after_storke_within_3_years = Lab_data_ESR_refined[Lab_data_ESR_refined['PT_ID'].isin(data_afib_diagnosed_after_storke_within_3_years['PT_ID'])]\n",
    "print('ESR ',Lab_data_ESR_after_storke_within_3_years['PT_ID'].nunique())\n",
    "Lab_data_GFR_after_storke_within_3_years = Lab_data_GFR_refined[Lab_data_GFR_refined['PT_ID'].isin(data_afib_diagnosed_after_storke_within_3_years['PT_ID'])]\n",
    "print('GFR ',Lab_data_GFR_after_storke_within_3_years['PT_ID'].nunique())\n",
    "Lab_data_HB_after_storke_within_3_years = Lab_data_HB_refined[Lab_data_HB_refined['PT_ID'].isin(data_afib_diagnosed_after_storke_within_3_years['PT_ID'])]\n",
    "print('HB ',Lab_data_HB_after_storke_within_3_years['PT_ID'].nunique())\n",
    "Lab_data_HBA1C_after_storke_within_3_years = Lab_data_HBA1C_refined[Lab_data_HBA1C_refined['PT_ID'].isin(data_afib_diagnosed_after_storke_within_3_years['PT_ID'])]\n",
    "print('HBA1C ',Lab_data_HBA1C_after_storke_within_3_years['PT_ID'].nunique())\n",
    "Lab_data_HCT_after_storke_within_3_years = Lab_data_HCT_refined[Lab_data_HCT_refined['PT_ID'].isin(data_afib_diagnosed_after_storke_within_3_years['PT_ID'])]\n",
    "print('HCT ',Lab_data_HCT_after_storke_within_3_years['PT_ID'].nunique())\n",
    "Lab_data_HDL_after_storke_within_3_years = Lab_data_HDL_refined[Lab_data_HDL_refined['PT_ID'].isin(data_afib_diagnosed_after_storke_within_3_years['PT_ID'])]\n",
    "print('HDL ',Lab_data_HDL_after_storke_within_3_years['PT_ID'].nunique())\n",
    "Lab_data_LDL_after_storke_within_3_years = Lab_data_LDL_refined[Lab_data_LDL_refined['PT_ID'].isin(data_afib_diagnosed_after_storke_within_3_years['PT_ID'])]\n",
    "print('LDL ',Lab_data_LDL_after_storke_within_3_years['PT_ID'].nunique())\n",
    "Lab_data_PLT_after_storke_within_3_years = Lab_data_PLT_refined[Lab_data_PLT_refined['PT_ID'].isin(data_afib_diagnosed_after_storke_within_3_years['PT_ID'])]\n",
    "print('PLT ',Lab_data_PLT_after_storke_within_3_years['PT_ID'].nunique())\n",
    "Lab_data_WBC_after_storke_within_3_years = Lab_data_WBC_refined[Lab_data_WBC_refined['PT_ID'].isin(data_afib_diagnosed_after_storke_within_3_years['PT_ID'])]\n",
    "print('WBC ',Lab_data_WBC_after_storke_within_3_years['PT_ID'].nunique())"
   ]
  },
  {
   "cell_type": "code",
   "execution_count": 27,
   "metadata": {},
   "outputs": [
    {
     "name": "stdout",
     "output_type": "stream",
     "text": [
      "BMI \n",
      "        BMI_VALUE  TIME_DIFF_BMI_INDEX\n",
      "count     523.00               523.00\n",
      "mean       29.77               -29.99\n",
      "std         6.61               124.39\n",
      "min        16.10             -1091.00\n",
      "25%        25.45                 0.00\n",
      "50%        28.70                 0.00\n",
      "75%        33.35                 0.00\n",
      "max        62.00                 0.00\n",
      "CRP \n",
      "        CRP_VALUE  TIME_DIFF_CRP_INDEX\n",
      "count      49.00                49.00\n",
      "mean       40.20              -297.08\n",
      "std        67.71               308.75\n",
      "min         0.42              -969.00\n",
      "25%         2.00              -481.00\n",
      "50%         5.00              -204.00\n",
      "75%        42.00               -14.00\n",
      "max       286.00                 0.00\n",
      "ESR \n",
      "        ESR_VALUE  TIME_DIFF_ESR_INDEX\n",
      "count     107.00               107.00\n",
      "mean       30.87              -250.37\n",
      "std        26.28               322.24\n",
      "min         0.00             -1044.00\n",
      "25%        11.00              -405.50\n",
      "50%        21.00               -54.00\n",
      "75%        41.00                 0.00\n",
      "max       112.00                 0.00\n",
      "GFR \n",
      "        GFR_VALUE  TIME_DIFF_GFR_INDEX\n",
      "count     536.00               536.00\n",
      "mean       52.15               -16.53\n",
      "std        12.54                90.84\n",
      "min        15.00             -1077.00\n",
      "25%        47.15                 0.00\n",
      "50%        60.00                 0.00\n",
      "75%        60.00                 0.00\n",
      "max        60.00                 0.00\n",
      "HB \n",
      "        HB_VALUE  TIME_DIFF_HB_INDEX\n",
      "count    552.00              552.00\n",
      "mean      13.32              -96.33\n",
      "std        1.85              573.71\n",
      "min        7.10            -6566.00\n",
      "25%       12.00                0.00\n",
      "50%       13.30                0.00\n",
      "75%       14.60                0.00\n",
      "max       19.00                0.00\n",
      "HBA1C \n",
      "        HBA1C_VALUE  TIME_DIFF_HBA1C_INDEX\n",
      "count       476.00                 476.00\n",
      "mean          6.24                 366.61\n",
      "std           1.13                 403.17\n",
      "min           4.60                   0.00\n",
      "25%           5.50                   1.00\n",
      "50%           5.90                 197.50\n",
      "75%           6.70                 776.75\n",
      "max          13.00                1094.00\n",
      "HCT \n",
      "        HCT_VALUE  TIME_DIFF_HCT_INDEX\n",
      "count     536.00               536.00\n",
      "mean       39.51               -10.16\n",
      "std         5.12                66.25\n",
      "min        25.00              -634.00\n",
      "25%        36.00                 0.00\n",
      "50%        40.00                 0.00\n",
      "75%        43.00                 0.00\n",
      "max        62.00                 0.00\n",
      "HDL \n",
      "        HDL_VALUE  TIME_DIFF_HDL_INDEX\n",
      "count     329.00               329.00\n",
      "mean       49.21              -158.15\n",
      "std        14.79               233.32\n",
      "min        17.00             -1088.00\n",
      "25%        39.00              -235.00\n",
      "50%        48.00               -58.00\n",
      "75%        58.00                 0.00\n",
      "max       100.00                 0.00\n",
      "LDL \n",
      "        LDL_VALUE  TIME_DIFF_LDL_INDEX\n",
      "count     335.00               335.00\n",
      "mean       95.67              -162.20\n",
      "std        35.65               240.85\n",
      "min        30.00             -1088.00\n",
      "25%        72.20              -237.00\n",
      "50%        91.00               -58.00\n",
      "75%       113.50                 0.00\n",
      "max       234.00                 0.00\n",
      "PLT \n",
      "        PLT_VALUE  TIME_DIFF_PLT_INDEX\n",
      "count     535.00               535.00\n",
      "mean      228.31               -11.40\n",
      "std        77.54                73.85\n",
      "min        57.00              -793.00\n",
      "25%       181.00                 0.00\n",
      "50%       219.00                 0.00\n",
      "75%       258.50                 0.00\n",
      "max       846.00                 0.00\n",
      "WBC \n",
      "        WBC_VALUE  TIME_DIFF_WBC_INDEX\n",
      "count     534.00               534.00\n",
      "mean        8.67               -11.91\n",
      "std         3.05                74.69\n",
      "min         1.00              -793.00\n",
      "25%         6.67                 0.00\n",
      "50%         8.17                 0.00\n",
      "75%        10.02                 0.00\n",
      "max        20.83                 0.00\n"
     ]
    }
   ],
   "source": [
    "Lab_data_BMI_after_storke_within_3_years = Lab_data_BMI_after_storke_within_3_years.sort_values(by=['TIME_DIFF_BMI_INDEX'],ascending=False).drop_duplicates(subset=['PT_ID'])\n",
    "print('BMI \\n',Lab_data_BMI_after_storke_within_3_years.describe())\n",
    "Lab_data_CRP_after_storke_within_3_years = Lab_data_CRP_after_storke_within_3_years.sort_values(by=['TIME_DIFF_CRP_INDEX'],ascending=False).drop_duplicates(subset=['PT_ID'])\n",
    "print('CRP \\n',Lab_data_CRP_after_storke_within_3_years.describe())\n",
    "Lab_data_ESR_after_storke_within_3_years = Lab_data_ESR_after_storke_within_3_years.sort_values(by=['TIME_DIFF_ESR_INDEX'],ascending=False).drop_duplicates(subset=['PT_ID'])\n",
    "print('ESR \\n',Lab_data_ESR_after_storke_within_3_years.describe())\n",
    "Lab_data_GFR_after_storke_within_3_years = Lab_data_GFR_after_storke_within_3_years.sort_values(by=['TIME_DIFF_GFR_INDEX'],ascending=False).drop_duplicates(subset=['PT_ID'])\n",
    "print('GFR \\n',Lab_data_GFR_after_storke_within_3_years.describe())\n",
    "Lab_data_HB_after_storke_within_3_years = Lab_data_HB_after_storke_within_3_years.sort_values(by=['TIME_DIFF_HB_INDEX'],ascending=False).drop_duplicates(subset=['PT_ID'])\n",
    "print('HB \\n',Lab_data_HB_after_storke_within_3_years.describe())\n",
    "Lab_data_HBA1C_after_storke_within_3_years = Lab_data_HBA1C_after_storke_within_3_years.sort_values(by=['TIME_DIFF_HBA1C_INDEX'],ascending=False).drop_duplicates(subset=['PT_ID'])\n",
    "print('HBA1C \\n',Lab_data_HBA1C_after_storke_within_3_years.describe())\n",
    "Lab_data_HCT_after_storke_within_3_years= Lab_data_HCT_after_storke_within_3_years.sort_values(by=['TIME_DIFF_HCT_INDEX'],ascending=False).drop_duplicates(subset=['PT_ID'])\n",
    "print('HCT \\n',Lab_data_HCT_after_storke_within_3_years.describe())\n",
    "Lab_data_HDL_after_storke_within_3_years = Lab_data_HDL_after_storke_within_3_years.sort_values(by=['TIME_DIFF_HDL_INDEX'],ascending=False).drop_duplicates(subset=['PT_ID'])\n",
    "print('HDL \\n',Lab_data_HDL_after_storke_within_3_years.describe())\n",
    "Lab_data_LDL_after_storke_within_3_years =Lab_data_LDL_after_storke_within_3_years.sort_values(by=['TIME_DIFF_LDL_INDEX'],ascending=False).drop_duplicates(subset=['PT_ID'])\n",
    "print('LDL \\n',Lab_data_LDL_after_storke_within_3_years.describe())\n",
    "Lab_data_PLT_after_storke_within_3_years = Lab_data_PLT_after_storke_within_3_years.sort_values(by=['TIME_DIFF_PLT_INDEX'],ascending=False).drop_duplicates(subset=['PT_ID'])\n",
    "print('PLT \\n',Lab_data_PLT_after_storke_within_3_years.describe())\n",
    "Lab_data_WBC_after_storke_within_3_years = Lab_data_WBC_after_storke_within_3_years.sort_values(by=['TIME_DIFF_WBC_INDEX'],ascending=False).drop_duplicates(subset=['PT_ID'])\n",
    "print('WBC \\n',Lab_data_WBC_after_storke_within_3_years.describe())"
   ]
  },
  {
   "cell_type": "markdown",
   "metadata": {},
   "source": [
    "# $\\color{BLUE}{\\text{Patients having afib 3 years after stroke index}}$"
   ]
  },
  {
   "cell_type": "code",
   "execution_count": 28,
   "metadata": {},
   "outputs": [
    {
     "name": "stdout",
     "output_type": "stream",
     "text": [
      "BMI  233\n",
      "CRP  18\n",
      "ESR  68\n",
      "GFR  250\n",
      "HB  260\n",
      "HBA1C  182\n",
      "HCT  250\n",
      "HDL  158\n",
      "LDL  157\n",
      "PLT  250\n",
      "WBC  250\n"
     ]
    }
   ],
   "source": [
    "Lab_data_BMI_other = Lab_data_BMI_refined[Lab_data_BMI_refined['PT_ID'].isin(data_afib_diagnosed_other['PT_ID'])]\n",
    "print('BMI ',Lab_data_BMI_other['PT_ID'].nunique())\n",
    "Lab_data_CRP_other = Lab_data_CRP_refined[Lab_data_CRP_refined['PT_ID'].isin(data_afib_diagnosed_other['PT_ID'])]\n",
    "print('CRP ',Lab_data_CRP_other['PT_ID'].nunique())\n",
    "Lab_data_ESR_other = Lab_data_ESR_refined[Lab_data_ESR_refined['PT_ID'].isin(data_afib_diagnosed_other['PT_ID'])]\n",
    "print('ESR ',Lab_data_ESR_other['PT_ID'].nunique())\n",
    "Lab_data_GFR_other = Lab_data_GFR_refined[Lab_data_GFR_refined['PT_ID'].isin(data_afib_diagnosed_other['PT_ID'])]\n",
    "print('GFR ',Lab_data_GFR_other['PT_ID'].nunique())\n",
    "Lab_data_HB_other = Lab_data_HB_refined[Lab_data_HB_refined['PT_ID'].isin(data_afib_diagnosed_other['PT_ID'])]\n",
    "print('HB ',Lab_data_HB_other['PT_ID'].nunique())\n",
    "Lab_data_HBA1C_other = Lab_data_HBA1C_refined[Lab_data_HBA1C_refined['PT_ID'].isin(data_afib_diagnosed_other['PT_ID'])]\n",
    "print('HBA1C ',Lab_data_HBA1C_other['PT_ID'].nunique())\n",
    "Lab_data_HCT_other = Lab_data_HCT_refined[Lab_data_HCT_refined['PT_ID'].isin(data_afib_diagnosed_other['PT_ID'])]\n",
    "print('HCT ',Lab_data_HCT_other['PT_ID'].nunique())\n",
    "Lab_data_HDL_other = Lab_data_HDL_refined[Lab_data_HDL_refined['PT_ID'].isin(data_afib_diagnosed_other['PT_ID'])]\n",
    "print('HDL ',Lab_data_HDL_other['PT_ID'].nunique())\n",
    "Lab_data_LDL_other = Lab_data_LDL_refined[Lab_data_LDL_refined['PT_ID'].isin(data_afib_diagnosed_other['PT_ID'])]\n",
    "print('LDL ',Lab_data_LDL_other['PT_ID'].nunique())\n",
    "Lab_data_PLT_other = Lab_data_PLT_refined[Lab_data_PLT_refined['PT_ID'].isin(data_afib_diagnosed_other['PT_ID'])]\n",
    "print('PLT ',Lab_data_PLT_other['PT_ID'].nunique())\n",
    "Lab_data_WBC_other = Lab_data_WBC_refined[Lab_data_WBC_refined['PT_ID'].isin(data_afib_diagnosed_other['PT_ID'])]\n",
    "print('WBC ',Lab_data_WBC_other['PT_ID'].nunique())"
   ]
  },
  {
   "cell_type": "code",
   "execution_count": 29,
   "metadata": {},
   "outputs": [
    {
     "name": "stdout",
     "output_type": "stream",
     "text": [
      "BMI \n",
      "        BMI_VALUE  TIME_DIFF_BMI_INDEX\n",
      "count     233.00               233.00\n",
      "mean       30.61               -50.87\n",
      "std         7.36               149.61\n",
      "min        16.50             -1073.00\n",
      "25%        25.80               -26.00\n",
      "50%        29.50                 0.00\n",
      "75%        33.70                 0.00\n",
      "max        65.50                 0.00\n",
      "CRP \n",
      "        CRP_VALUE  TIME_DIFF_CRP_INDEX\n",
      "count      18.00                18.00\n",
      "mean       49.10              -350.50\n",
      "std        88.72               378.38\n",
      "min         0.82             -1084.00\n",
      "25%         1.72              -649.50\n",
      "50%        12.00              -253.00\n",
      "75%        36.95                -2.25\n",
      "max       297.00                 0.00\n",
      "ESR \n",
      "        ESR_VALUE  TIME_DIFF_ESR_INDEX\n",
      "count      68.00                68.00\n",
      "mean       27.09              -306.49\n",
      "std        20.45               363.58\n",
      "min         1.00             -1084.00\n",
      "25%        10.00              -494.25\n",
      "50%        24.50              -146.50\n",
      "75%        38.50                 0.00\n",
      "max        75.00                 0.00\n",
      "GFR \n",
      "        GFR_VALUE  TIME_DIFF_GFR_INDEX\n",
      "count     250.00               250.00\n",
      "mean       55.51                -6.80\n",
      "std         9.62                36.82\n",
      "min        15.00              -347.00\n",
      "25%        57.50                 0.00\n",
      "50%        60.00                 0.00\n",
      "75%        60.00                 0.00\n",
      "max        60.00                 0.00\n",
      "HB \n",
      "        HB_VALUE  TIME_DIFF_HB_INDEX\n",
      "count    260.00              260.00\n",
      "mean      13.65              -92.92\n",
      "std        1.62              427.86\n",
      "min        8.60            -3434.00\n",
      "25%       12.67                0.00\n",
      "50%       13.80                0.00\n",
      "75%       14.80                0.00\n",
      "max       17.70                0.00\n",
      "HBA1C \n",
      "        HBA1C_VALUE  TIME_DIFF_HBA1C_INDEX\n",
      "count       182.00                 182.00\n",
      "mean          6.55                 547.85\n",
      "std           1.31                 461.24\n",
      "min           4.40                   0.00\n",
      "25%           5.70                   1.00\n",
      "50%           6.20                 686.00\n",
      "75%           7.18                1011.75\n",
      "max          13.00                1094.00\n",
      "HCT \n",
      "        HCT_VALUE  TIME_DIFF_HCT_INDEX\n",
      "count     250.00               250.00\n",
      "mean       39.99               -13.14\n",
      "std         4.42                74.55\n",
      "min        26.00              -957.00\n",
      "25%        37.00                 0.00\n",
      "50%        40.00                 0.00\n",
      "75%        43.00                 0.00\n",
      "max        51.00                 0.00\n",
      "HDL \n",
      "        HDL_VALUE  TIME_DIFF_HDL_INDEX\n",
      "count     158.00               158.00\n",
      "mean       51.13              -191.18\n",
      "std        15.80               260.10\n",
      "min        22.00             -1048.00\n",
      "25%        41.00              -280.00\n",
      "50%        48.00               -78.50\n",
      "75%        58.00                 0.00\n",
      "max       100.00                 0.00\n",
      "LDL \n",
      "        LDL_VALUE  TIME_DIFF_LDL_INDEX\n",
      "count     157.00               157.00\n",
      "mean      105.89              -174.78\n",
      "std        43.16               244.14\n",
      "min        12.00             -1091.00\n",
      "25%        80.00              -231.00\n",
      "50%        96.00               -73.00\n",
      "75%       122.00                 0.00\n",
      "max       400.00                 0.00\n",
      "PLT \n",
      "        PLT_VALUE  TIME_DIFF_PLT_INDEX\n",
      "count     250.00               250.00\n",
      "mean      228.48               -13.15\n",
      "std        69.96                74.56\n",
      "min        39.00              -957.00\n",
      "25%       184.00                 0.00\n",
      "50%       222.00                 0.00\n",
      "75%       265.75                 0.00\n",
      "max       554.00                 0.00\n",
      "WBC \n",
      "        WBC_VALUE  TIME_DIFF_WBC_INDEX\n",
      "count     250.00               250.00\n",
      "mean        8.43               -13.15\n",
      "std         3.06                74.56\n",
      "min         3.12              -957.00\n",
      "25%         6.44                 0.00\n",
      "50%         7.81                 0.00\n",
      "75%         9.52                 0.00\n",
      "max        23.33                 0.00\n"
     ]
    }
   ],
   "source": [
    "Lab_data_BMI_other= Lab_data_BMI_other.sort_values(by=['TIME_DIFF_BMI_INDEX'],ascending=False).drop_duplicates(subset=['PT_ID'])\n",
    "print('BMI \\n',Lab_data_BMI_other.describe())\n",
    "Lab_data_CRP_other = Lab_data_CRP_other.sort_values(by=['TIME_DIFF_CRP_INDEX'],ascending=False).drop_duplicates(subset=['PT_ID'])\n",
    "print('CRP \\n',Lab_data_CRP_other.describe())\n",
    "Lab_data_ESR_other = Lab_data_ESR_other.sort_values(by=['TIME_DIFF_ESR_INDEX'],ascending=False).drop_duplicates(subset=['PT_ID'])\n",
    "print('ESR \\n',Lab_data_ESR_other.describe())\n",
    "Lab_data_GFR_other = Lab_data_GFR_other.sort_values(by=['TIME_DIFF_GFR_INDEX'],ascending=False).drop_duplicates(subset=['PT_ID'])\n",
    "print('GFR \\n',Lab_data_GFR_other.describe())\n",
    "Lab_data_HB_other = Lab_data_HB_other.sort_values(by=['TIME_DIFF_HB_INDEX'],ascending=False).drop_duplicates(subset=['PT_ID'])\n",
    "print('HB \\n',Lab_data_HB_other.describe())\n",
    "Lab_data_HBA1C_other = Lab_data_HBA1C_other.sort_values(by=['TIME_DIFF_HBA1C_INDEX'],ascending=False).drop_duplicates(subset=['PT_ID'])\n",
    "print('HBA1C \\n',Lab_data_HBA1C_other.describe())\n",
    "Lab_data_HCT_other = Lab_data_HCT_other.sort_values(by=['TIME_DIFF_HCT_INDEX'],ascending=False).drop_duplicates(subset=['PT_ID'])\n",
    "print('HCT \\n',Lab_data_HCT_other.describe())\n",
    "Lab_data_HDL_other = Lab_data_HDL_other.sort_values(by=['TIME_DIFF_HDL_INDEX'],ascending=False).drop_duplicates(subset=['PT_ID'])\n",
    "print('HDL \\n',Lab_data_HDL_other.describe())\n",
    "Lab_data_LDL_other =Lab_data_LDL_other.sort_values(by=['TIME_DIFF_LDL_INDEX'],ascending=False).drop_duplicates(subset=['PT_ID'])\n",
    "print('LDL \\n',Lab_data_LDL_other.describe())\n",
    "Lab_data_PLT_other = Lab_data_PLT_other.sort_values(by=['TIME_DIFF_PLT_INDEX'],ascending=False).drop_duplicates(subset=['PT_ID'])\n",
    "print('PLT \\n',Lab_data_PLT_other.describe())\n",
    "Lab_data_WBC_other= Lab_data_WBC_other.sort_values(by=['TIME_DIFF_WBC_INDEX'],ascending=False).drop_duplicates(subset=['PT_ID'])\n",
    "print('WBC \\n',Lab_data_WBC_other.describe())"
   ]
  },
  {
   "cell_type": "markdown",
   "metadata": {},
   "source": [
    "# $\\color{RED}{\\text{Patients having no Afib at all}}$"
   ]
  },
  {
   "cell_type": "code",
   "execution_count": 30,
   "metadata": {},
   "outputs": [
    {
     "name": "stdout",
     "output_type": "stream",
     "text": [
      "BMI  5418\n",
      "CRP  603\n",
      "ESR  1312\n",
      "GFR  5576\n",
      "HB  5785\n",
      "HBA1C  4888\n",
      "HCT  5686\n",
      "HDL  3331\n",
      "LDL  3383\n",
      "PLT  5687\n",
      "WBC  5683\n"
     ]
    }
   ],
   "source": [
    "Lab_data_BMI_non_afib = Lab_data_BMI_refined[Lab_data_BMI_refined['PT_ID'].isin(geisinger_non_afib_panda['PT_ID'])]\n",
    "print('BMI ',Lab_data_BMI_non_afib['PT_ID'].nunique())\n",
    "Lab_data_CRP_non_afib = Lab_data_CRP_refined[Lab_data_CRP_refined['PT_ID'].isin(geisinger_non_afib_panda['PT_ID'])]\n",
    "print('CRP ',Lab_data_CRP_non_afib['PT_ID'].nunique())\n",
    "Lab_data_ESR_non_afib = Lab_data_ESR_refined[Lab_data_ESR_refined['PT_ID'].isin(geisinger_non_afib_panda['PT_ID'])]\n",
    "print('ESR ',Lab_data_ESR_non_afib['PT_ID'].nunique())\n",
    "Lab_data_GFR_non_afib= Lab_data_GFR_refined[Lab_data_GFR_refined['PT_ID'].isin(geisinger_non_afib_panda['PT_ID'])]\n",
    "print('GFR ',Lab_data_GFR_non_afib['PT_ID'].nunique())\n",
    "Lab_data_HB_non_afib = Lab_data_HB_refined[Lab_data_HB_refined['PT_ID'].isin(geisinger_non_afib_panda['PT_ID'])]\n",
    "print('HB ',Lab_data_HB_non_afib['PT_ID'].nunique())\n",
    "Lab_data_HBA1C_non_afib = Lab_data_HBA1C_refined[Lab_data_HBA1C_refined['PT_ID'].isin(geisinger_non_afib_panda['PT_ID'])]\n",
    "print('HBA1C ',Lab_data_HBA1C_non_afib['PT_ID'].nunique())\n",
    "Lab_data_HCT_non_afib = Lab_data_HCT_refined[Lab_data_HCT_refined['PT_ID'].isin(geisinger_non_afib_panda['PT_ID'])]\n",
    "print('HCT ',Lab_data_HCT_non_afib['PT_ID'].nunique())\n",
    "Lab_data_HDL_non_afib = Lab_data_HDL_refined[Lab_data_HDL_refined['PT_ID'].isin(geisinger_non_afib_panda['PT_ID'])]\n",
    "print('HDL ',Lab_data_HDL_non_afib['PT_ID'].nunique())\n",
    "Lab_data_LDL_non_afib = Lab_data_LDL_refined[Lab_data_LDL_refined['PT_ID'].isin(geisinger_non_afib_panda['PT_ID'])]\n",
    "print('LDL ',Lab_data_LDL_non_afib['PT_ID'].nunique())\n",
    "Lab_data_PLT_non_afib = Lab_data_PLT_refined[Lab_data_PLT_refined['PT_ID'].isin(geisinger_non_afib_panda['PT_ID'])]\n",
    "print('PLT ',Lab_data_PLT_non_afib['PT_ID'].nunique())\n",
    "Lab_data_WBC_non_afib = Lab_data_WBC_refined[Lab_data_WBC_refined['PT_ID'].isin(geisinger_non_afib_panda['PT_ID'])]\n",
    "print('WBC ',Lab_data_WBC_non_afib['PT_ID'].nunique())"
   ]
  },
  {
   "cell_type": "code",
   "execution_count": 31,
   "metadata": {},
   "outputs": [
    {
     "name": "stdout",
     "output_type": "stream",
     "text": [
      "BMI \n",
      "        BMI_VALUE  TIME_DIFF_BMI_INDEX\n",
      "count    5418.00              5418.00\n",
      "mean       29.25               -24.20\n",
      "std         6.71               108.81\n",
      "min        15.00             -1084.00\n",
      "25%        24.70                 0.00\n",
      "50%        28.30                 0.00\n",
      "75%        32.80                 0.00\n",
      "max        85.40                 0.00\n",
      "CRP \n",
      "        CRP_VALUE  TIME_DIFF_CRP_INDEX\n",
      "count     603.00               603.00\n",
      "mean       26.17              -261.08\n",
      "std        53.61               325.23\n",
      "min         0.00             -1091.00\n",
      "25%         2.00              -493.00\n",
      "50%         5.00               -96.00\n",
      "75%        20.00                 0.00\n",
      "max       413.00                 0.00\n",
      "ESR \n",
      "        ESR_VALUE  TIME_DIFF_ESR_INDEX\n",
      "count    1312.00              1312.00\n",
      "mean       28.50              -238.15\n",
      "std        26.09               319.25\n",
      "min         0.00             -1088.00\n",
      "25%        10.00              -442.25\n",
      "50%        20.00               -43.50\n",
      "75%        38.00                 0.00\n",
      "max       141.00                 0.00\n",
      "GFR \n",
      "        GFR_VALUE  TIME_DIFF_GFR_INDEX\n",
      "count    5576.00              5576.00\n",
      "mean       54.86               -14.92\n",
      "std        10.87                85.07\n",
      "min        15.00             -1067.00\n",
      "25%        56.70                 0.00\n",
      "50%        60.00                 0.00\n",
      "75%        60.00                 0.00\n",
      "max        60.00                 0.00\n",
      "HB \n",
      "        HB_VALUE  TIME_DIFF_HB_INDEX\n",
      "count   5785.00             5785.00\n",
      "mean      13.77              -50.70\n",
      "std        1.95              373.03\n",
      "min        5.50            -7360.00\n",
      "25%       12.70                0.00\n",
      "50%       13.90                0.00\n",
      "75%       15.10                0.00\n",
      "max       20.00                0.00\n",
      "HBA1C \n",
      "        HBA1C_VALUE  TIME_DIFF_HBA1C_INDEX\n",
      "count      4888.00                4888.00\n",
      "mean          6.36                 236.81\n",
      "std           1.51                 363.09\n",
      "min           3.90                   0.00\n",
      "25%           5.40                   1.00\n",
      "50%           5.80                   1.00\n",
      "75%           6.80                 418.00\n",
      "max          13.00                1094.00\n",
      "HCT \n",
      "        HCT_VALUE  TIME_DIFF_HCT_INDEX\n",
      "count    5686.00              5686.00\n",
      "mean       40.71                -9.91\n",
      "std         5.17                72.75\n",
      "min        25.00             -1057.00\n",
      "25%        38.00                 0.00\n",
      "50%        41.00                 0.00\n",
      "75%        44.00                 0.00\n",
      "max        62.00                 0.00\n",
      "HDL \n",
      "        HDL_VALUE  TIME_DIFF_HDL_INDEX\n",
      "count    3331.00              3331.00\n",
      "mean       47.87              -181.61\n",
      "std        14.87               260.90\n",
      "min         6.00             -1094.00\n",
      "25%        37.00              -262.50\n",
      "50%        45.00               -59.00\n",
      "75%        56.00                 0.00\n",
      "max       100.00                 0.00\n",
      "LDL \n",
      "        LDL_VALUE  TIME_DIFF_LDL_INDEX\n",
      "count    3383.00              3383.00\n",
      "mean      106.28              -175.49\n",
      "std        41.14               250.91\n",
      "min         1.00             -1094.00\n",
      "25%        76.00              -251.00\n",
      "50%       102.00               -62.00\n",
      "75%       130.00                 0.00\n",
      "max       471.00                 0.00\n",
      "PLT \n",
      "        PLT_VALUE  TIME_DIFF_PLT_INDEX\n",
      "count    5687.00              5687.00\n",
      "mean      236.28                -9.66\n",
      "std        82.92                72.19\n",
      "min         4.00             -1057.00\n",
      "25%       185.00                 0.00\n",
      "50%       226.00                 0.00\n",
      "75%       274.00                 0.00\n",
      "max      1000.00                 0.00\n",
      "WBC \n",
      "        WBC_VALUE  TIME_DIFF_WBC_INDEX\n",
      "count    5683.00              5683.00\n",
      "mean        8.99               -10.31\n",
      "std         3.28                74.42\n",
      "min         0.36             -1057.00\n",
      "25%         6.79                 0.00\n",
      "50%         8.43                 0.00\n",
      "75%        10.48                 0.00\n",
      "max        24.87                 0.00\n"
     ]
    }
   ],
   "source": [
    "Lab_data_BMI_non_afib= Lab_data_BMI_non_afib.sort_values(by=['TIME_DIFF_BMI_INDEX'],ascending=False).drop_duplicates(subset=['PT_ID'])\n",
    "print('BMI \\n',Lab_data_BMI_non_afib.describe())\n",
    "Lab_data_CRP_non_afib = Lab_data_CRP_non_afib.sort_values(by=['TIME_DIFF_CRP_INDEX'],ascending=False).drop_duplicates(subset=['PT_ID'])\n",
    "print('CRP \\n',Lab_data_CRP_non_afib.describe())\n",
    "Lab_data_ESR_non_afib = Lab_data_ESR_non_afib.sort_values(by=['TIME_DIFF_ESR_INDEX'],ascending=False).drop_duplicates(subset=['PT_ID'])\n",
    "print('ESR \\n',Lab_data_ESR_non_afib.describe())\n",
    "Lab_data_GFR_non_afib = Lab_data_GFR_non_afib.sort_values(by=['TIME_DIFF_GFR_INDEX'],ascending=False).drop_duplicates(subset=['PT_ID'])\n",
    "print('GFR \\n',Lab_data_GFR_non_afib.describe())\n",
    "Lab_data_HB_non_afib = Lab_data_HB_non_afib.sort_values(by=['TIME_DIFF_HB_INDEX'],ascending=False).drop_duplicates(subset=['PT_ID'])\n",
    "print('HB \\n',Lab_data_HB_non_afib.describe())\n",
    "Lab_data_HBA1C_non_afib = Lab_data_HBA1C_non_afib.sort_values(by=['TIME_DIFF_HBA1C_INDEX'],ascending=False).drop_duplicates(subset=['PT_ID'])\n",
    "print('HBA1C \\n',Lab_data_HBA1C_non_afib.describe())\n",
    "Lab_data_HCT_non_afib = Lab_data_HCT_non_afib.sort_values(by=['TIME_DIFF_HCT_INDEX'],ascending=False).drop_duplicates(subset=['PT_ID'])\n",
    "print('HCT \\n',Lab_data_HCT_non_afib.describe())\n",
    "Lab_data_HDL_non_afib = Lab_data_HDL_non_afib.sort_values(by=['TIME_DIFF_HDL_INDEX'],ascending=False).drop_duplicates(subset=['PT_ID'])\n",
    "print('HDL \\n',Lab_data_HDL_non_afib.describe())\n",
    "Lab_data_LDL_non_afib =Lab_data_LDL_non_afib.sort_values(by=['TIME_DIFF_LDL_INDEX'],ascending=False).drop_duplicates(subset=['PT_ID'])\n",
    "print('LDL \\n',Lab_data_LDL_non_afib.describe())\n",
    "Lab_data_PLT_non_afib = Lab_data_PLT_non_afib.sort_values(by=['TIME_DIFF_PLT_INDEX'],ascending=False).drop_duplicates(subset=['PT_ID'])\n",
    "print('PLT \\n',Lab_data_PLT_non_afib.describe())\n",
    "Lab_data_WBC_non_afib= Lab_data_WBC_non_afib.sort_values(by=['TIME_DIFF_WBC_INDEX'],ascending=False).drop_duplicates(subset=['PT_ID'])\n",
    "print('WBC \\n',Lab_data_WBC_non_afib.describe())"
   ]
  },
  {
   "cell_type": "code",
   "execution_count": 32,
   "metadata": {},
   "outputs": [
    {
     "data": {
      "text/plain": [
       "PT_ID                  8003\n",
       "BMI_DT                 6436\n",
       "BMI_VALUE               505\n",
       "TIME_DIFF_BMI_INDEX    1095\n",
       "dtype: int64"
      ]
     },
     "execution_count": 32,
     "metadata": {},
     "output_type": "execute_result"
    }
   ],
   "source": [
    "Lab_data_BMI_refined.nunique()"
   ]
  },
  {
   "cell_type": "markdown",
   "metadata": {},
   "source": [
    "# having at least one follow up within 3 years and no afib"
   ]
  },
  {
   "cell_type": "code",
   "execution_count": 33,
   "metadata": {},
   "outputs": [],
   "source": [
    "data_full_non_afib_patients = pd.read_csv('data_full_non_afib_aflt_patients.csv')"
   ]
  },
  {
   "cell_type": "code",
   "execution_count": 34,
   "metadata": {},
   "outputs": [
    {
     "name": "stdout",
     "output_type": "stream",
     "text": [
      "6132\n",
      "5739\n"
     ]
    }
   ],
   "source": [
    "print(data_full_non_afib_patients['PT_ID'].nunique())\n",
    "data_full_non_afib_patients['INDEX_DT'] = pd.to_datetime(data_full_non_afib_patients['INDEX_DT'])\n",
    "data_full_non_afib_patients['ENC_DT'] = pd.to_datetime(data_full_non_afib_patients['ENC_DT'])\n",
    "data_full_non_afib_patients['Difference'] = (data_full_non_afib_patients['ENC_DT'] - data_full_non_afib_patients['INDEX_DT'])\n",
    "data_full_non_afib_patients['Difference_in_years'] = (data_full_non_afib_patients['ENC_DT'] - data_full_non_afib_patients['INDEX_DT'])/np.timedelta64(1,'Y')\n",
    "data_full_non_afib_encounter_after_stroke = data_full_non_afib_patients[data_full_non_afib_patients['Difference_in_years'] > 0]\n",
    "print(data_full_non_afib_encounter_after_stroke['PT_ID'].nunique())"
   ]
  },
  {
   "cell_type": "code",
   "execution_count": 35,
   "metadata": {},
   "outputs": [
    {
     "name": "stdout",
     "output_type": "stream",
     "text": [
      "2176\n"
     ]
    }
   ],
   "source": [
    "data_full_non_afib_patients_no_afib_3_years_follow_up = data_full_non_afib_encounter_after_stroke[data_full_non_afib_encounter_after_stroke['Difference_in_years'] > 3]\n",
    "print(data_full_non_afib_patients_no_afib_3_years_follow_up['PT_ID'].nunique())"
   ]
  },
  {
   "cell_type": "code",
   "execution_count": 36,
   "metadata": {},
   "outputs": [
    {
     "name": "stdout",
     "output_type": "stream",
     "text": [
      "BMI  1905\n",
      "CRP  241\n",
      "ESR  558\n",
      "GFR  1970\n",
      "HB  2035\n",
      "HBA1C  1648\n",
      "HCT  1993\n",
      "HDL  1259\n",
      "LDL  1278\n",
      "PLT  1993\n",
      "WBC  1994\n"
     ]
    }
   ],
   "source": [
    "Lab_data_BMI_non_afib = Lab_data_BMI_refined[Lab_data_BMI_refined['PT_ID'].isin(data_full_non_afib_patients_no_afib_3_years_follow_up['PT_ID'])]\n",
    "print('BMI ',Lab_data_BMI_non_afib['PT_ID'].nunique())\n",
    "Lab_data_CRP_non_afib = Lab_data_CRP_refined[Lab_data_CRP_refined['PT_ID'].isin(data_full_non_afib_patients_no_afib_3_years_follow_up['PT_ID'])]\n",
    "print('CRP ',Lab_data_CRP_non_afib['PT_ID'].nunique())\n",
    "Lab_data_ESR_non_afib = Lab_data_ESR_refined[Lab_data_ESR_refined['PT_ID'].isin(data_full_non_afib_patients_no_afib_3_years_follow_up['PT_ID'])]\n",
    "print('ESR ',Lab_data_ESR_non_afib['PT_ID'].nunique())\n",
    "Lab_data_GFR_non_afib= Lab_data_GFR_refined[Lab_data_GFR_refined['PT_ID'].isin(data_full_non_afib_patients_no_afib_3_years_follow_up['PT_ID'])]\n",
    "print('GFR ',Lab_data_GFR_non_afib['PT_ID'].nunique())\n",
    "Lab_data_HB_non_afib = Lab_data_HB_refined[Lab_data_HB_refined['PT_ID'].isin(data_full_non_afib_patients_no_afib_3_years_follow_up['PT_ID'])]\n",
    "print('HB ',Lab_data_HB_non_afib['PT_ID'].nunique())\n",
    "Lab_data_HBA1C_non_afib = Lab_data_HBA1C_refined[Lab_data_HBA1C_refined['PT_ID'].isin(data_full_non_afib_patients_no_afib_3_years_follow_up['PT_ID'])]\n",
    "print('HBA1C ',Lab_data_HBA1C_non_afib['PT_ID'].nunique())\n",
    "Lab_data_HCT_non_afib = Lab_data_HCT_refined[Lab_data_HCT_refined['PT_ID'].isin(data_full_non_afib_patients_no_afib_3_years_follow_up['PT_ID'])]\n",
    "print('HCT ',Lab_data_HCT_non_afib['PT_ID'].nunique())\n",
    "Lab_data_HDL_non_afib = Lab_data_HDL_refined[Lab_data_HDL_refined['PT_ID'].isin(data_full_non_afib_patients_no_afib_3_years_follow_up['PT_ID'])]\n",
    "print('HDL ',Lab_data_HDL_non_afib['PT_ID'].nunique())\n",
    "Lab_data_LDL_non_afib = Lab_data_LDL_refined[Lab_data_LDL_refined['PT_ID'].isin(data_full_non_afib_patients_no_afib_3_years_follow_up['PT_ID'])]\n",
    "print('LDL ',Lab_data_LDL_non_afib['PT_ID'].nunique())\n",
    "Lab_data_PLT_non_afib = Lab_data_PLT_refined[Lab_data_PLT_refined['PT_ID'].isin(data_full_non_afib_patients_no_afib_3_years_follow_up['PT_ID'])]\n",
    "print('PLT ',Lab_data_PLT_non_afib['PT_ID'].nunique())\n",
    "Lab_data_WBC_non_afib = Lab_data_WBC_refined[Lab_data_WBC_refined['PT_ID'].isin(data_full_non_afib_patients_no_afib_3_years_follow_up['PT_ID'])]\n",
    "print('WBC ',Lab_data_WBC_non_afib['PT_ID'].nunique())"
   ]
  },
  {
   "cell_type": "code",
   "execution_count": 37,
   "metadata": {},
   "outputs": [
    {
     "name": "stdout",
     "output_type": "stream",
     "text": [
      "BMI \n",
      "        BMI_VALUE  TIME_DIFF_BMI_INDEX\n",
      "count    1905.00              1905.00\n",
      "mean       29.97               -32.65\n",
      "std         6.62               121.79\n",
      "min        15.50             -1084.00\n",
      "25%        25.50                 0.00\n",
      "50%        29.00                 0.00\n",
      "75%        33.40                 0.00\n",
      "max        70.20                 0.00\n",
      "CRP \n",
      "        CRP_VALUE  TIME_DIFF_CRP_INDEX\n",
      "count     241.00               241.00\n",
      "mean       22.87              -254.69\n",
      "std        51.70               317.75\n",
      "min         0.19             -1091.00\n",
      "25%         2.00              -444.00\n",
      "50%         4.00               -96.00\n",
      "75%        13.00                 0.00\n",
      "max       413.00                 0.00\n",
      "ESR \n",
      "        ESR_VALUE  TIME_DIFF_ESR_INDEX\n",
      "count     558.00               558.00\n",
      "mean       25.24              -221.46\n",
      "std        24.66               304.43\n",
      "min         0.00             -1085.00\n",
      "25%        10.00              -405.50\n",
      "50%        17.00               -34.00\n",
      "75%        31.00                 0.00\n",
      "max       129.00                 0.00\n",
      "GFR \n",
      "        GFR_VALUE  TIME_DIFF_GFR_INDEX\n",
      "count    1970.00              1970.00\n",
      "mean       56.84               -13.01\n",
      "std         8.11                79.53\n",
      "min        15.00             -1057.00\n",
      "25%        60.00                 0.00\n",
      "50%        60.00                 0.00\n",
      "75%        60.00                 0.00\n",
      "max        60.00                 0.00\n",
      "HB \n",
      "        HB_VALUE  TIME_DIFF_HB_INDEX\n",
      "count   2035.00             2035.00\n",
      "mean      13.98              -66.82\n",
      "std        1.75              409.56\n",
      "min        6.50            -5568.00\n",
      "25%       13.00                0.00\n",
      "50%       14.10                0.00\n",
      "75%       15.10                0.00\n",
      "max       20.00                0.00\n",
      "HBA1C \n",
      "        HBA1C_VALUE  TIME_DIFF_HBA1C_INDEX\n",
      "count      1648.00                1648.00\n",
      "mean          6.36                 433.78\n",
      "std           1.44                 449.95\n",
      "min           3.90                   0.00\n",
      "25%           5.50                   1.00\n",
      "50%           5.90                 249.00\n",
      "75%           6.80                 943.25\n",
      "max          13.00                1094.00\n",
      "HCT \n",
      "        HCT_VALUE  TIME_DIFF_HCT_INDEX\n",
      "count    1993.00              1993.00\n",
      "mean       41.04               -15.13\n",
      "std         4.72                92.03\n",
      "min        25.00             -1057.00\n",
      "25%        38.00                 0.00\n",
      "50%        41.00                 0.00\n",
      "75%        44.00                 0.00\n",
      "max        62.00                 0.00\n",
      "HDL \n",
      "        HDL_VALUE  TIME_DIFF_HDL_INDEX\n",
      "count    1259.00              1259.00\n",
      "mean       48.32              -185.77\n",
      "std        14.72               263.31\n",
      "min        12.00             -1093.00\n",
      "25%        38.00              -265.50\n",
      "50%        46.00               -61.00\n",
      "75%        55.00                 0.00\n",
      "max       100.00                 0.00\n",
      "LDL \n",
      "        LDL_VALUE  TIME_DIFF_LDL_INDEX\n",
      "count    1278.00              1278.00\n",
      "mean      109.92              -178.28\n",
      "std        41.91               253.02\n",
      "min         1.00             -1093.00\n",
      "25%        80.00              -251.00\n",
      "50%       105.50               -63.50\n",
      "75%       132.00                 0.00\n",
      "max       471.00                 0.00\n",
      "PLT \n",
      "        PLT_VALUE  TIME_DIFF_PLT_INDEX\n",
      "count    1993.00              1993.00\n",
      "mean      236.40               -14.58\n",
      "std        78.18                89.53\n",
      "min        16.00             -1057.00\n",
      "25%       185.00                 0.00\n",
      "50%       225.00                 0.00\n",
      "75%       273.00                 0.00\n",
      "max       951.00                 0.00\n",
      "WBC \n",
      "        WBC_VALUE  TIME_DIFF_WBC_INDEX\n",
      "count    1994.00              1994.00\n",
      "mean        8.80               -15.38\n",
      "std         3.19                92.50\n",
      "min         1.00             -1057.00\n",
      "25%         6.71                 0.00\n",
      "50%         8.25                 0.00\n",
      "75%        10.11                 0.00\n",
      "max        24.87                 0.00\n"
     ]
    }
   ],
   "source": [
    "Lab_data_BMI_non_afib= Lab_data_BMI_non_afib.sort_values(by=['TIME_DIFF_BMI_INDEX'],ascending=False).drop_duplicates(subset=['PT_ID'])\n",
    "print('BMI \\n',Lab_data_BMI_non_afib.describe())\n",
    "Lab_data_CRP_non_afib = Lab_data_CRP_non_afib.sort_values(by=['TIME_DIFF_CRP_INDEX'],ascending=False).drop_duplicates(subset=['PT_ID'])\n",
    "print('CRP \\n',Lab_data_CRP_non_afib.describe())\n",
    "Lab_data_ESR_non_afib = Lab_data_ESR_non_afib.sort_values(by=['TIME_DIFF_ESR_INDEX'],ascending=False).drop_duplicates(subset=['PT_ID'])\n",
    "print('ESR \\n',Lab_data_ESR_non_afib.describe())\n",
    "Lab_data_GFR_non_afib = Lab_data_GFR_non_afib.sort_values(by=['TIME_DIFF_GFR_INDEX'],ascending=False).drop_duplicates(subset=['PT_ID'])\n",
    "print('GFR \\n',Lab_data_GFR_non_afib.describe())\n",
    "Lab_data_HB_non_afib = Lab_data_HB_non_afib.sort_values(by=['TIME_DIFF_HB_INDEX'],ascending=False).drop_duplicates(subset=['PT_ID'])\n",
    "print('HB \\n',Lab_data_HB_non_afib.describe())\n",
    "Lab_data_HBA1C_non_afib = Lab_data_HBA1C_non_afib.sort_values(by=['TIME_DIFF_HBA1C_INDEX'],ascending=False).drop_duplicates(subset=['PT_ID'])\n",
    "print('HBA1C \\n',Lab_data_HBA1C_non_afib.describe())\n",
    "Lab_data_HCT_non_afib = Lab_data_HCT_non_afib.sort_values(by=['TIME_DIFF_HCT_INDEX'],ascending=False).drop_duplicates(subset=['PT_ID'])\n",
    "print('HCT \\n',Lab_data_HCT_non_afib.describe())\n",
    "Lab_data_HDL_non_afib = Lab_data_HDL_non_afib.sort_values(by=['TIME_DIFF_HDL_INDEX'],ascending=False).drop_duplicates(subset=['PT_ID'])\n",
    "print('HDL \\n',Lab_data_HDL_non_afib.describe())\n",
    "Lab_data_LDL_non_afib =Lab_data_LDL_non_afib.sort_values(by=['TIME_DIFF_LDL_INDEX'],ascending=False).drop_duplicates(subset=['PT_ID'])\n",
    "print('LDL \\n',Lab_data_LDL_non_afib.describe())\n",
    "Lab_data_PLT_non_afib = Lab_data_PLT_non_afib.sort_values(by=['TIME_DIFF_PLT_INDEX'],ascending=False).drop_duplicates(subset=['PT_ID'])\n",
    "print('PLT \\n',Lab_data_PLT_non_afib.describe())\n",
    "Lab_data_WBC_non_afib= Lab_data_WBC_non_afib.sort_values(by=['TIME_DIFF_WBC_INDEX'],ascending=False).drop_duplicates(subset=['PT_ID'])\n",
    "print('WBC \\n',Lab_data_WBC_non_afib.describe())"
   ]
  },
  {
   "cell_type": "code",
   "execution_count": null,
   "metadata": {},
   "outputs": [],
   "source": []
  },
  {
   "cell_type": "markdown",
   "metadata": {},
   "source": [
    "# having at least one follow up within 5 years and no afib"
   ]
  },
  {
   "cell_type": "code",
   "execution_count": 38,
   "metadata": {},
   "outputs": [
    {
     "name": "stdout",
     "output_type": "stream",
     "text": [
      "1302\n"
     ]
    }
   ],
   "source": [
    "data_full_non_afib_patients_no_afib_5_years_follow_up = data_full_non_afib_encounter_after_stroke[data_full_non_afib_encounter_after_stroke['Difference_in_years'] > 5]\n",
    "print(data_full_non_afib_patients_no_afib_5_years_follow_up['PT_ID'].nunique())"
   ]
  },
  {
   "cell_type": "code",
   "execution_count": 39,
   "metadata": {},
   "outputs": [
    {
     "name": "stdout",
     "output_type": "stream",
     "text": [
      "BMI  1085\n",
      "CRP  144\n",
      "ESR  353\n",
      "GFR  1149\n",
      "HB  1198\n",
      "HBA1C  914\n",
      "HCT  1164\n",
      "HDL  744\n",
      "LDL  753\n",
      "PLT  1163\n",
      "WBC  1164\n"
     ]
    }
   ],
   "source": [
    "Lab_data_BMI_non_afib = Lab_data_BMI_refined[Lab_data_BMI_refined['PT_ID'].isin(data_full_non_afib_patients_no_afib_5_years_follow_up['PT_ID'])]\n",
    "print('BMI ',Lab_data_BMI_non_afib['PT_ID'].nunique())\n",
    "Lab_data_CRP_non_afib = Lab_data_CRP_refined[Lab_data_CRP_refined['PT_ID'].isin(data_full_non_afib_patients_no_afib_5_years_follow_up['PT_ID'])]\n",
    "print('CRP ',Lab_data_CRP_non_afib['PT_ID'].nunique())\n",
    "Lab_data_ESR_non_afib = Lab_data_ESR_refined[Lab_data_ESR_refined['PT_ID'].isin(data_full_non_afib_patients_no_afib_5_years_follow_up['PT_ID'])]\n",
    "print('ESR ',Lab_data_ESR_non_afib['PT_ID'].nunique())\n",
    "Lab_data_GFR_non_afib= Lab_data_GFR_refined[Lab_data_GFR_refined['PT_ID'].isin(data_full_non_afib_patients_no_afib_5_years_follow_up['PT_ID'])]\n",
    "print('GFR ',Lab_data_GFR_non_afib['PT_ID'].nunique())\n",
    "Lab_data_HB_non_afib = Lab_data_HB_refined[Lab_data_HB_refined['PT_ID'].isin(data_full_non_afib_patients_no_afib_5_years_follow_up['PT_ID'])]\n",
    "print('HB ',Lab_data_HB_non_afib['PT_ID'].nunique())\n",
    "Lab_data_HBA1C_non_afib = Lab_data_HBA1C_refined[Lab_data_HBA1C_refined['PT_ID'].isin(data_full_non_afib_patients_no_afib_5_years_follow_up['PT_ID'])]\n",
    "print('HBA1C ',Lab_data_HBA1C_non_afib['PT_ID'].nunique())\n",
    "Lab_data_HCT_non_afib = Lab_data_HCT_refined[Lab_data_HCT_refined['PT_ID'].isin(data_full_non_afib_patients_no_afib_5_years_follow_up['PT_ID'])]\n",
    "print('HCT ',Lab_data_HCT_non_afib['PT_ID'].nunique())\n",
    "Lab_data_HDL_non_afib = Lab_data_HDL_refined[Lab_data_HDL_refined['PT_ID'].isin(data_full_non_afib_patients_no_afib_5_years_follow_up['PT_ID'])]\n",
    "print('HDL ',Lab_data_HDL_non_afib['PT_ID'].nunique())\n",
    "Lab_data_LDL_non_afib = Lab_data_LDL_refined[Lab_data_LDL_refined['PT_ID'].isin(data_full_non_afib_patients_no_afib_5_years_follow_up['PT_ID'])]\n",
    "print('LDL ',Lab_data_LDL_non_afib['PT_ID'].nunique())\n",
    "Lab_data_PLT_non_afib = Lab_data_PLT_refined[Lab_data_PLT_refined['PT_ID'].isin(data_full_non_afib_patients_no_afib_5_years_follow_up['PT_ID'])]\n",
    "print('PLT ',Lab_data_PLT_non_afib['PT_ID'].nunique())\n",
    "Lab_data_WBC_non_afib = Lab_data_WBC_refined[Lab_data_WBC_refined['PT_ID'].isin(data_full_non_afib_patients_no_afib_5_years_follow_up['PT_ID'])]\n",
    "print('WBC ',Lab_data_WBC_non_afib['PT_ID'].nunique())"
   ]
  },
  {
   "cell_type": "code",
   "execution_count": 40,
   "metadata": {},
   "outputs": [
    {
     "name": "stdout",
     "output_type": "stream",
     "text": [
      "BMI \n",
      "        BMI_VALUE  TIME_DIFF_BMI_INDEX\n",
      "count    1085.00              1085.00\n",
      "mean       30.18               -39.23\n",
      "std         6.51               130.40\n",
      "min        15.40             -1084.00\n",
      "25%        25.60                -3.00\n",
      "50%        29.30                 0.00\n",
      "75%        33.70                 0.00\n",
      "max        70.20                 0.00\n",
      "CRP \n",
      "        CRP_VALUE  TIME_DIFF_CRP_INDEX\n",
      "count     144.00               144.00\n",
      "mean       21.41              -259.76\n",
      "std        49.02               332.89\n",
      "min         0.19             -1091.00\n",
      "25%         2.00              -450.50\n",
      "50%         4.00               -79.00\n",
      "75%        14.40                 0.00\n",
      "max       413.00                 0.00\n",
      "ESR \n",
      "        ESR_VALUE  TIME_DIFF_ESR_INDEX\n",
      "count     353.00               353.00\n",
      "mean       23.44              -194.86\n",
      "std        23.25               286.87\n",
      "min         1.00             -1085.00\n",
      "25%         9.00              -346.00\n",
      "50%        16.00                -9.00\n",
      "75%        29.00                 0.00\n",
      "max       129.00                 0.00\n",
      "GFR \n",
      "        GFR_VALUE  TIME_DIFF_GFR_INDEX\n",
      "count    1149.00              1149.00\n",
      "mean       57.25               -14.67\n",
      "std         7.72                87.97\n",
      "min        15.00             -1057.00\n",
      "25%        60.00                 0.00\n",
      "50%        60.00                 0.00\n",
      "75%        60.00                 0.00\n",
      "max        60.00                 0.00\n",
      "HB \n",
      "        HB_VALUE  TIME_DIFF_HB_INDEX\n",
      "count   1198.00             1198.00\n",
      "mean      14.04              -85.83\n",
      "std        1.73              462.56\n",
      "min        6.70            -5128.00\n",
      "25%       13.00                0.00\n",
      "50%       14.10                0.00\n",
      "75%       15.10                0.00\n",
      "max       20.00                0.00\n",
      "HBA1C \n",
      "        HBA1C_VALUE  TIME_DIFF_HBA1C_INDEX\n",
      "count       914.00                 914.00\n",
      "mean          6.35                 445.99\n",
      "std           1.41                 451.99\n",
      "min           3.90                   0.00\n",
      "25%           5.50                   1.00\n",
      "50%           5.90                 296.00\n",
      "75%           6.80                 951.00\n",
      "max          13.00                1094.00\n",
      "HCT \n",
      "        HCT_VALUE  TIME_DIFF_HCT_INDEX\n",
      "count    1164.00              1164.00\n",
      "mean       41.02               -16.11\n",
      "std         4.66                97.31\n",
      "min        26.00             -1057.00\n",
      "25%        38.00                 0.00\n",
      "50%        41.00                 0.00\n",
      "75%        44.00                 0.00\n",
      "max        60.00                 0.00\n",
      "HDL \n",
      "        HDL_VALUE  TIME_DIFF_HDL_INDEX\n",
      "count     744.00               744.00\n",
      "mean       48.28              -170.72\n",
      "std        13.97               263.77\n",
      "min        12.00             -1093.00\n",
      "25%        38.00              -229.00\n",
      "50%        46.00               -41.00\n",
      "75%        55.00                 0.00\n",
      "max       100.00                 0.00\n",
      "LDL \n",
      "        LDL_VALUE  TIME_DIFF_LDL_INDEX\n",
      "count     753.00               753.00\n",
      "mean      110.09              -168.99\n",
      "std        42.19               260.55\n",
      "min        18.00             -1093.00\n",
      "25%        81.00              -227.00\n",
      "50%       107.00               -44.00\n",
      "75%       130.00                 0.00\n",
      "max       471.00                 0.00\n",
      "PLT \n",
      "        PLT_VALUE  TIME_DIFF_PLT_INDEX\n",
      "count    1163.00              1163.00\n",
      "mean      238.11               -15.47\n",
      "std        78.69                93.70\n",
      "min        52.00             -1057.00\n",
      "25%       186.00                 0.00\n",
      "50%       229.00                 0.00\n",
      "75%       275.00                 0.00\n",
      "max       951.00                 0.00\n",
      "WBC \n",
      "        WBC_VALUE  TIME_DIFF_WBC_INDEX\n",
      "count    1164.00              1164.00\n",
      "mean        8.68               -16.64\n",
      "std         3.12                98.38\n",
      "min         1.00             -1057.00\n",
      "25%         6.64                 0.00\n",
      "50%         8.17                 0.00\n",
      "75%         9.91                 0.00\n",
      "max        24.87                 0.00\n"
     ]
    }
   ],
   "source": [
    "Lab_data_BMI_non_afib= Lab_data_BMI_non_afib.sort_values(by=['TIME_DIFF_BMI_INDEX'],ascending=False).drop_duplicates(subset=['PT_ID'])\n",
    "print('BMI \\n',Lab_data_BMI_non_afib.describe())\n",
    "Lab_data_CRP_non_afib = Lab_data_CRP_non_afib.sort_values(by=['TIME_DIFF_CRP_INDEX'],ascending=False).drop_duplicates(subset=['PT_ID'])\n",
    "print('CRP \\n',Lab_data_CRP_non_afib.describe())\n",
    "Lab_data_ESR_non_afib = Lab_data_ESR_non_afib.sort_values(by=['TIME_DIFF_ESR_INDEX'],ascending=False).drop_duplicates(subset=['PT_ID'])\n",
    "print('ESR \\n',Lab_data_ESR_non_afib.describe())\n",
    "Lab_data_GFR_non_afib = Lab_data_GFR_non_afib.sort_values(by=['TIME_DIFF_GFR_INDEX'],ascending=False).drop_duplicates(subset=['PT_ID'])\n",
    "print('GFR \\n',Lab_data_GFR_non_afib.describe())\n",
    "Lab_data_HB_non_afib = Lab_data_HB_non_afib.sort_values(by=['TIME_DIFF_HB_INDEX'],ascending=False).drop_duplicates(subset=['PT_ID'])\n",
    "print('HB \\n',Lab_data_HB_non_afib.describe())\n",
    "Lab_data_HBA1C_non_afib = Lab_data_HBA1C_non_afib.sort_values(by=['TIME_DIFF_HBA1C_INDEX'],ascending=False).drop_duplicates(subset=['PT_ID'])\n",
    "print('HBA1C \\n',Lab_data_HBA1C_non_afib.describe())\n",
    "Lab_data_HCT_non_afib = Lab_data_HCT_non_afib.sort_values(by=['TIME_DIFF_HCT_INDEX'],ascending=False).drop_duplicates(subset=['PT_ID'])\n",
    "print('HCT \\n',Lab_data_HCT_non_afib.describe())\n",
    "Lab_data_HDL_non_afib = Lab_data_HDL_non_afib.sort_values(by=['TIME_DIFF_HDL_INDEX'],ascending=False).drop_duplicates(subset=['PT_ID'])\n",
    "print('HDL \\n',Lab_data_HDL_non_afib.describe())\n",
    "Lab_data_LDL_non_afib =Lab_data_LDL_non_afib.sort_values(by=['TIME_DIFF_LDL_INDEX'],ascending=False).drop_duplicates(subset=['PT_ID'])\n",
    "print('LDL \\n',Lab_data_LDL_non_afib.describe())\n",
    "Lab_data_PLT_non_afib = Lab_data_PLT_non_afib.sort_values(by=['TIME_DIFF_PLT_INDEX'],ascending=False).drop_duplicates(subset=['PT_ID'])\n",
    "print('PLT \\n',Lab_data_PLT_non_afib.describe())\n",
    "Lab_data_WBC_non_afib= Lab_data_WBC_non_afib.sort_values(by=['TIME_DIFF_WBC_INDEX'],ascending=False).drop_duplicates(subset=['PT_ID'])\n",
    "print('WBC \\n',Lab_data_WBC_non_afib.describe())"
   ]
  },
  {
   "cell_type": "raw",
   "metadata": {},
   "source": []
  },
  {
   "cell_type": "code",
   "execution_count": 41,
   "metadata": {},
   "outputs": [
    {
     "data": {
      "text/plain": [
       "<matplotlib.axes._subplots.AxesSubplot at 0x18f6a03fc08>"
      ]
     },
     "execution_count": 41,
     "metadata": {},
     "output_type": "execute_result"
    },
    {
     "data": {
      "image/png": "[encoded data removed]",
      "text/plain": [
       "<Figure size 432x288 with 1 Axes>"
      ]
     },
     "metadata": {
      "needs_background": "light"
     },
     "output_type": "display_data"
    }
   ],
   "source": [
    "Lab_data_BMI_non_afib['BMI_VALUE'].hist(bins=100)"
   ]
  },
  {
   "cell_type": "code",
   "execution_count": 42,
   "metadata": {},
   "outputs": [
    {
     "data": {
      "text/plain": [
       "<matplotlib.axes._subplots.AxesSubplot at 0x18f20609288>"
      ]
     },
     "execution_count": 42,
     "metadata": {},
     "output_type": "execute_result"
    },
    {
     "data": {
      "image/png": "[encoded data removed]",
      "text/plain": [
       "<Figure size 432x288 with 1 Axes>"
      ]
     },
     "metadata": {
      "needs_background": "light"
     },
     "output_type": "display_data"
    }
   ],
   "source": [
    "Lab_data_ESR_non_afib['ESR_VALUE'].hist(bins=100)"
   ]
  },
  {
   "cell_type": "code",
   "execution_count": 43,
   "metadata": {},
   "outputs": [
    {
     "data": {
      "text/plain": [
       "<matplotlib.axes._subplots.AxesSubplot at 0x18f6a014b08>"
      ]
     },
     "execution_count": 43,
     "metadata": {},
     "output_type": "execute_result"
    },
    {
     "data": {
      "image/png": "[encoded data removed]",
      "text/plain": [
       "<Figure size 432x288 with 1 Axes>"
      ]
     },
     "metadata": {
      "needs_background": "light"
     },
     "output_type": "display_data"
    }
   ],
   "source": [
    "Lab_data_CRP_non_afib['CRP_VALUE'].hist(bins=100)"
   ]
  },
  {
   "cell_type": "code",
   "execution_count": 44,
   "metadata": {},
   "outputs": [
    {
     "data": {
      "text/plain": [
       "<matplotlib.axes._subplots.AxesSubplot at 0x18f24ecc088>"
      ]
     },
     "execution_count": 44,
     "metadata": {},
     "output_type": "execute_result"
    },
    {
     "data": {
      "image/png": "[encoded data removed]",
      "text/plain": [
       "<Figure size 432x288 with 1 Axes>"
      ]
     },
     "metadata": {
      "needs_background": "light"
     },
     "output_type": "display_data"
    }
   ],
   "source": [
    "Lab_data_GFR_non_afib['GFR_VALUE'].hist(bins=100)"
   ]
  },
  {
   "cell_type": "code",
   "execution_count": 45,
   "metadata": {},
   "outputs": [
    {
     "data": {
      "text/plain": [
       "<matplotlib.axes._subplots.AxesSubplot at 0x18f1cc18088>"
      ]
     },
     "execution_count": 45,
     "metadata": {},
     "output_type": "execute_result"
    },
    {
     "data": {
      "image/png": "[encoded data removed]",
      "text/plain": [
       "<Figure size 432x288 with 1 Axes>"
      ]
     },
     "metadata": {
      "needs_background": "light"
     },
     "output_type": "display_data"
    }
   ],
   "source": [
    "Lab_data_HB_non_afib['HB_VALUE'].hist(bins=100)"
   ]
  },
  {
   "cell_type": "code",
   "execution_count": 46,
   "metadata": {},
   "outputs": [
    {
     "data": {
      "text/plain": [
       "<matplotlib.axes._subplots.AxesSubplot at 0x18f1619fc48>"
      ]
     },
     "execution_count": 46,
     "metadata": {},
     "output_type": "execute_result"
    },
    {
     "data": {
      "image/png": "[encoded data removed]",
      "text/plain": [
       "<Figure size 432x288 with 1 Axes>"
      ]
     },
     "metadata": {
      "needs_background": "light"
     },
     "output_type": "display_data"
    }
   ],
   "source": [
    "Lab_data_HBA1C_non_afib['HBA1C_VALUE'].hist(bins=100)"
   ]
  },
  {
   "cell_type": "code",
   "execution_count": 47,
   "metadata": {},
   "outputs": [
    {
     "data": {
      "text/plain": [
       "<matplotlib.axes._subplots.AxesSubplot at 0x18f1cb98e88>"
      ]
     },
     "execution_count": 47,
     "metadata": {},
     "output_type": "execute_result"
    },
    {
     "data": {
      "image/png": "[encoded data removed]",
      "text/plain": [
       "<Figure size 432x288 with 1 Axes>"
      ]
     },
     "metadata": {
      "needs_background": "light"
     },
     "output_type": "display_data"
    }
   ],
   "source": [
    "Lab_data_HCT_non_afib['HCT_VALUE'].hist(bins=100)"
   ]
  },
  {
   "cell_type": "code",
   "execution_count": 48,
   "metadata": {},
   "outputs": [
    {
     "data": {
      "text/plain": [
       "<matplotlib.axes._subplots.AxesSubplot at 0x18f1cc0b688>"
      ]
     },
     "execution_count": 48,
     "metadata": {},
     "output_type": "execute_result"
    },
    {
     "data": {
      "image/png": "[encoded data removed]",
      "text/plain": [
       "<Figure size 432x288 with 1 Axes>"
      ]
     },
     "metadata": {
      "needs_background": "light"
     },
     "output_type": "display_data"
    }
   ],
   "source": [
    "Lab_data_HDL_non_afib['HDL_VALUE'].hist(bins=100)"
   ]
  },
  {
   "cell_type": "code",
   "execution_count": 49,
   "metadata": {},
   "outputs": [
    {
     "data": {
      "text/plain": [
       "<matplotlib.axes._subplots.AxesSubplot at 0x18f19561588>"
      ]
     },
     "execution_count": 49,
     "metadata": {},
     "output_type": "execute_result"
    },
    {
     "data": {
      "image/png": "[encoded data removed]",
      "text/plain": [
       "<Figure size 432x288 with 1 Axes>"
      ]
     },
     "metadata": {
      "needs_background": "light"
     },
     "output_type": "display_data"
    }
   ],
   "source": [
    "Lab_data_LDL_non_afib['LDL_VALUE'].hist(bins=100)"
   ]
  },
  {
   "cell_type": "code",
   "execution_count": 50,
   "metadata": {},
   "outputs": [
    {
     "data": {
      "text/plain": [
       "<matplotlib.axes._subplots.AxesSubplot at 0x18f0e5b3488>"
      ]
     },
     "execution_count": 50,
     "metadata": {},
     "output_type": "execute_result"
    },
    {
     "data": {
      "image/png": "[encoded data removed]",
      "text/plain": [
       "<Figure size 432x288 with 1 Axes>"
      ]
     },
     "metadata": {
      "needs_background": "light"
     },
     "output_type": "display_data"
    }
   ],
   "source": [
    "Lab_data_PLT_non_afib['PLT_VALUE'].hist(bins=100)"
   ]
  },
  {
   "cell_type": "code",
   "execution_count": 51,
   "metadata": {},
   "outputs": [
    {
     "data": {
      "text/plain": [
       "<matplotlib.axes._subplots.AxesSubplot at 0x18f180b52c8>"
      ]
     },
     "execution_count": 51,
     "metadata": {},
     "output_type": "execute_result"
    },
    {
     "data": {
      "image/png": "[encoded data removed]",
      "text/plain": [
       "<Figure size 432x288 with 1 Axes>"
      ]
     },
     "metadata": {
      "needs_background": "light"
     },
     "output_type": "display_data"
    }
   ],
   "source": [
    "Lab_data_WBC_non_afib['WBC_VALUE'].hist(bins=100)"
   ]
  },
  {
   "cell_type": "code",
   "execution_count": 52,
   "metadata": {},
   "outputs": [
    {
     "name": "stdout",
     "output_type": "stream",
     "text": [
      "PT_ID                  11026\n",
      "BMI_DT                 11026\n",
      "BMI_VALUE              11026\n",
      "TIME_DIFF_BMI_INDEX    11026\n",
      "dtype: int64\n",
      "PT_ID                  11026\n",
      "BMI_DT                 11026\n",
      "BMI_VALUE              11026\n",
      "TIME_DIFF_BMI_INDEX    11026\n",
      "diff                   11026\n",
      "cumsum                 11026\n",
      "dtype: int64\n"
     ]
    }
   ],
   "source": [
    "test = Lab_data_BMI_refined[Lab_data_BMI_refined['PT_ID'].isin(data_full_non_afib_patients_no_afib_5_years_follow_up['PT_ID'])].copy()\n",
    "print(test.count())\n",
    "testp= test.groupby('PT_ID',as_index=False)['TIME_DIFF_BMI_INDEX'].apply(lambda x: x.sort_values())\n",
    "test['TIME_DIFF_BMI_INDEX'] = testp.reset_index(level=0, drop=True)\n",
    "test['diff'] = test.groupby('PT_ID')['TIME_DIFF_BMI_INDEX'].diff()\n",
    "test['diff'] = test['diff'].fillna(0)\n",
    "test['cumsum'] = test.groupby('PT_ID')['diff'].cumsum()\n",
    "#test['diff'] = test['diff'].fillna(0)\n",
    "print(test.count())"
   ]
  },
  {
   "cell_type": "code",
   "execution_count": 53,
   "metadata": {},
   "outputs": [
    {
     "data": {
      "text/html": [
       "<div>\n",
       "<style scoped>\n",
       "    .dataframe tbody tr th:only-of-type {\n",
       "        vertical-align: middle;\n",
       "    }\n",
       "\n",
       "    .dataframe tbody tr th {\n",
       "        vertical-align: top;\n",
       "    }\n",
       "\n",
       "    .dataframe thead th {\n",
       "        text-align: right;\n",
       "    }\n",
       "</style>\n",
       "<table border=\"1\" class=\"dataframe\">\n",
       "  <thead>\n",
       "    <tr style=\"text-align: right;\">\n",
       "      <th></th>\n",
       "      <th>PT_ID</th>\n",
       "      <th>BMI_DT</th>\n",
       "      <th>BMI_VALUE</th>\n",
       "      <th>TIME_DIFF_BMI_INDEX</th>\n",
       "      <th>diff</th>\n",
       "      <th>cumsum</th>\n",
       "    </tr>\n",
       "  </thead>\n",
       "  <tbody>\n",
       "    <tr>\n",
       "      <th>499</th>\n",
       "      <td>PT1039739</td>\n",
       "      <td>2009-10-31</td>\n",
       "      <td>28.20</td>\n",
       "      <td>-1082.00</td>\n",
       "      <td>0.00</td>\n",
       "      <td>0.00</td>\n",
       "    </tr>\n",
       "    <tr>\n",
       "      <th>500</th>\n",
       "      <td>PT1039739</td>\n",
       "      <td>2010-01-29</td>\n",
       "      <td>28.20</td>\n",
       "      <td>-992.00</td>\n",
       "      <td>90.00</td>\n",
       "      <td>90.00</td>\n",
       "    </tr>\n",
       "    <tr>\n",
       "      <th>501</th>\n",
       "      <td>PT1039739</td>\n",
       "      <td>2010-06-13</td>\n",
       "      <td>28.20</td>\n",
       "      <td>-857.00</td>\n",
       "      <td>135.00</td>\n",
       "      <td>225.00</td>\n",
       "    </tr>\n",
       "    <tr>\n",
       "      <th>502</th>\n",
       "      <td>PT1039739</td>\n",
       "      <td>2011-03-24</td>\n",
       "      <td>29.30</td>\n",
       "      <td>-573.00</td>\n",
       "      <td>284.00</td>\n",
       "      <td>509.00</td>\n",
       "    </tr>\n",
       "    <tr>\n",
       "      <th>503</th>\n",
       "      <td>PT1039739</td>\n",
       "      <td>2011-04-21</td>\n",
       "      <td>28.60</td>\n",
       "      <td>-545.00</td>\n",
       "      <td>28.00</td>\n",
       "      <td>537.00</td>\n",
       "    </tr>\n",
       "    <tr>\n",
       "      <th>...</th>\n",
       "      <td>...</td>\n",
       "      <td>...</td>\n",
       "      <td>...</td>\n",
       "      <td>...</td>\n",
       "      <td>...</td>\n",
       "      <td>...</td>\n",
       "    </tr>\n",
       "    <tr>\n",
       "      <th>409481</th>\n",
       "      <td>PT99593</td>\n",
       "      <td>2011-05-27</td>\n",
       "      <td>28.90</td>\n",
       "      <td>-364.00</td>\n",
       "      <td>1.00</td>\n",
       "      <td>1.00</td>\n",
       "    </tr>\n",
       "    <tr>\n",
       "      <th>409482</th>\n",
       "      <td>PT99593</td>\n",
       "      <td>2011-06-23</td>\n",
       "      <td>27.10</td>\n",
       "      <td>-337.00</td>\n",
       "      <td>27.00</td>\n",
       "      <td>28.00</td>\n",
       "    </tr>\n",
       "    <tr>\n",
       "      <th>409483</th>\n",
       "      <td>PT99593</td>\n",
       "      <td>2012-05-25</td>\n",
       "      <td>27.40</td>\n",
       "      <td>0.00</td>\n",
       "      <td>337.00</td>\n",
       "      <td>365.00</td>\n",
       "    </tr>\n",
       "    <tr>\n",
       "      <th>410272</th>\n",
       "      <td>PT99827</td>\n",
       "      <td>2007-03-01</td>\n",
       "      <td>41.70</td>\n",
       "      <td>-739.00</td>\n",
       "      <td>0.00</td>\n",
       "      <td>0.00</td>\n",
       "    </tr>\n",
       "    <tr>\n",
       "      <th>410273</th>\n",
       "      <td>PT99827</td>\n",
       "      <td>2009-03-09</td>\n",
       "      <td>39.70</td>\n",
       "      <td>0.00</td>\n",
       "      <td>739.00</td>\n",
       "      <td>739.00</td>\n",
       "    </tr>\n",
       "  </tbody>\n",
       "</table>\n",
       "<p>11026 rows × 6 columns</p>\n",
       "</div>"
      ],
      "text/plain": [
       "            PT_ID     BMI_DT  BMI_VALUE  TIME_DIFF_BMI_INDEX   diff  cumsum\n",
       "499     PT1039739 2009-10-31      28.20             -1082.00   0.00    0.00\n",
       "500     PT1039739 2010-01-29      28.20              -992.00  90.00   90.00\n",
       "501     PT1039739 2010-06-13      28.20              -857.00 135.00  225.00\n",
       "502     PT1039739 2011-03-24      29.30              -573.00 284.00  509.00\n",
       "503     PT1039739 2011-04-21      28.60              -545.00  28.00  537.00\n",
       "...           ...        ...        ...                  ...    ...     ...\n",
       "409481    PT99593 2011-05-27      28.90              -364.00   1.00    1.00\n",
       "409482    PT99593 2011-06-23      27.10              -337.00  27.00   28.00\n",
       "409483    PT99593 2012-05-25      27.40                 0.00 337.00  365.00\n",
       "410272    PT99827 2007-03-01      41.70              -739.00   0.00    0.00\n",
       "410273    PT99827 2009-03-09      39.70                 0.00 739.00  739.00\n",
       "\n",
       "[11026 rows x 6 columns]"
      ]
     },
     "execution_count": 53,
     "metadata": {},
     "output_type": "execute_result"
    }
   ],
   "source": [
    "test"
   ]
  },
  {
   "cell_type": "code",
   "execution_count": null,
   "metadata": {},
   "outputs": [],
   "source": []
  }
 ],
 "metadata": {
  "kernelspec": {
   "display_name": "Python 3",
   "language": "python",
   "name": "python3"
  },
  "language_info": {
   "codemirror_mode": {
    "name": "ipython",
    "version": 3
   },
   "file_extension": ".py",
   "mimetype": "text/x-python",
   "name": "python",
   "nbconvert_exporter": "python",
   "pygments_lexer": "ipython3",
   "version": "3.7.7"
  }
 },
 "nbformat": 4,
 "nbformat_minor": 4
}
