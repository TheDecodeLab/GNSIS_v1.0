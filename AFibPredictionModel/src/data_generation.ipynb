{
 "cells": [
  {
   "cell_type": "code",
   "execution_count": 1,
   "metadata": {},
   "outputs": [],
   "source": [
    "import pandas as pd\n",
    "pd.options.display.float_format = '{:.2f}'.format"
   ]
  },
  {
   "cell_type": "code",
   "execution_count": 2,
   "metadata": {},
   "outputs": [],
   "source": [
    "geisinger_df = pd.read_excel('GNSIS_DATABASE_v7.5_6.25.2020.xlsx')\n"
   ]
  },
  {
   "cell_type": "code",
   "execution_count": 3,
   "metadata": {},
   "outputs": [],
   "source": [
    "data_master = pd.read_fwf('STROKE_STRICT_ALL_DXS.txt',header=None)"
   ]
  },
  {
   "cell_type": "code",
   "execution_count": 4,
   "metadata": {},
   "outputs": [],
   "source": [
    "stroke_df = pd.read_excel('STROKE_STRICT_PROBLEM_LIST.xlsx', sheet_name='PROBLEM_LIST')\n",
    "admission_df = pd.read_excel('STROKE_STRICT_PROBLEM_LIST.xlsx', sheet_name='ADMISION_ENCS')"
   ]
  },
  {
   "cell_type": "code",
   "execution_count": 5,
   "metadata": {},
   "outputs": [
    {
     "name": "stdout",
     "output_type": "stream",
     "text": [
      "9243\n"
     ]
    }
   ],
   "source": [
    "data_master.columns = ['PT_ID','Dates','ENC_TYPE','ICD_CD','ICD_NM','CODE_SYSTEM','PRIMARY_YN'] \n",
    "data_master = data_master.iloc[2:]\n",
    "data_master = data_master.iloc[:-3]\n",
    "data_master[['INDEX_DT','ENC_DT']] = data_master['Dates'].str.split(expand=True) \n",
    "del data_master['Dates']\n",
    "print(data_master['PT_ID'].nunique())"
   ]
  },
  {
   "cell_type": "code",
   "execution_count": 6,
   "metadata": {},
   "outputs": [
    {
     "name": "stdout",
     "output_type": "stream",
     "text": [
      "8917\n",
      "16\n"
     ]
    }
   ],
   "source": [
    "stroke_df=stroke_df.rename(columns={'PROB_DT':'ENC_DT'})\n",
    "stroke_df['ENC_TYPE'] = 'IP ONLY'\n",
    "print(stroke_df['PT_ID'].nunique())\n",
    "print(admission_df['PT_ID'].nunique())"
   ]
  },
  {
   "cell_type": "code",
   "execution_count": 7,
   "metadata": {},
   "outputs": [],
   "source": [
    "data_master = data_master[['PT_ID','INDEX_DT','ENC_DT','ENC_TYPE','ICD_CD','ICD_NM']]\n",
    "admission_df = admission_df[['PT_ID','INDEX_DT','ENC_DT','ENC_TYPE','ICD_CD','ICD_NM']]"
   ]
  },
  {
   "cell_type": "markdown",
   "metadata": {},
   "source": [
    "# merge data , stroke df and admission df into one dataframe"
   ]
  },
  {
   "cell_type": "code",
   "execution_count": 8,
   "metadata": {},
   "outputs": [],
   "source": [
    "data = data_master.append(stroke_df, ignore_index = True,sort=True) \n",
    "data = data.append(admission_df, ignore_index = True,sort=True) "
   ]
  },
  {
   "cell_type": "code",
   "execution_count": 9,
   "metadata": {},
   "outputs": [
    {
     "name": "stdout",
     "output_type": "stream",
     "text": [
      "9243\n",
      "8929\n",
      "8929\n"
     ]
    }
   ],
   "source": [
    "print(data['PT_ID'].nunique())\n",
    "df = pd.merge(geisinger_df['PT_ID'], data, on=['PT_ID'], how='inner')\n",
    "print(df['PT_ID'].nunique())\n",
    "print(geisinger_df['PT_ID'].nunique())"
   ]
  },
  {
   "cell_type": "code",
   "execution_count": 13,
   "metadata": {},
   "outputs": [
    {
     "data": {
      "text/plain": [
       "PT_ID               object\n",
       "ENC_DT      datetime64[ns]\n",
       "ENC_TYPE            object\n",
       "ICD_CD              object\n",
       "ICD_NM              object\n",
       "INDEX_DT    datetime64[ns]\n",
       "dtype: object"
      ]
     },
     "execution_count": 13,
     "metadata": {},
     "output_type": "execute_result"
    }
   ],
   "source": [
    "df['PT_ID'] = df['PT_ID'].astype(str)\n",
    "df['INDEX_DT'] = pd.to_datetime(df['INDEX_DT'])\n",
    "df['ENC_DT'] = pd.to_datetime(df['ENC_DT'])\n",
    "df.dtypes"
   ]
  },
  {
   "cell_type": "code",
   "execution_count": 14,
   "metadata": {},
   "outputs": [
    {
     "name": "stdout",
     "output_type": "stream",
     "text": [
      "420\n",
      "2793\n",
      "2843\n"
     ]
    }
   ],
   "source": [
    "df_afib_icd9 = df[df['ICD_CD'].isin (['427.31', '427.3'])]\n",
    "df_afib_icd10 = df[df['ICD_CD'].isin(['I48','I48.0', 'I48.1','I48.11','I48.19', 'I48.2','I48.20', 'I48.21','I48.9','I48.91'])]\n",
    "df_afib = pd.concat([df_afib_icd9, df_afib_icd10], ignore_index=True)\n",
    "\n",
    "df_aflt_icd9 = df[df['ICD_CD'].isin (['427.32'])]\n",
    "df_aflt_icd10 = df[df['ICD_CD'].isin(['I48.3', 'I48.4','I48.92'])]\n",
    "df_aflt = pd.concat([df_aflt_icd9, df_aflt_icd10], ignore_index=True)\n",
    "\n",
    "print(df_aflt['PT_ID'].nunique())\n",
    "print(df_afib['PT_ID'].nunique())\n",
    "df_afib_aflt = df_afib.append(df_aflt, ignore_index = True) \n",
    "print(df_afib_aflt['PT_ID'].nunique())"
   ]
  },
  {
   "cell_type": "markdown",
   "metadata": {},
   "source": [
    "# Using rule of 2 (1 inpatient, 2 out patient contribute to 1)"
   ]
  },
  {
   "cell_type": "code",
   "execution_count": 21,
   "metadata": {},
   "outputs": [
    {
     "name": "stdout",
     "output_type": "stream",
     "text": [
      "AFIB Only\n",
      "outPatient:  1787\n",
      "inPatient:  2722\n",
      "===================================================\n",
      "AFIB + Aflutter\n",
      "outPatient:  1837\n",
      "inPatient:  2776\n"
     ]
    },
    {
     "data": {
      "text/plain": [
       "PT_ID               object\n",
       "ENC_DT      datetime64[ns]\n",
       "ENC_TYPE            object\n",
       "ICD_CD              object\n",
       "ICD_NM              object\n",
       "INDEX_DT    datetime64[ns]\n",
       "dtype: object"
      ]
     },
     "execution_count": 21,
     "metadata": {},
     "output_type": "execute_result"
    }
   ],
   "source": [
    "df_afib_outPatient = df_afib[df_afib['ENC_TYPE'] == 'OUTPATIENT'].copy()\n",
    "df_afib_inPatient = df_afib[df_afib['ENC_TYPE'] != 'OUTPATIENT']\n",
    "print('AFIB Only')\n",
    "print('outPatient: ',df_afib_outPatient['PT_ID'].nunique())\n",
    "print('inPatient: ',df_afib_inPatient['PT_ID'].nunique())\n",
    "\n",
    "print('===================================================')\n",
    "\n",
    "df_afib_aflt_outPatient = df_afib_aflt[df_afib_aflt['ENC_TYPE'] == 'OUTPATIENT'].copy()\n",
    "df_afib_aflt_inPatient = df_afib_aflt[df_afib_aflt['ENC_TYPE'] != 'OUTPATIENT']\n",
    "print('AFIB + Aflutter')\n",
    "print('outPatient: ',df_afib_aflt_outPatient['PT_ID'].nunique())\n",
    "print('inPatient: ',df_afib_aflt_inPatient['PT_ID'].nunique())\n",
    "\n",
    "df_afib_outPatient.dtypes"
   ]
  },
  {
   "cell_type": "code",
   "execution_count": 22,
   "metadata": {},
   "outputs": [
    {
     "name": "stdout",
     "output_type": "stream",
     "text": [
      "1494\n",
      "===========================\n",
      "1545\n"
     ]
    }
   ],
   "source": [
    "df_afib_outPatient = df_afib_outPatient.groupby('PT_ID')\n",
    "df_afib_outPatient = df_afib_outPatient.filter(lambda x: len(x) > 1)\n",
    "print(df_afib_outPatient['PT_ID'].nunique())\n",
    "df_afib_outPatient=df_afib_outPatient.sort_values(by=['PT_ID','ENC_DT'])\n",
    "testVal= df_afib_outPatient.groupby('PT_ID',as_index=False)['ENC_DT'].apply(lambda x: x.sort_values())\n",
    "df_afib_outPatient['ENC_DT'] = testVal.reset_index(level=0, drop=True)\n",
    "df_afib_outPatient = df_afib_outPatient.groupby('PT_ID').apply(lambda x: x.tail(len(x)-1))\\\n",
    "        .reset_index(drop=True)\n",
    "print('===========================')\n",
    "\n",
    "df_afib_aflt_outPatient = df_afib_aflt_outPatient.groupby('PT_ID')\n",
    "df_afib_aflt_outPatient = df_afib_aflt_outPatient.filter(lambda x: len(x) > 1)\n",
    "print(df_afib_aflt_outPatient['PT_ID'].nunique())\n",
    "\n",
    "df_afib_aflt_outPatient=df_afib_aflt_outPatient.sort_values(by=['PT_ID','ENC_DT'])\n",
    "val= df_afib_aflt_outPatient.groupby('PT_ID',as_index=False)['ENC_DT'].apply(lambda x: x.sort_values())\n",
    "df_afib_aflt_outPatient['ENC_DT'] = val.reset_index(level=0, drop=True)\n",
    "df_afib_aflt_outPatient = df_afib_aflt_outPatient.groupby('PT_ID').apply(lambda x: x.tail(len(x)-1))\\\n",
    "        .reset_index(drop=True)"
   ]
  },
  {
   "cell_type": "code",
   "execution_count": 23,
   "metadata": {},
   "outputs": [
    {
     "name": "stdout",
     "output_type": "stream",
     "text": [
      "22\n",
      "22\n"
     ]
    }
   ],
   "source": [
    "diff_afib_op = df_afib_outPatient[~df_afib_outPatient['PT_ID'].isin(df_afib_inPatient['PT_ID'].unique())]\n",
    "print(diff_afib_op['PT_ID'].nunique())\n",
    "\n",
    "diff_afib_aflt_op = df_afib_aflt_outPatient[~df_afib_aflt_outPatient['PT_ID'].isin(df_afib_aflt_inPatient['PT_ID'].unique())]\n",
    "print(diff_afib_aflt_op['PT_ID'].nunique())\n"
   ]
  },
  {
   "cell_type": "code",
   "execution_count": 24,
   "metadata": {},
   "outputs": [
    {
     "name": "stdout",
     "output_type": "stream",
     "text": [
      "2744\n"
     ]
    }
   ],
   "source": [
    "data_afib_rule_2 = df_afib_inPatient.append(df_afib_outPatient, ignore_index = True,sort=True) \n",
    "print(data_afib_rule_2['PT_ID'].nunique())"
   ]
  },
  {
   "cell_type": "code",
   "execution_count": 25,
   "metadata": {},
   "outputs": [
    {
     "name": "stdout",
     "output_type": "stream",
     "text": [
      "2798\n"
     ]
    }
   ],
   "source": [
    "data_afib_aflt_rule_2 = df_afib_aflt_inPatient.append(df_afib_aflt_outPatient, ignore_index = True,sort=True) \n",
    "print(data_afib_aflt_rule_2['PT_ID'].nunique())"
   ]
  },
  {
   "cell_type": "markdown",
   "metadata": {},
   "source": [
    "# Testing with Geisinger Data"
   ]
  },
  {
   "cell_type": "code",
   "execution_count": 43,
   "metadata": {},
   "outputs": [
    {
     "data": {
      "text/plain": [
       "2744"
      ]
     },
     "execution_count": 43,
     "metadata": {},
     "output_type": "execute_result"
    }
   ],
   "source": [
    "test_afib = geisinger_df[geisinger_df['ATRIAL_FIB_ALL_TIME'] == 1]\n",
    "test_afib['PT_ID'].nunique()"
   ]
  },
  {
   "cell_type": "code",
   "execution_count": 58,
   "metadata": {},
   "outputs": [
    {
     "data": {
      "text/plain": [
       "2798"
      ]
     },
     "execution_count": 58,
     "metadata": {},
     "output_type": "execute_result"
    }
   ],
   "source": [
    "test_afib_aflt = geisinger_df[geisinger_df['AFIB_FLUTTER_ALL_TIME'] == 1]\n",
    "test_afib_aflt['PT_ID'].nunique()"
   ]
  },
  {
   "cell_type": "code",
   "execution_count": 59,
   "metadata": {},
   "outputs": [],
   "source": [
    "diff_afib = test_afib[~test_afib['PT_ID'].isin(data_afib_rule_2['PT_ID'].unique())]\n",
    "diff_afib_aflt = test_afib_aflt[~test_afib_aflt['PT_ID'].isin(data_afib_aflt_rule_2['PT_ID'].unique())]"
   ]
  },
  {
   "cell_type": "code",
   "execution_count": 60,
   "metadata": {},
   "outputs": [
    {
     "name": "stdout",
     "output_type": "stream",
     "text": [
      "0\n",
      "0\n"
     ]
    }
   ],
   "source": [
    "print(diff_afib['PT_ID'].nunique())\n",
    "print(diff_afib_aflt['PT_ID'].nunique())"
   ]
  },
  {
   "cell_type": "markdown",
   "metadata": {},
   "source": [
    "# Prepare Afib data for later usage"
   ]
  },
  {
   "cell_type": "code",
   "execution_count": 72,
   "metadata": {},
   "outputs": [],
   "source": [
    "data_afib_rule_2['INDEX_DT'] = pd.to_datetime(data_afib_rule_2['INDEX_DT'])\n",
    "data_afib_rule_2['ENC_DT'] = pd.to_datetime(data_afib_rule_2['ENC_DT'])\n",
    "\n",
    "data_afib_aflt_rule_2['INDEX_DT'] = pd.to_datetime(data_afib_aflt_rule_2['INDEX_DT'])\n",
    "data_afib_aflt_rule_2['ENC_DT'] = pd.to_datetime(data_afib_aflt_rule_2['ENC_DT'])"
   ]
  },
  {
   "cell_type": "code",
   "execution_count": 27,
   "metadata": {},
   "outputs": [],
   "source": [
    "import numpy as np\n",
    "df_afib_data = data_afib_rule_2.copy(deep=True)\n",
    "df_afib_data['Difference'] = (df_afib_data['ENC_DT'] - df_afib_data['INDEX_DT'])\n",
    "df_afib_data['Difference_in_years'] = (df_afib_data['ENC_DT'] - df_afib_data['INDEX_DT'])/np.timedelta64(1,'Y')\n",
    "\n",
    "df_afib_aflt_data = data_afib_aflt_rule_2.copy(deep=True)\n",
    "df_afib_aflt_data['Difference'] = (df_afib_aflt_data['ENC_DT'] - df_afib_aflt_data['INDEX_DT'])\n",
    "df_afib_aflt_data['Difference_in_years'] = (df_afib_aflt_data['ENC_DT'] - df_afib_aflt_data['INDEX_DT'])/np.timedelta64(1,'Y')"
   ]
  },
  {
   "cell_type": "code",
   "execution_count": 28,
   "metadata": {},
   "outputs": [],
   "source": [
    "def set_year_wise_occurance(df):\n",
    "   # print(cdf.iloc[:,k])\n",
    "    df['Occurance_in_years'] = np.select(\n",
    "        [\n",
    "            (df['Difference_in_years'] >= -22) & (df['Difference_in_years'] < -21),\n",
    "            (df['Difference_in_years'] >= -21) & (df['Difference_in_years'] < -20),\n",
    "            (df['Difference_in_years'] >= -20) & (df['Difference_in_years'] < -19),\n",
    "            (df['Difference_in_years'] >= -19) & (df['Difference_in_years'] < -18),\n",
    "            (df['Difference_in_years'] >= -18) & (df['Difference_in_years'] < -17),\n",
    "            (df['Difference_in_years'] >= -17) & (df['Difference_in_years'] < -16),\n",
    "            (df['Difference_in_years'] >= -16) & (df['Difference_in_years'] < -15),\n",
    "            (df['Difference_in_years'] >= -15) & (df['Difference_in_years'] < -14),\n",
    "            (df['Difference_in_years'] >= -14) & (df['Difference_in_years'] < -13),\n",
    "            (df['Difference_in_years'] >= -13) & (df['Difference_in_years'] < -12),\n",
    "            (df['Difference_in_years'] >= -12) & (df['Difference_in_years'] < -11),\n",
    "            (df['Difference_in_years'] >= -11) & (df['Difference_in_years'] < -10),\n",
    "            (df['Difference_in_years'] >= -10) & (df['Difference_in_years'] < -9),\n",
    "            (df['Difference_in_years'] >= -9) & (df['Difference_in_years'] < -8),\n",
    "            (df['Difference_in_years'] >= -8) & (df['Difference_in_years'] < -7),\n",
    "            (df['Difference_in_years'] >= -7) & (df['Difference_in_years'] < -6),\n",
    "            (df['Difference_in_years'] >= -6) & (df['Difference_in_years'] < -5),\n",
    "            (df['Difference_in_years'] >= -5) & (df['Difference_in_years'] < -4),\n",
    "            (df['Difference_in_years'] >= -4) & (df['Difference_in_years'] < -3),\n",
    "            (df['Difference_in_years'] >= -3) & (df['Difference_in_years'] < -2),\n",
    "            (df['Difference_in_years'] >= -2) & (df['Difference_in_years'] < -1),\n",
    "            (df['Difference_in_years'] >= -1) & (df['Difference_in_years'] < 0),\n",
    "            df['Difference_in_years'] == 0,\n",
    "            (df['Difference_in_years'] > 0) & (df['Difference_in_years'] <= 1),\n",
    "            (df['Difference_in_years'] > 1) & (df['Difference_in_years'] <= 2), \n",
    "            (df['Difference_in_years'] > 2) & (df['Difference_in_years'] <= 3), \n",
    "            (df['Difference_in_years'] > 3) & (df['Difference_in_years'] <= 4), \n",
    "            (df['Difference_in_years'] > 4) & (df['Difference_in_years'] <= 5), \n",
    "            (df['Difference_in_years'] > 5) & (df['Difference_in_years'] <= 6), \n",
    "            (df['Difference_in_years'] > 6) & (df['Difference_in_years'] <= 7),\n",
    "            (df['Difference_in_years'] > 7) & (df['Difference_in_years'] <= 8),\n",
    "            (df['Difference_in_years'] > 8) & (df['Difference_in_years'] <= 9), \n",
    "            (df['Difference_in_years'] > 9) & (df['Difference_in_years'] <= 10), \n",
    "            (df['Difference_in_years'] > 10) & (df['Difference_in_years'] <= 11), \n",
    "            (df['Difference_in_years'] > 11) & (df['Difference_in_years'] <= 12), \n",
    "            (df['Difference_in_years'] > 12) & (df['Difference_in_years'] <= 13), \n",
    "            (df['Difference_in_years'] > 13) & (df['Difference_in_years'] <= 14), \n",
    "            (df['Difference_in_years'] > 14) & (df['Difference_in_years'] <= 15),\n",
    "            (df['Difference_in_years'] > 15) & (df['Difference_in_years'] <= 16)\n",
    "        ], \n",
    "        [\n",
    "            -22,\n",
    "            -21,\n",
    "            -20,\n",
    "            -19,\n",
    "            -18,\n",
    "            -17,\n",
    "            -16,\n",
    "            -15,\n",
    "            -14,\n",
    "            -13,\n",
    "            -12,\n",
    "            -11,\n",
    "            -10,\n",
    "            -9,\n",
    "            -8,\n",
    "            -7,\n",
    "            -6,\n",
    "            -5,\n",
    "            -4,\n",
    "            -3,\n",
    "            -2,\n",
    "            -1,\n",
    "            0,\n",
    "            1,\n",
    "            2,\n",
    "            3,\n",
    "            4,\n",
    "            5,\n",
    "            6,\n",
    "            7,\n",
    "            8,\n",
    "            9,\n",
    "            10,\n",
    "            11,\n",
    "            12,\n",
    "            13,\n",
    "            14,\n",
    "            15,\n",
    "            16\n",
    "        ], \n",
    "        default=0\n",
    "    )\n",
    "    return"
   ]
  },
  {
   "cell_type": "code",
   "execution_count": 29,
   "metadata": {},
   "outputs": [
    {
     "name": "stdout",
     "output_type": "stream",
     "text": [
      "2744\n",
      "2798\n"
     ]
    }
   ],
   "source": [
    "set_year_wise_occurance(df_afib_data)\n",
    "set_year_wise_occurance(df_afib_aflt_data)\n",
    "print(df_afib_data['PT_ID'].nunique())\n",
    "print(df_afib_aflt_data['PT_ID'].nunique())"
   ]
  },
  {
   "cell_type": "markdown",
   "metadata": {},
   "source": [
    "## HISTOGRAM FOR PATIENTS USING FIRST ENCOUNTER OF AFIB BEFORE OR AFTER STROKE"
   ]
  },
  {
   "cell_type": "code",
   "execution_count": 46,
   "metadata": {},
   "outputs": [],
   "source": [
    "#pat_PT1039775.sort_values(by=['Difference_in_years'])\n",
    "df_afib_data = df_afib_data.sort_values(by=['PT_ID','Difference_in_years'])\n",
    "df_afib_data = df_afib_data.drop_duplicates(subset=['PT_ID'])\n",
    "\n",
    "df_afib_aflt_data = df_afib_aflt_data.sort_values(by=['PT_ID','Difference_in_years'])\n",
    "df_afib_aflt_data = df_afib_aflt_data.drop_duplicates(subset=['PT_ID'])\n",
    "df_afib_aflt_data = df_afib_aflt_data[df_afib_aflt_data['PT_ID']!= 'PT1078737'] \n",
    "\n",
    "df_afib_data.to_csv('df_afib_no_duplicate_per_patient.csv',index=False)\n",
    "df_afib_aflt_data.to_csv('df_afib_aflt_no_duplicate_per_patient.csv',index=False)   "
   ]
  },
  {
   "cell_type": "markdown",
   "metadata": {},
   "source": [
    "## Diagnosis By grouping"
   ]
  },
  {
   "cell_type": "code",
   "execution_count": 47,
   "metadata": {},
   "outputs": [
    {
     "name": "stdout",
     "output_type": "stream",
     "text": [
      "2744\n"
     ]
    },
    {
     "data": {
      "text/html": [
       "<div>\n",
       "<style scoped>\n",
       "    .dataframe tbody tr th:only-of-type {\n",
       "        vertical-align: middle;\n",
       "    }\n",
       "\n",
       "    .dataframe tbody tr th {\n",
       "        vertical-align: top;\n",
       "    }\n",
       "\n",
       "    .dataframe thead th {\n",
       "        text-align: right;\n",
       "    }\n",
       "</style>\n",
       "<table border=\"1\" class=\"dataframe\">\n",
       "  <thead>\n",
       "    <tr style=\"text-align: right;\">\n",
       "      <th></th>\n",
       "      <th>ICD_CD</th>\n",
       "      <th>ICD_NM</th>\n",
       "      <th>PT_ID</th>\n",
       "    </tr>\n",
       "  </thead>\n",
       "  <tbody>\n",
       "    <tr>\n",
       "      <th>0</th>\n",
       "      <td>427.31</td>\n",
       "      <td>Atrial fibrillation</td>\n",
       "      <td>1802</td>\n",
       "    </tr>\n",
       "    <tr>\n",
       "      <th>1</th>\n",
       "      <td>I48.0</td>\n",
       "      <td>Paroxysmal atrial fibrillation</td>\n",
       "      <td>332</td>\n",
       "    </tr>\n",
       "    <tr>\n",
       "      <th>2</th>\n",
       "      <td>I48.1</td>\n",
       "      <td>Persistent atrial fibrillation</td>\n",
       "      <td>32</td>\n",
       "    </tr>\n",
       "    <tr>\n",
       "      <th>3</th>\n",
       "      <td>I48.2</td>\n",
       "      <td>Chronic atrial fibrillation</td>\n",
       "      <td>63</td>\n",
       "    </tr>\n",
       "    <tr>\n",
       "      <th>4</th>\n",
       "      <td>I48.91</td>\n",
       "      <td>Unspecified atrial fibrillation</td>\n",
       "      <td>515</td>\n",
       "    </tr>\n",
       "  </tbody>\n",
       "</table>\n",
       "</div>"
      ],
      "text/plain": [
       "   ICD_CD                           ICD_NM  PT_ID\n",
       "0  427.31              Atrial fibrillation   1802\n",
       "1   I48.0   Paroxysmal atrial fibrillation    332\n",
       "2   I48.1   Persistent atrial fibrillation     32\n",
       "3   I48.2      Chronic atrial fibrillation     63\n",
       "4  I48.91  Unspecified atrial fibrillation    515"
      ]
     },
     "execution_count": 47,
     "metadata": {},
     "output_type": "execute_result"
    }
   ],
   "source": [
    "print(df_afib_data['PT_ID'].nunique())\n",
    "df_afib_grouped =  df_afib_data.groupby(['ICD_CD','ICD_NM']) \\\n",
    "       .agg({'PT_ID':'nunique'}) \\\n",
    "       .reset_index()\n",
    "df_afib_grouped"
   ]
  },
  {
   "cell_type": "code",
   "execution_count": 48,
   "metadata": {},
   "outputs": [
    {
     "name": "stdout",
     "output_type": "stream",
     "text": [
      "2797\n"
     ]
    },
    {
     "data": {
      "text/html": [
       "<div>\n",
       "<style scoped>\n",
       "    .dataframe tbody tr th:only-of-type {\n",
       "        vertical-align: middle;\n",
       "    }\n",
       "\n",
       "    .dataframe tbody tr th {\n",
       "        vertical-align: top;\n",
       "    }\n",
       "\n",
       "    .dataframe thead th {\n",
       "        text-align: right;\n",
       "    }\n",
       "</style>\n",
       "<table border=\"1\" class=\"dataframe\">\n",
       "  <thead>\n",
       "    <tr style=\"text-align: right;\">\n",
       "      <th></th>\n",
       "      <th>ICD_CD</th>\n",
       "      <th>ICD_NM</th>\n",
       "      <th>PT_ID</th>\n",
       "    </tr>\n",
       "  </thead>\n",
       "  <tbody>\n",
       "    <tr>\n",
       "      <th>0</th>\n",
       "      <td>427.31</td>\n",
       "      <td>Atrial fibrillation</td>\n",
       "      <td>1741</td>\n",
       "    </tr>\n",
       "    <tr>\n",
       "      <th>1</th>\n",
       "      <td>427.32</td>\n",
       "      <td>Atrial flutter</td>\n",
       "      <td>99</td>\n",
       "    </tr>\n",
       "    <tr>\n",
       "      <th>2</th>\n",
       "      <td>I48.0</td>\n",
       "      <td>Paroxysmal atrial fibrillation</td>\n",
       "      <td>323</td>\n",
       "    </tr>\n",
       "    <tr>\n",
       "      <th>3</th>\n",
       "      <td>I48.1</td>\n",
       "      <td>Persistent atrial fibrillation</td>\n",
       "      <td>31</td>\n",
       "    </tr>\n",
       "    <tr>\n",
       "      <th>4</th>\n",
       "      <td>I48.2</td>\n",
       "      <td>Chronic atrial fibrillation</td>\n",
       "      <td>61</td>\n",
       "    </tr>\n",
       "    <tr>\n",
       "      <th>5</th>\n",
       "      <td>I48.3</td>\n",
       "      <td>Typical atrial flutter</td>\n",
       "      <td>3</td>\n",
       "    </tr>\n",
       "    <tr>\n",
       "      <th>6</th>\n",
       "      <td>I48.4</td>\n",
       "      <td>Atypical atrial flutter</td>\n",
       "      <td>1</td>\n",
       "    </tr>\n",
       "    <tr>\n",
       "      <th>7</th>\n",
       "      <td>I48.91</td>\n",
       "      <td>Unspecified atrial fibrillation</td>\n",
       "      <td>498</td>\n",
       "    </tr>\n",
       "    <tr>\n",
       "      <th>8</th>\n",
       "      <td>I48.92</td>\n",
       "      <td>Unspecified atrial flutter</td>\n",
       "      <td>40</td>\n",
       "    </tr>\n",
       "  </tbody>\n",
       "</table>\n",
       "</div>"
      ],
      "text/plain": [
       "   ICD_CD                           ICD_NM  PT_ID\n",
       "0  427.31              Atrial fibrillation   1741\n",
       "1  427.32                   Atrial flutter     99\n",
       "2   I48.0   Paroxysmal atrial fibrillation    323\n",
       "3   I48.1   Persistent atrial fibrillation     31\n",
       "4   I48.2      Chronic atrial fibrillation     61\n",
       "5   I48.3           Typical atrial flutter      3\n",
       "6   I48.4          Atypical atrial flutter      1\n",
       "7  I48.91  Unspecified atrial fibrillation    498\n",
       "8  I48.92       Unspecified atrial flutter     40"
      ]
     },
     "execution_count": 48,
     "metadata": {},
     "output_type": "execute_result"
    }
   ],
   "source": [
    "print(df_afib_aflt_data['PT_ID'].nunique())\n",
    "df_afib_aflt_grouped =  df_afib_aflt_data.groupby(['ICD_CD','ICD_NM']) \\\n",
    "       .agg({'PT_ID':'nunique'}) \\\n",
    "       .reset_index()\n",
    "df_afib_aflt_grouped"
   ]
  },
  {
   "cell_type": "markdown",
   "metadata": {},
   "source": [
    "### Demographics"
   ]
  },
  {
   "cell_type": "markdown",
   "metadata": {},
   "source": [
    "###### geisinger_afib_patients = geisinger_df[geisinger_df['PT_ID'].isin(df_afib_data['PT_ID'])]\n",
    "data_full_afib_patients = df[df['PT_ID'].isin(df_afib_data['PT_ID'])]\n",
    "data_full_afib_patients.to_csv('data_full_afib_patients.csv',index=False)\n",
    "geisinger_afib_patients.to_csv('geisinger_afib_patients.csv',index=False)\n",
    "\n",
    "geisinger_afib_aflt_patients = geisinger_df[geisinger_df['PT_ID'].isin(df_afib_aflt_data['PT_ID'])]\n",
    "data_full_afib_aflt_patients = df[df['PT_ID'].isin(df_afib_aflt_data['PT_ID'])]\n",
    "data_full_afib_aflt_patients.to_csv('data_full_afib_aflt_patients.csv',index=False)\n",
    "geisinger_afib_aflt_patients.to_csv('geisinger_afib_aflt_patients.csv',index=False)\n",
    "\n",
    "print(geisinger_afib_patients['PT_ID'].nunique())\n",
    "print(geisinger_afib_aflt_patients['PT_ID'].nunique())"
   ]
  },
  {
   "cell_type": "markdown",
   "metadata": {},
   "source": [
    "### Stroke Patients with Afib"
   ]
  },
  {
   "cell_type": "code",
   "execution_count": 51,
   "metadata": {},
   "outputs": [
    {
     "name": "stdout",
     "output_type": "stream",
     "text": [
      "76.14482507288629\n"
     ]
    },
    {
     "data": {
      "text/html": [
       "<div>\n",
       "<style scoped>\n",
       "    .dataframe tbody tr th:only-of-type {\n",
       "        vertical-align: middle;\n",
       "    }\n",
       "\n",
       "    .dataframe tbody tr th {\n",
       "        vertical-align: top;\n",
       "    }\n",
       "\n",
       "    .dataframe thead th {\n",
       "        text-align: right;\n",
       "    }\n",
       "</style>\n",
       "<table border=\"1\" class=\"dataframe\">\n",
       "  <thead>\n",
       "    <tr style=\"text-align: right;\">\n",
       "      <th></th>\n",
       "      <th>PT_SEX</th>\n",
       "      <th>Distinct Patient</th>\n",
       "      <th>Avg Age at index</th>\n",
       "    </tr>\n",
       "  </thead>\n",
       "  <tbody>\n",
       "    <tr>\n",
       "      <th>0</th>\n",
       "      <td>Female</td>\n",
       "      <td>1437</td>\n",
       "      <td>78.14</td>\n",
       "    </tr>\n",
       "    <tr>\n",
       "      <th>1</th>\n",
       "      <td>Male</td>\n",
       "      <td>1307</td>\n",
       "      <td>73.95</td>\n",
       "    </tr>\n",
       "  </tbody>\n",
       "</table>\n",
       "</div>"
      ],
      "text/plain": [
       "   PT_SEX  Distinct Patient  Avg Age at index\n",
       "0  Female              1437             78.14\n",
       "1    Male              1307             73.95"
      ]
     },
     "execution_count": 51,
     "metadata": {},
     "output_type": "execute_result"
    }
   ],
   "source": [
    "geisinger_afib_patients_grouped = geisinger_afib_patients.groupby(['PT_SEX']) \\\n",
    "       .agg({'PT_ID':'nunique', 'AGE_AT_INDEX':'mean'}) \\\n",
    "       .rename(columns={'PT_ID':'Distinct Patient','AGE_AT_INDEX':'Avg Age at index'}) \\\n",
    "       .reset_index()\n",
    "print(geisinger_afib_patients['AGE_AT_INDEX'].mean())\n",
    "geisinger_afib_patients_grouped"
   ]
  },
  {
   "cell_type": "code",
   "execution_count": 52,
   "metadata": {},
   "outputs": [
    {
     "name": "stdout",
     "output_type": "stream",
     "text": [
      "76.07947801215589\n"
     ]
    },
    {
     "data": {
      "text/html": [
       "<div>\n",
       "<style scoped>\n",
       "    .dataframe tbody tr th:only-of-type {\n",
       "        vertical-align: middle;\n",
       "    }\n",
       "\n",
       "    .dataframe tbody tr th {\n",
       "        vertical-align: top;\n",
       "    }\n",
       "\n",
       "    .dataframe thead th {\n",
       "        text-align: right;\n",
       "    }\n",
       "</style>\n",
       "<table border=\"1\" class=\"dataframe\">\n",
       "  <thead>\n",
       "    <tr style=\"text-align: right;\">\n",
       "      <th></th>\n",
       "      <th>PT_SEX</th>\n",
       "      <th>Distinct Patient</th>\n",
       "      <th>Avg Age at index</th>\n",
       "    </tr>\n",
       "  </thead>\n",
       "  <tbody>\n",
       "    <tr>\n",
       "      <th>0</th>\n",
       "      <td>Female</td>\n",
       "      <td>1468</td>\n",
       "      <td>78.07</td>\n",
       "    </tr>\n",
       "    <tr>\n",
       "      <th>1</th>\n",
       "      <td>Male</td>\n",
       "      <td>1329</td>\n",
       "      <td>73.88</td>\n",
       "    </tr>\n",
       "  </tbody>\n",
       "</table>\n",
       "</div>"
      ],
      "text/plain": [
       "   PT_SEX  Distinct Patient  Avg Age at index\n",
       "0  Female              1468             78.07\n",
       "1    Male              1329             73.88"
      ]
     },
     "execution_count": 52,
     "metadata": {},
     "output_type": "execute_result"
    }
   ],
   "source": [
    "geisinger_afib_aflt_patients_grouped = geisinger_afib_aflt_patients.groupby(['PT_SEX']) \\\n",
    "       .agg({'PT_ID':'nunique', 'AGE_AT_INDEX':'mean'}) \\\n",
    "       .rename(columns={'PT_ID':'Distinct Patient','AGE_AT_INDEX':'Avg Age at index'}) \\\n",
    "       .reset_index()\n",
    "print(geisinger_afib_aflt_patients['AGE_AT_INDEX'].mean())\n",
    "geisinger_afib_aflt_patients_grouped"
   ]
  },
  {
   "cell_type": "markdown",
   "metadata": {},
   "source": [
    "### Stroke Patients without Afib"
   ]
  },
  {
   "cell_type": "code",
   "execution_count": 59,
   "metadata": {},
   "outputs": [
    {
     "name": "stdout",
     "output_type": "stream",
     "text": [
      "6185\n",
      "6132\n"
     ]
    }
   ],
   "source": [
    "geisinger_non_afib_patients = geisinger_df[~geisinger_df['PT_ID'].isin(df_afib_data['PT_ID'])]\n",
    "data_full_non_afib_patients = df[~df['PT_ID'].isin(df_afib_data['PT_ID'])]\n",
    "geisinger_non_afib_patients.to_csv('geisinger_non_afib_patients.csv',index=False)\n",
    "data_full_non_afib_patients.to_csv('data_full_non_afib_patients.csv',index=False)\n",
    "\n",
    "geisinger_non_afib_aflt_patients = geisinger_df[~geisinger_df['PT_ID'].isin(df_afib_aflt_data['PT_ID'])]\n",
    "data_full_non_afib_aflt_patients = df[~df['PT_ID'].isin(df_afib_aflt_data['PT_ID'])]\n",
    "geisinger_non_afib_aflt_patients.to_csv('geisinger_non_afib_aflt_patients.csv',index=False)\n",
    "data_full_non_afib_aflt_patients.to_csv('data_full_non_afib_aflt_patients.csv',index=False)\n",
    "\n",
    "print(geisinger_non_afib_patients['PT_ID'].nunique())\n",
    "print(geisinger_non_afib_aflt_patients['PT_ID'].nunique())"
   ]
  },
  {
   "cell_type": "code",
   "execution_count": 54,
   "metadata": {},
   "outputs": [
    {
     "name": "stdout",
     "output_type": "stream",
     "text": [
      "67.29902991107518\n"
     ]
    },
    {
     "data": {
      "text/html": [
       "<div>\n",
       "<style scoped>\n",
       "    .dataframe tbody tr th:only-of-type {\n",
       "        vertical-align: middle;\n",
       "    }\n",
       "\n",
       "    .dataframe tbody tr th {\n",
       "        vertical-align: top;\n",
       "    }\n",
       "\n",
       "    .dataframe thead th {\n",
       "        text-align: right;\n",
       "    }\n",
       "</style>\n",
       "<table border=\"1\" class=\"dataframe\">\n",
       "  <thead>\n",
       "    <tr style=\"text-align: right;\">\n",
       "      <th></th>\n",
       "      <th>PT_SEX</th>\n",
       "      <th>Distinct Patient</th>\n",
       "      <th>Avg Age at index</th>\n",
       "    </tr>\n",
       "  </thead>\n",
       "  <tbody>\n",
       "    <tr>\n",
       "      <th>0</th>\n",
       "      <td>Female</td>\n",
       "      <td>2882</td>\n",
       "      <td>69.17</td>\n",
       "    </tr>\n",
       "    <tr>\n",
       "      <th>1</th>\n",
       "      <td>Male</td>\n",
       "      <td>3303</td>\n",
       "      <td>65.67</td>\n",
       "    </tr>\n",
       "  </tbody>\n",
       "</table>\n",
       "</div>"
      ],
      "text/plain": [
       "   PT_SEX  Distinct Patient  Avg Age at index\n",
       "0  Female              2882             69.17\n",
       "1    Male              3303             65.67"
      ]
     },
     "execution_count": 54,
     "metadata": {},
     "output_type": "execute_result"
    }
   ],
   "source": [
    "geisinger_non_afib_patients_grouped = geisinger_non_afib_patients.groupby(['PT_SEX']) \\\n",
    "       .agg({'PT_ID':'nunique', 'AGE_AT_INDEX':'mean'}) \\\n",
    "       .rename(columns={'PT_ID':'Distinct Patient','AGE_AT_INDEX':'Avg Age at index'}) \\\n",
    "       .reset_index()\n",
    "print(geisinger_non_afib_patients['AGE_AT_INDEX'].mean())\n",
    "geisinger_non_afib_patients_grouped"
   ]
  },
  {
   "cell_type": "code",
   "execution_count": 55,
   "metadata": {},
   "outputs": [
    {
     "name": "stdout",
     "output_type": "stream",
     "text": [
      "67.25238095238095\n"
     ]
    },
    {
     "data": {
      "text/html": [
       "<div>\n",
       "<style scoped>\n",
       "    .dataframe tbody tr th:only-of-type {\n",
       "        vertical-align: middle;\n",
       "    }\n",
       "\n",
       "    .dataframe tbody tr th {\n",
       "        vertical-align: top;\n",
       "    }\n",
       "\n",
       "    .dataframe thead th {\n",
       "        text-align: right;\n",
       "    }\n",
       "</style>\n",
       "<table border=\"1\" class=\"dataframe\">\n",
       "  <thead>\n",
       "    <tr style=\"text-align: right;\">\n",
       "      <th></th>\n",
       "      <th>PT_SEX</th>\n",
       "      <th>Distinct Patient</th>\n",
       "      <th>Avg Age at index</th>\n",
       "    </tr>\n",
       "  </thead>\n",
       "  <tbody>\n",
       "    <tr>\n",
       "      <th>0</th>\n",
       "      <td>Female</td>\n",
       "      <td>2851</td>\n",
       "      <td>69.11</td>\n",
       "    </tr>\n",
       "    <tr>\n",
       "      <th>1</th>\n",
       "      <td>Male</td>\n",
       "      <td>3281</td>\n",
       "      <td>65.64</td>\n",
       "    </tr>\n",
       "  </tbody>\n",
       "</table>\n",
       "</div>"
      ],
      "text/plain": [
       "   PT_SEX  Distinct Patient  Avg Age at index\n",
       "0  Female              2851             69.11\n",
       "1    Male              3281             65.64"
      ]
     },
     "execution_count": 55,
     "metadata": {},
     "output_type": "execute_result"
    }
   ],
   "source": [
    "geisinger_non_afib_aflt_patients_grouped = geisinger_non_afib_aflt_patients.groupby(['PT_SEX']) \\\n",
    "       .agg({'PT_ID':'nunique', 'AGE_AT_INDEX':'mean'}) \\\n",
    "       .rename(columns={'PT_ID':'Distinct Patient','AGE_AT_INDEX':'Avg Age at index'}) \\\n",
    "       .reset_index()\n",
    "print(geisinger_non_afib_aflt_patients['AGE_AT_INDEX'].mean())\n",
    "geisinger_non_afib_aflt_patients_grouped"
   ]
  },
  {
   "cell_type": "code",
   "execution_count": 57,
   "metadata": {},
   "outputs": [
    {
     "name": "stdout",
     "output_type": "stream",
     "text": [
      "===================Before Stroke index========================\n",
      "Afib Geisinger:  1062\n",
      "Afib + Aflut Geisinger:  1090\n",
      "Afib Master:  1062\n",
      "Afib + Aflut Master:  1090\n",
      "Afib_data remainings:  0\n",
      "Afib_aflt_data remainings:  0\n",
      "===================================================\n",
      "===================At Stroke index========================\n",
      "Afib Geisinger:  819\n",
      "Afib + Aflut Geisinger:  842\n",
      "Afib Master:  819\n",
      "Afib + Aflut Master:  841\n",
      "Afib_data remainings:  0\n",
      "Afib_aflt_data remainings:  0\n",
      "===================================================\n",
      "===================After Stroke index========================\n",
      "Afib Geisinger:  863\n",
      "Afib + Aflut Geisinger:  866\n",
      "Afib Master:  863\n",
      "Afib + Aflut Master:  866\n",
      "Afib_data remainings:  0\n",
      "Afib_aflt_data remainings:  0\n",
      "===================================================\n"
     ]
    }
   ],
   "source": [
    "Afib_cohort_geisinger_before_index = geisinger_df[geisinger_df['ATRIAL_FIB_PREINDEX'] == 1]\n",
    "Afib_Aflut_cohort_geisinger_before_index = geisinger_df[geisinger_df['AFIB_FLUTTER_PREINDEX'] == 1]\n",
    "\n",
    "data_afib_diagnosed_before_storke = df_afib_data[df_afib_data['Occurance_in_years'] < 0]\n",
    "data_afib_aflt_diagnosed_before_storke = df_afib_aflt_data[df_afib_aflt_data['Occurance_in_years'] < 0]\n",
    "\n",
    "print('===================Before Stroke index========================')\n",
    "print('Afib Geisinger: ',Afib_cohort_geisinger_before_index['PT_ID'].nunique())\n",
    "print('Afib + Aflut Geisinger: ',Afib_Aflut_cohort_geisinger_before_index['PT_ID'].nunique())\n",
    "\n",
    "print('Afib Master: ',data_afib_diagnosed_before_storke['PT_ID'].nunique())\n",
    "print('Afib + Aflut Master: ',data_afib_aflt_diagnosed_before_storke['PT_ID'].nunique())\n",
    "\n",
    "remainings = data_afib_diagnosed_before_storke[~data_afib_diagnosed_before_storke['PT_ID'].isin(Afib_cohort_geisinger_before_index['PT_ID'])]\n",
    "print('Afib_data remainings: ',remainings['PT_ID'].nunique())\n",
    "\n",
    "remainings = data_afib_aflt_diagnosed_before_storke[~data_afib_aflt_diagnosed_before_storke['PT_ID'].isin(Afib_Aflut_cohort_geisinger_before_index['PT_ID'])]\n",
    "print('Afib_aflt_data remainings: ',remainings['PT_ID'].nunique())\n",
    "\n",
    "print('===================================================')\n",
    "\n",
    "Afib_cohort_geisinger_at_index = geisinger_df[(geisinger_df['ATRIAL_FIB_PREINDEX'] == 0) & (geisinger_df['ATRIAL_FIB_AT_INDEX'] == 1)]\n",
    "Afib_Aflut_cohort_geisinger_at_index = geisinger_df[(geisinger_df['AFIB_FLUTTER_PREINDEX'] == 0) & (geisinger_df['AFIB_FLUTTER_AT_INDEX'] == 1)]\n",
    "\n",
    "data_afib_diagnosed_at_storke = df_afib_data[df_afib_data['Occurance_in_years'] == 0]\n",
    "data_afib_aflt_diagnosed_at_storke = df_afib_aflt_data[df_afib_aflt_data['Occurance_in_years'] == 0]\n",
    "\n",
    "print('===================At Stroke index========================')\n",
    "print('Afib Geisinger: ',Afib_cohort_geisinger_at_index['PT_ID'].nunique())\n",
    "print('Afib + Aflut Geisinger: ',Afib_Aflut_cohort_geisinger_at_index['PT_ID'].nunique())\n",
    "\n",
    "print('Afib Master: ',data_afib_diagnosed_at_storke['PT_ID'].nunique())\n",
    "print('Afib + Aflut Master: ',data_afib_aflt_diagnosed_at_storke['PT_ID'].nunique())\n",
    "\n",
    "remainings = data_afib_diagnosed_at_storke[~data_afib_diagnosed_at_storke['PT_ID'].isin(Afib_cohort_geisinger_at_index['PT_ID'])]\n",
    "print('Afib_data remainings: ',remainings['PT_ID'].nunique())\n",
    "\n",
    "remainings = data_afib_aflt_diagnosed_at_storke[~data_afib_aflt_diagnosed_at_storke['PT_ID'].isin(Afib_Aflut_cohort_geisinger_at_index['PT_ID'])]\n",
    "print('Afib_aflt_data remainings: ',remainings['PT_ID'].nunique())\n",
    "print('===================================================')\n",
    "\n",
    "Afib_cohort_geisinger_after_index = geisinger_df[(geisinger_df['ATRIAL_FIB_PREINDEX'] == 0) & (geisinger_df['ATRIAL_FIB_AT_INDEX'] == 0)  & (geisinger_df['ATRIAL_FIB_ALL_TIME'] == 1)]\n",
    "Afib_Aflut_cohort_geisinger_after_index = geisinger_df[(geisinger_df['AFIB_FLUTTER_PREINDEX'] == 0) & (geisinger_df['AFIB_FLUTTER_AT_INDEX'] == 0)  & (geisinger_df['AFIB_FLUTTER_ALL_TIME'] == 1)]\n",
    "data_afib_diagnosed_after_storke = df_afib_data[df_afib_data['Occurance_in_years'] > 0]\n",
    "data_afib_aflt_diagnosed_after_storke = df_afib_aflt_data[df_afib_aflt_data['Occurance_in_years'] > 0]\n",
    "\n",
    "print('===================After Stroke index========================')\n",
    "print('Afib Geisinger: ',Afib_cohort_geisinger_after_index['PT_ID'].nunique())\n",
    "print('Afib + Aflut Geisinger: ',Afib_Aflut_cohort_geisinger_after_index['PT_ID'].nunique())\n",
    "\n",
    "print('Afib Master: ',data_afib_diagnosed_after_storke['PT_ID'].nunique())\n",
    "print('Afib + Aflut Master: ',data_afib_aflt_diagnosed_after_storke['PT_ID'].nunique())    \n",
    "                                                                                                                    \n",
    "remainings = data_afib_diagnosed_after_storke[~data_afib_diagnosed_after_storke['PT_ID'].isin(Afib_cohort_geisinger_after_index['PT_ID'])]\n",
    "print('Afib_data remainings: ',remainings['PT_ID'].nunique())\n",
    "\n",
    "remainings = data_afib_aflt_diagnosed_after_storke[~data_afib_aflt_diagnosed_after_storke['PT_ID'].isin(data_afib_aflt_diagnosed_after_storke['PT_ID'])]\n",
    "print('Afib_aflt_data remainings: ',remainings['PT_ID'].nunique())\n",
    "                                                                                                                    \n",
    "print('===================================================')\n"
   ]
  },
  {
   "cell_type": "code",
   "execution_count": 60,
   "metadata": {},
   "outputs": [
    {
     "name": "stdout",
     "output_type": "stream",
     "text": [
      "6185\n",
      "6132\n"
     ]
    }
   ],
   "source": [
    "print(data_full_non_afib_patients['PT_ID'].nunique())\n",
    "print(data_full_non_afib_aflt_patients['PT_ID'].nunique())"
   ]
  },
  {
   "cell_type": "code",
   "execution_count": 61,
   "metadata": {},
   "outputs": [
    {
     "data": {
      "text/html": [
       "<div>\n",
       "<style scoped>\n",
       "    .dataframe tbody tr th:only-of-type {\n",
       "        vertical-align: middle;\n",
       "    }\n",
       "\n",
       "    .dataframe tbody tr th {\n",
       "        vertical-align: top;\n",
       "    }\n",
       "\n",
       "    .dataframe thead th {\n",
       "        text-align: right;\n",
       "    }\n",
       "</style>\n",
       "<table border=\"1\" class=\"dataframe\">\n",
       "  <thead>\n",
       "    <tr style=\"text-align: right;\">\n",
       "      <th></th>\n",
       "      <th>ENC_DT</th>\n",
       "      <th>ENC_TYPE</th>\n",
       "      <th>ICD_CD</th>\n",
       "      <th>ICD_NM</th>\n",
       "      <th>INDEX_DT</th>\n",
       "      <th>PT_ID</th>\n",
       "    </tr>\n",
       "  </thead>\n",
       "  <tbody>\n",
       "    <tr>\n",
       "      <th>0</th>\n",
       "      <td>2008-11-20</td>\n",
       "      <td>ED TO IP</td>\n",
       "      <td>427.31</td>\n",
       "      <td>Atrial fibrillation</td>\n",
       "      <td>2008-11-20</td>\n",
       "      <td>PT1039670</td>\n",
       "    </tr>\n",
       "    <tr>\n",
       "      <th>1</th>\n",
       "      <td>2008-11-24</td>\n",
       "      <td>IP ONLY</td>\n",
       "      <td>427.31</td>\n",
       "      <td>Atrial fibrillation</td>\n",
       "      <td>2008-11-20</td>\n",
       "      <td>PT1039670</td>\n",
       "    </tr>\n",
       "    <tr>\n",
       "      <th>2</th>\n",
       "      <td>2011-10-25</td>\n",
       "      <td>ED TO IP</td>\n",
       "      <td>427.31</td>\n",
       "      <td>Atrial fibrillation</td>\n",
       "      <td>2012-07-31</td>\n",
       "      <td>PT1039775</td>\n",
       "    </tr>\n",
       "    <tr>\n",
       "      <th>3</th>\n",
       "      <td>2011-09-02</td>\n",
       "      <td>ED TO IP</td>\n",
       "      <td>427.31</td>\n",
       "      <td>Atrial fibrillation</td>\n",
       "      <td>2012-07-31</td>\n",
       "      <td>PT1039775</td>\n",
       "    </tr>\n",
       "    <tr>\n",
       "      <th>4</th>\n",
       "      <td>2007-03-30</td>\n",
       "      <td>IP ONLY</td>\n",
       "      <td>427.31</td>\n",
       "      <td>Atrial fibrillation</td>\n",
       "      <td>2012-07-31</td>\n",
       "      <td>PT1039775</td>\n",
       "    </tr>\n",
       "    <tr>\n",
       "      <th>...</th>\n",
       "      <td>...</td>\n",
       "      <td>...</td>\n",
       "      <td>...</td>\n",
       "      <td>...</td>\n",
       "      <td>...</td>\n",
       "      <td>...</td>\n",
       "    </tr>\n",
       "    <tr>\n",
       "      <th>34275</th>\n",
       "      <td>2011-10-31</td>\n",
       "      <td>OUTPATIENT</td>\n",
       "      <td>427.31</td>\n",
       "      <td>Atrial fibrillation</td>\n",
       "      <td>2004-01-26</td>\n",
       "      <td>PT999898</td>\n",
       "    </tr>\n",
       "    <tr>\n",
       "      <th>34276</th>\n",
       "      <td>2012-01-31</td>\n",
       "      <td>OUTPATIENT</td>\n",
       "      <td>427.31</td>\n",
       "      <td>Atrial fibrillation</td>\n",
       "      <td>2004-01-26</td>\n",
       "      <td>PT999898</td>\n",
       "    </tr>\n",
       "    <tr>\n",
       "      <th>34277</th>\n",
       "      <td>2012-02-28</td>\n",
       "      <td>OUTPATIENT</td>\n",
       "      <td>427.31</td>\n",
       "      <td>Atrial fibrillation</td>\n",
       "      <td>2004-01-26</td>\n",
       "      <td>PT999898</td>\n",
       "    </tr>\n",
       "    <tr>\n",
       "      <th>34278</th>\n",
       "      <td>2012-06-26</td>\n",
       "      <td>OUTPATIENT</td>\n",
       "      <td>427.31</td>\n",
       "      <td>Atrial fibrillation</td>\n",
       "      <td>2004-01-26</td>\n",
       "      <td>PT999898</td>\n",
       "    </tr>\n",
       "    <tr>\n",
       "      <th>34279</th>\n",
       "      <td>2012-11-28</td>\n",
       "      <td>OUTPATIENT</td>\n",
       "      <td>427.31</td>\n",
       "      <td>Atrial fibrillation</td>\n",
       "      <td>2004-01-26</td>\n",
       "      <td>PT999898</td>\n",
       "    </tr>\n",
       "  </tbody>\n",
       "</table>\n",
       "<p>34276 rows × 6 columns</p>\n",
       "</div>"
      ],
      "text/plain": [
       "          ENC_DT    ENC_TYPE  ICD_CD               ICD_NM   INDEX_DT  \\\n",
       "0     2008-11-20    ED TO IP  427.31  Atrial fibrillation 2008-11-20   \n",
       "1     2008-11-24     IP ONLY  427.31  Atrial fibrillation 2008-11-20   \n",
       "2     2011-10-25    ED TO IP  427.31  Atrial fibrillation 2012-07-31   \n",
       "3     2011-09-02    ED TO IP  427.31  Atrial fibrillation 2012-07-31   \n",
       "4     2007-03-30     IP ONLY  427.31  Atrial fibrillation 2012-07-31   \n",
       "...          ...         ...     ...                  ...        ...   \n",
       "34275 2011-10-31  OUTPATIENT  427.31  Atrial fibrillation 2004-01-26   \n",
       "34276 2012-01-31  OUTPATIENT  427.31  Atrial fibrillation 2004-01-26   \n",
       "34277 2012-02-28  OUTPATIENT  427.31  Atrial fibrillation 2004-01-26   \n",
       "34278 2012-06-26  OUTPATIENT  427.31  Atrial fibrillation 2004-01-26   \n",
       "34279 2012-11-28  OUTPATIENT  427.31  Atrial fibrillation 2004-01-26   \n",
       "\n",
       "           PT_ID  \n",
       "0      PT1039670  \n",
       "1      PT1039670  \n",
       "2      PT1039775  \n",
       "3      PT1039775  \n",
       "4      PT1039775  \n",
       "...          ...  \n",
       "34275   PT999898  \n",
       "34276   PT999898  \n",
       "34277   PT999898  \n",
       "34278   PT999898  \n",
       "34279   PT999898  \n",
       "\n",
       "[34276 rows x 6 columns]"
      ]
     },
     "execution_count": 61,
     "metadata": {},
     "output_type": "execute_result"
    }
   ],
   "source": [
    "data_afib_aflt_rule_2[data_afib_aflt_rule_2['PT_ID']!= 'PT1078737'] "
   ]
  },
  {
   "cell_type": "code",
   "execution_count": null,
   "metadata": {},
   "outputs": [],
   "source": []
  }
 ],
 "metadata": {
  "kernelspec": {
   "display_name": "Python 3",
   "language": "python",
   "name": "python3"
  },
  "language_info": {
   "codemirror_mode": {
    "name": "ipython",
    "version": 3
   },
   "file_extension": ".py",
   "mimetype": "text/x-python",
   "name": "python",
   "nbconvert_exporter": "python",
   "pygments_lexer": "ipython3",
   "version": "3.7.7"
  }
 },
 "nbformat": 4,
 "nbformat_minor": 4
}
