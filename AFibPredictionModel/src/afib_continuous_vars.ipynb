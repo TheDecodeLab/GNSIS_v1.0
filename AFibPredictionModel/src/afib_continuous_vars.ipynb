{
 "cells": [
  {
   "cell_type": "code",
   "execution_count": 1,
   "metadata": {},
   "outputs": [],
   "source": [
    "from __future__ import division\n",
    "import pandas as pd\n",
    "import numpy as np  \n",
    "import matplotlib.pyplot as plt  \n",
    "import seaborn as seabornInstance \n",
    "import scipy.optimize as op \n",
    "\n",
    "from sklearn.model_selection import train_test_split,StratifiedShuffleSplit \n",
    "from sklearn.linear_model import LinearRegression,LogisticRegression\n",
    "from sklearn import metrics as metrices\n",
    "\n",
    "%matplotlib inline\n",
    "\n",
    "pd.options.display.float_format = '{:.2f}'.format"
   ]
  },
  {
   "cell_type": "code",
   "execution_count": 3,
   "metadata": {},
   "outputs": [],
   "source": [
    "geisinger_afib_panda = pd.read_csv('geisinger_afib_patients.csv',low_memory=False)\n",
    "geisinger_non_afib_panda = pd.read_csv('geisinger_non_afib_patients.csv',low_memory=False)"
   ]
  },
  {
   "cell_type": "code",
   "execution_count": 4,
   "metadata": {},
   "outputs": [
    {
     "name": "stdout",
     "output_type": "stream",
     "text": [
      "1062\n",
      "819\n",
      "583\n",
      "280\n"
     ]
    }
   ],
   "source": [
    "#data for 2744 patients's first occurance of afib\n",
    "data_afib_per_patient_panda = pd.read_csv('df_afib_no_duplicate_per_patient.csv')\n",
    "\n",
    "#data for 1091 patients's whose first occurance of afib is before the stroke date\n",
    "data_afib_diagnosed_before_storke = data_afib_per_patient_panda[data_afib_per_patient_panda['Occurance_in_years'] < 0]\n",
    "data_afib_diagnosed_before_storke_at_index = data_afib_per_patient_panda[data_afib_per_patient_panda['Occurance_in_years'] == 0]\n",
    "data_afib_diagnosed_after_storke_within_3_years =  data_afib_per_patient_panda[(data_afib_per_patient_panda['Occurance_in_years'] > 0) & (data_afib_per_patient_panda['Occurance_in_years'] <= 3)]\n",
    "data_afib_diagnosed_other = data_afib_per_patient_panda[data_afib_per_patient_panda['Occurance_in_years'] > 3]\n",
    "\n",
    "print(data_afib_diagnosed_before_storke['PT_ID'].nunique())\n",
    "print(data_afib_diagnosed_before_storke_at_index['PT_ID'].nunique())\n",
    "print(data_afib_diagnosed_after_storke_within_3_years['PT_ID'].nunique())\n",
    "print(data_afib_diagnosed_other['PT_ID'].nunique())"
   ]
  },
  {
   "cell_type": "code",
   "execution_count": 5,
   "metadata": {},
   "outputs": [],
   "source": [
    "Lab_data_event_dates = pd.read_excel('LABS_DATASETS_CLEAN.xlsx',sheet_name='PT_ID and Event Dates')\n",
    "Lab_data_BMI = pd.read_excel('LABS_DATASETS_CLEAN.xlsx',sheet_name='BMI')\n",
    "Lab_data_CRP = pd.read_excel('LABS_DATASETS_CLEAN.xlsx',sheet_name='CRP')\n",
    "Lab_data_ESR = pd.read_excel('LABS_DATASETS_CLEAN.xlsx',sheet_name='ESR')\n",
    "Lab_data_GFR = pd.read_excel('LABS_DATASETS_CLEAN.xlsx',sheet_name='GFR')\n",
    "Lab_data_HB = pd.read_excel('LABS_DATASETS_CLEAN.xlsx',sheet_name='HB')\n",
    "Lab_data_HBA1C = pd.read_excel('LABS_DATASETS_CLEAN.xlsx',sheet_name='HBA1C')\n",
    "Lab_data_HCT = pd.read_excel('LABS_DATASETS_CLEAN.xlsx',sheet_name='HCT')\n",
    "Lab_data_HDL = pd.read_excel('LABS_DATASETS_CLEAN.xlsx',sheet_name='HDL')\n",
    "Lab_data_LDL = pd.read_excel('LABS_DATASETS_CLEAN.xlsx',sheet_name='LDL')\n",
    "Lab_data_PLT = pd.read_excel('LABS_DATASETS_CLEAN.xlsx',sheet_name='PLT')\n",
    "Lab_data_WBC = pd.read_excel('LABS_DATASETS_CLEAN.xlsx',sheet_name='WBC')"
   ]
  },
  {
   "cell_type": "code",
   "execution_count": 6,
   "metadata": {},
   "outputs": [],
   "source": [
    "Lab_data_event_dates = pd.read_excel('LABS_DATASETS_CLEAN.xlsx',sheet_name='PT_ID and Event Dates')\n",
    "Lab_data_event_dates = Lab_data_event_dates[Lab_data_event_dates['PT_DEATH_DT'].notna()]\n",
    "Lab_data_BMI = Lab_data_BMI[Lab_data_BMI['TIME_DIFF_BMI_INDEX'].notna()]\n",
    "Lab_data_CRP = Lab_data_CRP[Lab_data_CRP['TIME_DIFF_CRP_INDEX'].notna()]\n",
    "Lab_data_ESR = Lab_data_ESR[Lab_data_ESR['TIME_DIFF_ESR_INDEX'].notna()]\n",
    "Lab_data_GFR = Lab_data_GFR[Lab_data_GFR['TIME_DIFF_GFR_INDEX'].notna()]\n",
    "Lab_data_HB = Lab_data_HB[Lab_data_HB['TIME_DIFF_HB_INDEX'].notna()]\n",
    "Lab_data_HBA1C = Lab_data_HBA1C[Lab_data_HBA1C['TIME_DIFF_HBA1C_INDEX'].notna()]\n",
    "Lab_data_HCT = Lab_data_HCT[Lab_data_HCT['TIME_DIFF_HCT_INDEX'].notna()]\n",
    "Lab_data_HDL = Lab_data_HDL[Lab_data_HDL['TIME_DIFF_HDL_INDEX'].notna()]\n",
    "Lab_data_LDL = Lab_data_LDL[Lab_data_LDL['TIME_DIFF_LDL_INDEX'].notna()]\n",
    "Lab_data_PLT = Lab_data_PLT[Lab_data_PLT['TIME_DIFF_PLT_INDEX'].notna()]\n",
    "Lab_data_WBC = Lab_data_WBC[Lab_data_WBC['TIME_DIFF_WBC_INDEX'].notna()]"
   ]
  },
  {
   "cell_type": "code",
   "execution_count": 7,
   "metadata": {},
   "outputs": [
    {
     "name": "stdout",
     "output_type": "stream",
     "text": [
      "2765\n",
      "8649\n",
      "2514\n",
      "4540\n",
      "8821\n",
      "8868\n",
      "7774\n",
      "8867\n",
      "8528\n",
      "8522\n",
      "8863\n",
      "8863\n"
     ]
    }
   ],
   "source": [
    "print(Lab_data_event_dates['PT_ID'].nunique())\n",
    "print(Lab_data_BMI['PT_ID'].nunique())\n",
    "print(Lab_data_CRP['PT_ID'].nunique())\n",
    "print(Lab_data_ESR['PT_ID'].nunique())\n",
    "print(Lab_data_GFR['PT_ID'].nunique())\n",
    "print(Lab_data_HB['PT_ID'].nunique())\n",
    "print(Lab_data_HBA1C['PT_ID'].nunique())\n",
    "print(Lab_data_HCT['PT_ID'].nunique())\n",
    "print(Lab_data_HDL['PT_ID'].nunique())\n",
    "print(Lab_data_LDL['PT_ID'].nunique())\n",
    "print(Lab_data_PLT['PT_ID'].nunique())\n",
    "print(Lab_data_WBC['PT_ID'].nunique())"
   ]
  },
  {
   "cell_type": "code",
   "execution_count": 8,
   "metadata": {},
   "outputs": [],
   "source": [
    "Lab_data_BMI_refined = Lab_data_BMI[(Lab_data_BMI['TIME_DIFF_BMI_INDEX'] <= 0) & (Lab_data_BMI['TIME_DIFF_BMI_INDEX'] > -1095)]\n",
    "Lab_data_CRP_refined = Lab_data_CRP[(Lab_data_CRP['TIME_DIFF_CRP_INDEX'] <= 0) & (Lab_data_CRP['TIME_DIFF_CRP_INDEX'] > -1095)]\n",
    "Lab_data_ESR_refined = Lab_data_ESR[(Lab_data_ESR['TIME_DIFF_ESR_INDEX'] <= 0) & (Lab_data_ESR['TIME_DIFF_ESR_INDEX'] > -1095)]\n",
    "Lab_data_GFR_refined = Lab_data_GFR[(Lab_data_GFR['TIME_DIFF_GFR_INDEX'] <= 0) & (Lab_data_GFR['TIME_DIFF_GFR_INDEX']  > -1095)]\n",
    "Lab_data_HB_refined = Lab_data_HB[(Lab_data_HB['TIME_DIFF_HB_INDEX'] <= 0) & (Lab_data_HB['TIME_DIFF_HB_INDEX'] < 1095)]\n",
    "Lab_data_HBA1C_refined = Lab_data_HBA1C[(Lab_data_HBA1C['TIME_DIFF_HBA1C_INDEX'] >= 0) & (Lab_data_HBA1C['TIME_DIFF_HBA1C_INDEX'] < 1095)]\n",
    "Lab_data_HCT_refined = Lab_data_HCT[(Lab_data_HCT['TIME_DIFF_HCT_INDEX'] <= 0) & (Lab_data_HCT['TIME_DIFF_HCT_INDEX'] > -1095)]\n",
    "Lab_data_HDL_refined = Lab_data_HDL[(Lab_data_HDL['TIME_DIFF_HDL_INDEX'] <= 0) & (Lab_data_HDL['TIME_DIFF_HDL_INDEX'] > -1095)]\n",
    "Lab_data_LDL_refined = Lab_data_LDL[(Lab_data_LDL['TIME_DIFF_LDL_INDEX'] <= 0) & (Lab_data_LDL['TIME_DIFF_LDL_INDEX'] > -1095)]\n",
    "Lab_data_PLT_refined = Lab_data_PLT[(Lab_data_PLT['TIME_DIFF_PLT_INDEX'] <= 0) & (Lab_data_PLT['TIME_DIFF_PLT_INDEX'] > -1095)]\n",
    "Lab_data_WBC_refined = Lab_data_WBC[(Lab_data_WBC['TIME_DIFF_WBC_INDEX'] <= 0) & (Lab_data_WBC['TIME_DIFF_WBC_INDEX'] > -1095)]"
   ]
  },
  {
   "cell_type": "code",
   "execution_count": 9,
   "metadata": {},
   "outputs": [
    {
     "name": "stdout",
     "output_type": "stream",
     "text": [
      "8003\n",
      "870\n",
      "1915\n",
      "8181\n",
      "8485\n",
      "7127\n",
      "8330\n",
      "5020\n",
      "5100\n",
      "8325\n",
      "8317\n"
     ]
    }
   ],
   "source": [
    "print(Lab_data_BMI_refined['PT_ID'].nunique())\n",
    "print(Lab_data_CRP_refined['PT_ID'].nunique())\n",
    "print(Lab_data_ESR_refined['PT_ID'].nunique())\n",
    "print(Lab_data_GFR_refined['PT_ID'].nunique())\n",
    "print(Lab_data_HB_refined['PT_ID'].nunique())\n",
    "print(Lab_data_HBA1C_refined['PT_ID'].nunique())\n",
    "print(Lab_data_HCT_refined['PT_ID'].nunique())\n",
    "print(Lab_data_HDL_refined['PT_ID'].nunique())\n",
    "print(Lab_data_LDL_refined['PT_ID'].nunique())\n",
    "print(Lab_data_PLT_refined['PT_ID'].nunique())\n",
    "print(Lab_data_WBC_refined['PT_ID'].nunique())"
   ]
  },
  {
   "cell_type": "markdown",
   "metadata": {},
   "source": [
    "# $\\color{BLUE}{\\text{Patients having afib before stroke index}}$"
   ]
  },
  {
   "cell_type": "code",
   "execution_count": 10,
   "metadata": {},
   "outputs": [
    {
     "name": "stdout",
     "output_type": "stream",
     "text": [
      "BMI  1042\n",
      "CRP  153\n",
      "ESR  326\n",
      "GFR  1034\n",
      "HB  1056\n",
      "HBA1C  851\n",
      "HCT  1043\n",
      "HDL  772\n",
      "LDL  791\n",
      "PLT  1042\n",
      "WBC  1043\n"
     ]
    }
   ],
   "source": [
    "Lab_data_BMI_before_stroke = Lab_data_BMI_refined[Lab_data_BMI_refined['PT_ID'].isin(data_afib_diagnosed_before_storke['PT_ID'])]\n",
    "print('BMI ',Lab_data_BMI_before_stroke['PT_ID'].nunique())\n",
    "Lab_data_CRP_before_stroke = Lab_data_CRP_refined[Lab_data_CRP_refined['PT_ID'].isin(data_afib_diagnosed_before_storke['PT_ID'])]\n",
    "print('CRP ',Lab_data_CRP_before_stroke['PT_ID'].nunique())\n",
    "Lab_data_ESR_before_stroke = Lab_data_ESR_refined[Lab_data_ESR_refined['PT_ID'].isin(data_afib_diagnosed_before_storke['PT_ID'])]\n",
    "print('ESR ',Lab_data_ESR_before_stroke['PT_ID'].nunique())\n",
    "Lab_data_GFR_before_stroke = Lab_data_GFR_refined[Lab_data_GFR_refined['PT_ID'].isin(data_afib_diagnosed_before_storke['PT_ID'])]\n",
    "print('GFR ',Lab_data_GFR_before_stroke['PT_ID'].nunique())\n",
    "Lab_data_HB_before_stroke = Lab_data_HB_refined[Lab_data_HB_refined['PT_ID'].isin(data_afib_diagnosed_before_storke['PT_ID'])]\n",
    "print('HB ',Lab_data_HB_before_stroke['PT_ID'].nunique())\n",
    "Lab_data_HBA1C_before_stroke = Lab_data_HBA1C_refined[Lab_data_HBA1C_refined['PT_ID'].isin(data_afib_diagnosed_before_storke['PT_ID'])]\n",
    "print('HBA1C ',Lab_data_HBA1C_before_stroke['PT_ID'].nunique())\n",
    "Lab_data_HCT_before_stroke = Lab_data_HCT_refined[Lab_data_HCT_refined['PT_ID'].isin(data_afib_diagnosed_before_storke['PT_ID'])]\n",
    "print('HCT ',Lab_data_HCT_before_stroke['PT_ID'].nunique())\n",
    "Lab_data_HDL_before_stroke = Lab_data_HDL_refined[Lab_data_HDL_refined['PT_ID'].isin(data_afib_diagnosed_before_storke['PT_ID'])]\n",
    "print('HDL ',Lab_data_HDL_before_stroke['PT_ID'].nunique())\n",
    "Lab_data_LDL_before_stroke = Lab_data_LDL_refined[Lab_data_LDL_refined['PT_ID'].isin(data_afib_diagnosed_before_storke['PT_ID'])]\n",
    "print('LDL ',Lab_data_LDL_before_stroke['PT_ID'].nunique())\n",
    "Lab_data_PLT_before_stroke = Lab_data_PLT_refined[Lab_data_PLT_refined['PT_ID'].isin(data_afib_diagnosed_before_storke['PT_ID'])]\n",
    "print('PLT ',Lab_data_PLT_before_stroke['PT_ID'].nunique())\n",
    "Lab_data_WBC_before_stroke = Lab_data_WBC_refined[Lab_data_WBC_refined['PT_ID'].isin(data_afib_diagnosed_before_storke['PT_ID'])]\n",
    "print('WBC ',Lab_data_WBC_before_stroke['PT_ID'].nunique())"
   ]
  },
  {
   "cell_type": "code",
   "execution_count": 11,
   "metadata": {},
   "outputs": [
    {
     "data": {
      "text/plain": [
       "ENC_DT                 20\n",
       "ENC_TYPE               20\n",
       "ICD_CD                 20\n",
       "ICD_NM                 20\n",
       "INDEX_DT               20\n",
       "PT_ID                  20\n",
       "Difference             20\n",
       "Difference_in_years    20\n",
       "Occurance_in_years     20\n",
       "dtype: int64"
      ]
     },
     "execution_count": 11,
     "metadata": {},
     "output_type": "execute_result"
    }
   ],
   "source": [
    "data_afib_diagnosed_before_storke[~data_afib_diagnosed_before_storke['PT_ID'].isin(Lab_data_BMI_before_stroke['PT_ID'])].count()"
   ]
  },
  {
   "cell_type": "code",
   "execution_count": 12,
   "metadata": {},
   "outputs": [
    {
     "name": "stdout",
     "output_type": "stream",
     "text": [
      "========================\n",
      "BMI \n",
      "        BMI_VALUE  TIME_DIFF_BMI_INDEX\n",
      "count   21886.00             21886.00\n",
      "mean       29.77              -461.19\n",
      "std         6.73               330.99\n",
      "min        15.00             -1094.00\n",
      "25%        25.00              -734.00\n",
      "50%        29.10              -438.00\n",
      "75%        33.40              -158.00\n",
      "max        92.00                 0.00\n",
      "========================\n",
      "CRP \n",
      " count          297\n",
      "unique         153\n",
      "top       PT777077\n",
      "freq            21\n",
      "Name: PT_ID, dtype: object\n",
      "========================\n",
      "ESR \n",
      " count           648\n",
      "unique          326\n",
      "top       PT1060126\n",
      "freq             22\n",
      "Name: PT_ID, dtype: object\n",
      "========================\n",
      "GFR \n",
      " count        18561\n",
      "unique        1034\n",
      "top       PT234434\n",
      "freq           253\n",
      "Name: PT_ID, dtype: object\n",
      "========================\n",
      "HB \n",
      " count        36185\n",
      "unique        1056\n",
      "top       PT263782\n",
      "freq           642\n",
      "Name: PT_ID, dtype: object\n",
      "========================\n",
      "HBA1C \n",
      " count         2082\n",
      "unique         851\n",
      "top       PT336644\n",
      "freq            18\n",
      "Name: PT_ID, dtype: object\n",
      "========================\n",
      "HCT \n",
      " count        16125\n",
      "unique        1043\n",
      "top       PT741218\n",
      "freq           197\n",
      "Name: PT_ID, dtype: object\n",
      "========================\n",
      "HDL \n",
      " count          2271\n",
      "unique          772\n",
      "top       PT1164690\n",
      "freq             13\n",
      "Name: PT_ID, dtype: object\n",
      "========================\n",
      "LDL \n",
      " count          2562\n",
      "unique          791\n",
      "top       PT1164690\n",
      "freq             13\n",
      "Name: PT_ID, dtype: object\n",
      "========================\n",
      "PLT \n",
      " count        15918\n",
      "unique        1042\n",
      "top       PT741218\n",
      "freq           197\n",
      "Name: PT_ID, dtype: object\n",
      "========================\n",
      "WBC \n",
      " count       15699\n",
      "unique       1043\n",
      "top       PT91200\n",
      "freq          193\n",
      "Name: PT_ID, dtype: object\n"
     ]
    }
   ],
   "source": [
    "print('========================')\n",
    "print('BMI \\n',Lab_data_BMI_before_stroke.describe())\n",
    "print('========================')\n",
    "print('CRP \\n',Lab_data_CRP_before_stroke['PT_ID'].describe())\n",
    "print('========================')\n",
    "print('ESR \\n',Lab_data_ESR_before_stroke['PT_ID'].describe())\n",
    "print('========================')\n",
    "print('GFR \\n',Lab_data_GFR_before_stroke['PT_ID'].describe())\n",
    "print('========================')\n",
    "print('HB \\n',Lab_data_HB_before_stroke['PT_ID'].describe())\n",
    "print('========================')\n",
    "print('HBA1C \\n',Lab_data_HBA1C_before_stroke['PT_ID'].describe())\n",
    "print('========================')\n",
    "print('HCT \\n',Lab_data_HCT_before_stroke['PT_ID'].describe())\n",
    "print('========================')\n",
    "print('HDL \\n',Lab_data_HDL_before_stroke['PT_ID'].describe())\n",
    "print('========================')\n",
    "print('LDL \\n',Lab_data_LDL_before_stroke['PT_ID'].describe())\n",
    "print('========================')\n",
    "print('PLT \\n',Lab_data_PLT_before_stroke['PT_ID'].describe())\n",
    "print('========================')\n",
    "print('WBC \\n',Lab_data_WBC_before_stroke['PT_ID'].describe())\n"
   ]
  },
  {
   "cell_type": "code",
   "execution_count": 13,
   "metadata": {},
   "outputs": [
    {
     "name": "stdout",
     "output_type": "stream",
     "text": [
      "===================================================\n",
      "BMI \n",
      "        BMI_VALUE  TIME_DIFF_BMI_INDEX\n",
      "count    1042.00              1042.00\n",
      "mean       28.62               -22.62\n",
      "std         6.23               101.03\n",
      "min        15.10             -1087.00\n",
      "25%        24.40                 0.00\n",
      "50%        27.80                 0.00\n",
      "75%        32.58                 0.00\n",
      "max        58.90                 0.00\n",
      "===================================================\n",
      "CRP \n",
      "        CRP_VALUE  TIME_DIFF_CRP_INDEX\n",
      "count     153.00               153.00\n",
      "mean       41.87              -373.66\n",
      "std        62.40               329.27\n",
      "min         0.84             -1094.00\n",
      "25%         4.00              -571.00\n",
      "50%        13.53              -307.00\n",
      "75%        52.00               -84.00\n",
      "max       318.00                 0.00\n",
      "===================================================\n",
      "ESR \n",
      "        ESR_VALUE  TIME_DIFF_ESR_INDEX\n",
      "count     326.00               326.00\n",
      "mean       35.21              -320.26\n",
      "std        28.49               328.63\n",
      "min         1.00             -1094.00\n",
      "25%        13.00              -537.75\n",
      "50%        26.00              -205.00\n",
      "75%        50.00               -21.00\n",
      "max       120.00                 0.00\n",
      "===================================================\n",
      "GFR \n",
      "        GFR_VALUE  TIME_DIFF_GFR_INDEX\n",
      "count    1034.00              1034.00\n",
      "mean       50.13               -22.12\n",
      "std        13.62               103.04\n",
      "min        15.00             -1070.00\n",
      "25%        42.42                 0.00\n",
      "50%        59.55                 0.00\n",
      "75%        60.00                 0.00\n",
      "max        60.00                 0.00\n",
      "===================================================\n",
      "HB \n",
      "        HB_VALUE  TIME_DIFF_HB_INDEX\n",
      "count   1056.00             1056.00\n",
      "mean      12.95              -47.11\n",
      "std        2.00              308.54\n",
      "min        6.50            -4892.00\n",
      "25%       11.70                0.00\n",
      "50%       13.10                0.00\n",
      "75%       14.40                0.00\n",
      "max       18.60                0.00\n",
      "===================================================\n",
      "HBA1C \n",
      "        HBA1C_VALUE  TIME_DIFF_HBA1C_INDEX\n",
      "count       851.00                 851.00\n",
      "mean          6.29                 264.86\n",
      "std           1.31                 371.19\n",
      "min           4.00                   0.00\n",
      "25%           5.50                   1.00\n",
      "50%           5.90                   4.00\n",
      "75%           6.70                 494.00\n",
      "max          13.00                1094.00\n",
      "===================================================\n",
      "HCT \n",
      "        HCT_VALUE  TIME_DIFF_HCT_INDEX\n",
      "count    1043.00              1043.00\n",
      "mean       38.90               -17.95\n",
      "std         5.57                97.17\n",
      "min        25.00             -1070.00\n",
      "25%        35.00                 0.00\n",
      "50%        39.00                 0.00\n",
      "75%        43.00                 0.00\n",
      "max        58.00                 0.00\n",
      "===================================================\n",
      "HDL \n",
      "        HDL_VALUE  TIME_DIFF_HDL_INDEX\n",
      "count     772.00               772.00\n",
      "mean       46.95              -202.97\n",
      "std        14.85               248.43\n",
      "min         7.00             -1092.00\n",
      "25%        37.00              -314.25\n",
      "50%        45.00               -96.50\n",
      "75%        55.00                -4.75\n",
      "max       100.00                 0.00\n",
      "===================================================\n",
      "LDL \n",
      "        LDL_VALUE  TIME_DIFF_LDL_INDEX\n",
      "count     791.00               791.00\n",
      "mean       87.25              -187.98\n",
      "std        38.00               231.45\n",
      "min        15.00             -1087.00\n",
      "25%        61.00              -289.00\n",
      "50%        81.00               -93.00\n",
      "75%       107.00                -5.50\n",
      "max       338.00                 0.00\n",
      "===================================================\n",
      "PLT \n",
      "        PLT_VALUE  TIME_DIFF_PLT_INDEX\n",
      "count    1042.00              1042.00\n",
      "mean      224.03               -17.49\n",
      "std        83.79                97.14\n",
      "min        15.00             -1070.00\n",
      "25%       169.00                 0.00\n",
      "50%       210.50                 0.00\n",
      "75%       263.00                 0.00\n",
      "max       790.00                 0.00\n",
      "===================================================\n",
      "WBC \n",
      "        WBC_VALUE  TIME_DIFF_WBC_INDEX\n",
      "count    1043.00              1043.00\n",
      "mean        8.85               -18.10\n",
      "std         3.22                96.82\n",
      "min         0.61             -1070.00\n",
      "25%         6.71                 0.00\n",
      "50%         8.14                 0.00\n",
      "75%        10.27                 0.00\n",
      "max        24.97                 0.00\n"
     ]
    }
   ],
   "source": [
    "Lab_data_BMI_before_stroke_sorted = Lab_data_BMI_before_stroke.sort_values(by=['TIME_DIFF_BMI_INDEX'],ascending=False).drop_duplicates(subset=['PT_ID'])\n",
    "print('===================================================')\n",
    "print('BMI \\n',Lab_data_BMI_before_stroke_sorted.describe())\n",
    "#Lab_data_BMI_before_stroke_sorted['BMI_VALUE'].hist(bins=100)\n",
    "print('===================================================')\n",
    "Lab_data_CRP_before_stroke_sorted = Lab_data_CRP_before_stroke.sort_values(by=['TIME_DIFF_CRP_INDEX'],ascending=False).drop_duplicates(subset=['PT_ID'])\n",
    "print('CRP \\n',Lab_data_CRP_before_stroke_sorted.describe())\n",
    "#Lab_data_CRP_before_stroke_sorted['CRP_VALUE'].hist(bins=100)\n",
    "print('===================================================')\n",
    "Lab_data_ESR_before_stroke_sorted = Lab_data_ESR_before_stroke.sort_values(by=['TIME_DIFF_ESR_INDEX'],ascending=False).drop_duplicates(subset=['PT_ID'])\n",
    "print('ESR \\n',Lab_data_ESR_before_stroke_sorted.describe())\n",
    "#Lab_data_ESR_before_stroke_sorted['ESR_VALUE'].hist(bins=100)\n",
    "print('===================================================')\n",
    "Lab_data_GFR_before_stroke_sorted = Lab_data_GFR_before_stroke.sort_values(by=['TIME_DIFF_GFR_INDEX'],ascending=False).drop_duplicates(subset=['PT_ID'])\n",
    "print('GFR \\n',Lab_data_GFR_before_stroke_sorted.describe())\n",
    "#Lab_data_GFR_before_stroke_sorted['GFR_VALUE'].hist(bins=100)\n",
    "print('===================================================')\n",
    "Lab_data_HB_before_stroke_sorted = Lab_data_HB_before_stroke.sort_values(by=['TIME_DIFF_HB_INDEX'],ascending=False).drop_duplicates(subset=['PT_ID'])\n",
    "print('HB \\n',Lab_data_HB_before_stroke_sorted.describe())\n",
    "#Lab_data_HB_before_stroke_sorted['HB_VALUE'].hist(bins=100)\n",
    "print('===================================================')\n",
    "Lab_data_HBA1C_before_stroke_sorted = Lab_data_HBA1C_before_stroke.sort_values(by=['TIME_DIFF_HBA1C_INDEX'],ascending=False).drop_duplicates(subset=['PT_ID'])\n",
    "print('HBA1C \\n',Lab_data_HBA1C_before_stroke_sorted.describe())\n",
    "#Lab_data_HBA1C_before_stroke_sorted['HBA1C_VALUE'].hist(bins=100)\n",
    "print('===================================================')\n",
    "Lab_data_HCT_before_stroke_sorted = Lab_data_HCT_before_stroke.sort_values(by=['TIME_DIFF_HCT_INDEX'],ascending=False).drop_duplicates(subset=['PT_ID'])\n",
    "print('HCT \\n',Lab_data_HCT_before_stroke_sorted.describe())\n",
    "#Lab_data_HCT_before_stroke_sorted['HCT_VALUE'].hist(bins=100)\n",
    "print('===================================================')\n",
    "Lab_data_HDL_before_stroke_sorted = Lab_data_HDL_before_stroke.sort_values(by=['TIME_DIFF_HDL_INDEX'],ascending=False).drop_duplicates(subset=['PT_ID'])\n",
    "print('HDL \\n',Lab_data_HDL_before_stroke_sorted.describe())\n",
    "#Lab_data_HDL_before_stroke_sorted['HDL_VALUE'].hist(bins=100)\n",
    "print('===================================================')\n",
    "Lab_data_LDL_before_stroke_sorted =Lab_data_LDL_before_stroke.sort_values(by=['TIME_DIFF_LDL_INDEX'],ascending=False).drop_duplicates(subset=['PT_ID'])\n",
    "print('LDL \\n',Lab_data_LDL_before_stroke_sorted.describe())\n",
    "#Lab_data_LDL_before_stroke_sorted['LDL_VALUE'].hist(bins=100)\n",
    "print('===================================================')\n",
    "Lab_data_PLT_before_stroke_sorted = Lab_data_PLT_before_stroke.sort_values(by=['TIME_DIFF_PLT_INDEX'],ascending=False).drop_duplicates(subset=['PT_ID'])\n",
    "print('PLT \\n',Lab_data_PLT_before_stroke_sorted.describe())\n",
    "#Lab_data_PLT_before_stroke_sorted['PLT_VALUE'].hist(bins=100)\n",
    "print('===================================================')\n",
    "Lab_data_WBC_before_stroke_sorted = Lab_data_WBC_before_stroke.sort_values(by=['TIME_DIFF_WBC_INDEX'],ascending=False).drop_duplicates(subset=['PT_ID'])\n",
    "print('WBC \\n',Lab_data_WBC_before_stroke_sorted.describe())\n",
    "#Lab_data_WBC_before_stroke_sorted['WBC_VALUE'].hist(bins=100)"
   ]
  },
  {
   "cell_type": "code",
   "execution_count": 14,
   "metadata": {},
   "outputs": [
    {
     "data": {
      "text/plain": [
       "<matplotlib.axes._subplots.AxesSubplot at 0x1ea317b8d48>"
      ]
     },
     "execution_count": 14,
     "metadata": {},
     "output_type": "execute_result"
    },
    {
     "data": {
      "image/png": "[encoded data removed]",
      "text/plain": [
       "<Figure size 432x288 with 1 Axes>"
      ]
     },
     "metadata": {
      "needs_background": "light"
     },
     "output_type": "display_data"
    }
   ],
   "source": [
    "Lab_data_BMI_before_stroke_sorted['BMI_VALUE'].hist(bins=100)"
   ]
  },
  {
   "cell_type": "code",
   "execution_count": 15,
   "metadata": {},
   "outputs": [
    {
     "data": {
      "text/plain": [
       "<matplotlib.axes._subplots.AxesSubplot at 0x1ea434239c8>"
      ]
     },
     "execution_count": 15,
     "metadata": {},
     "output_type": "execute_result"
    },
    {
     "data": {
      "image/png": "[encoded data removed]",
      "text/plain": [
       "<Figure size 432x288 with 1 Axes>"
      ]
     },
     "metadata": {
      "needs_background": "light"
     },
     "output_type": "display_data"
    }
   ],
   "source": [
    "Lab_data_CRP_before_stroke_sorted['CRP_VALUE'].hist(bins=100)"
   ]
  },
  {
   "cell_type": "code",
   "execution_count": 16,
   "metadata": {},
   "outputs": [
    {
     "data": {
      "text/plain": [
       "<matplotlib.axes._subplots.AxesSubplot at 0x1ea49185dc8>"
      ]
     },
     "execution_count": 16,
     "metadata": {},
     "output_type": "execute_result"
    },
    {
     "data": {
      "image/png": "[encoded data removed]",
      "text/plain": [
       "<Figure size 432x288 with 1 Axes>"
      ]
     },
     "metadata": {
      "needs_background": "light"
     },
     "output_type": "display_data"
    }
   ],
   "source": [
    "Lab_data_ESR_before_stroke_sorted['ESR_VALUE'].hist(bins=100)"
   ]
  },
  {
   "cell_type": "code",
   "execution_count": 17,
   "metadata": {},
   "outputs": [
    {
     "data": {
      "text/plain": [
       "<matplotlib.axes._subplots.AxesSubplot at 0x1ea43cca148>"
      ]
     },
     "execution_count": 17,
     "metadata": {},
     "output_type": "execute_result"
    },
    {
     "data": {
      "image/png": "[encoded data removed]",
      "text/plain": [
       "<Figure size 432x288 with 1 Axes>"
      ]
     },
     "metadata": {
      "needs_background": "light"
     },
     "output_type": "display_data"
    }
   ],
   "source": [
    "Lab_data_GFR_before_stroke_sorted['GFR_VALUE'].hist(bins=100)"
   ]
  },
  {
   "cell_type": "code",
   "execution_count": 18,
   "metadata": {},
   "outputs": [
    {
     "data": {
      "text/plain": [
       "<matplotlib.axes._subplots.AxesSubplot at 0x1ea311d8dc8>"
      ]
     },
     "execution_count": 18,
     "metadata": {},
     "output_type": "execute_result"
    },
    {
     "data": {
      "image/png": "[encoded data removed]",
      "text/plain": [
       "<Figure size 432x288 with 1 Axes>"
      ]
     },
     "metadata": {
      "needs_background": "light"
     },
     "output_type": "display_data"
    }
   ],
   "source": [
    "Lab_data_HB_before_stroke_sorted['HB_VALUE'].hist(bins=100)"
   ]
  },
  {
   "cell_type": "code",
   "execution_count": 19,
   "metadata": {},
   "outputs": [
    {
     "data": {
      "text/plain": [
       "<matplotlib.axes._subplots.AxesSubplot at 0x1ea5a604548>"
      ]
     },
     "execution_count": 19,
     "metadata": {},
     "output_type": "execute_result"
    },
    {
     "data": {
      "image/png": "[encoded data removed]",
      "text/plain": [
       "<Figure size 432x288 with 1 Axes>"
      ]
     },
     "metadata": {
      "needs_background": "light"
     },
     "output_type": "display_data"
    }
   ],
   "source": [
    "Lab_data_HBA1C_before_stroke_sorted['HBA1C_VALUE'].hist(bins=100)"
   ]
  },
  {
   "cell_type": "code",
   "execution_count": 20,
   "metadata": {},
   "outputs": [
    {
     "data": {
      "text/plain": [
       "<matplotlib.axes._subplots.AxesSubplot at 0x1ea57923708>"
      ]
     },
     "execution_count": 20,
     "metadata": {},
     "output_type": "execute_result"
    },
    {
     "data": {
      "image/png": "[encoded data removed]",
      "text/plain": [
       "<Figure size 432x288 with 1 Axes>"
      ]
     },
     "metadata": {
      "needs_background": "light"
     },
     "output_type": "display_data"
    }
   ],
   "source": [
    "Lab_data_HCT_before_stroke_sorted['HCT_VALUE'].hist(bins=100)"
   ]
  },
  {
   "cell_type": "code",
   "execution_count": 21,
   "metadata": {},
   "outputs": [
    {
     "data": {
      "text/plain": [
       "<matplotlib.axes._subplots.AxesSubplot at 0x1ea561d2188>"
      ]
     },
     "execution_count": 21,
     "metadata": {},
     "output_type": "execute_result"
    },
    {
     "data": {
      "image/png": "[encoded data removed]",
      "text/plain": [
       "<Figure size 432x288 with 1 Axes>"
      ]
     },
     "metadata": {
      "needs_background": "light"
     },
     "output_type": "display_data"
    }
   ],
   "source": [
    "Lab_data_HDL_before_stroke_sorted['HDL_VALUE'].hist(bins=100)"
   ]
  },
  {
   "cell_type": "code",
   "execution_count": 22,
   "metadata": {},
   "outputs": [
    {
     "data": {
      "text/plain": [
       "<matplotlib.axes._subplots.AxesSubplot at 0x1ea52e5a088>"
      ]
     },
     "execution_count": 22,
     "metadata": {},
     "output_type": "execute_result"
    },
    {
     "data": {
      "image/png": "[encoded data removed]",
      "text/plain": [
       "<Figure size 432x288 with 1 Axes>"
      ]
     },
     "metadata": {
      "needs_background": "light"
     },
     "output_type": "display_data"
    }
   ],
   "source": [
    "Lab_data_LDL_before_stroke_sorted['LDL_VALUE'].hist(bins=100)"
   ]
  },
  {
   "cell_type": "code",
   "execution_count": 23,
   "metadata": {},
   "outputs": [
    {
     "data": {
      "text/plain": [
       "<matplotlib.axes._subplots.AxesSubplot at 0x1ea58401d08>"
      ]
     },
     "execution_count": 23,
     "metadata": {},
     "output_type": "execute_result"
    },
    {
     "data": {
      "image/png": "[encoded data removed]",
      "text/plain": [
       "<Figure size 432x288 with 1 Axes>"
      ]
     },
     "metadata": {
      "needs_background": "light"
     },
     "output_type": "display_data"
    }
   ],
   "source": [
    "Lab_data_PLT_before_stroke_sorted['PLT_VALUE'].hist(bins=100)"
   ]
  },
  {
   "cell_type": "code",
   "execution_count": 24,
   "metadata": {},
   "outputs": [
    {
     "data": {
      "text/plain": [
       "<matplotlib.axes._subplots.AxesSubplot at 0x1ea5861ce48>"
      ]
     },
     "execution_count": 24,
     "metadata": {},
     "output_type": "execute_result"
    },
    {
     "data": {
      "image/png": "[encoded data removed]",
      "text/plain": [
       "<Figure size 432x288 with 1 Axes>"
      ]
     },
     "metadata": {
      "needs_background": "light"
     },
     "output_type": "display_data"
    }
   ],
   "source": [
    "Lab_data_WBC_before_stroke_sorted['WBC_VALUE'].hist(bins=100)"
   ]
  },
  {
   "cell_type": "markdown",
   "metadata": {},
   "source": [
    "# $\\color{BLUE}{\\text{Patients having afib at stroke index}}$"
   ]
  },
  {
   "cell_type": "code",
   "execution_count": 25,
   "metadata": {},
   "outputs": [
    {
     "name": "stdout",
     "output_type": "stream",
     "text": [
      "BMI  740\n",
      "CRP  41\n",
      "ESR  94\n",
      "GFR  738\n",
      "HB  784\n",
      "HBA1C  690\n",
      "HCT  767\n",
      "HDL  402\n",
      "LDL  405\n",
      "PLT  764\n",
      "WBC  760\n"
     ]
    }
   ],
   "source": [
    "Lab_data_BMI_before_stroke_at_index = Lab_data_BMI_refined[Lab_data_BMI_refined['PT_ID'].isin(data_afib_diagnosed_before_storke_at_index['PT_ID'])]\n",
    "print('BMI ',Lab_data_BMI_before_stroke_at_index['PT_ID'].nunique())\n",
    "Lab_data_CRP_before_stroke_at_index = Lab_data_CRP_refined[Lab_data_CRP_refined['PT_ID'].isin(data_afib_diagnosed_before_storke_at_index['PT_ID'])]\n",
    "print('CRP ',Lab_data_CRP_before_stroke_at_index['PT_ID'].nunique())\n",
    "Lab_data_ESR_before_stroke_at_index = Lab_data_ESR_refined[Lab_data_ESR_refined['PT_ID'].isin(data_afib_diagnosed_before_storke_at_index['PT_ID'])]\n",
    "print('ESR ',Lab_data_ESR_before_stroke_at_index['PT_ID'].nunique())\n",
    "Lab_data_GFR_before_stroke_at_index = Lab_data_GFR_refined[Lab_data_GFR_refined['PT_ID'].isin(data_afib_diagnosed_before_storke_at_index['PT_ID'])]\n",
    "print('GFR ',Lab_data_GFR_before_stroke_at_index['PT_ID'].nunique())\n",
    "Lab_data_HB_before_stroke_at_index = Lab_data_HB_refined[Lab_data_HB_refined['PT_ID'].isin(data_afib_diagnosed_before_storke_at_index['PT_ID'])]\n",
    "print('HB ',Lab_data_HB_before_stroke_at_index['PT_ID'].nunique())\n",
    "Lab_data_HBA1C_before_stroke_at_index = Lab_data_HBA1C_refined[Lab_data_HBA1C_refined['PT_ID'].isin(data_afib_diagnosed_before_storke_at_index['PT_ID'])]\n",
    "print('HBA1C ',Lab_data_HBA1C_before_stroke_at_index['PT_ID'].nunique())\n",
    "Lab_data_HCT_before_stroke_at_index = Lab_data_HCT_refined[Lab_data_HCT_refined['PT_ID'].isin(data_afib_diagnosed_before_storke_at_index['PT_ID'])]\n",
    "print('HCT ',Lab_data_HCT_before_stroke_at_index['PT_ID'].nunique())\n",
    "Lab_data_HDL_before_stroke_at_index = Lab_data_HDL_refined[Lab_data_HDL_refined['PT_ID'].isin(data_afib_diagnosed_before_storke_at_index['PT_ID'])]\n",
    "print('HDL ',Lab_data_HDL_before_stroke_at_index['PT_ID'].nunique())\n",
    "Lab_data_LDL_before_stroke_at_index = Lab_data_LDL_refined[Lab_data_LDL_refined['PT_ID'].isin(data_afib_diagnosed_before_storke_at_index['PT_ID'])]\n",
    "print('LDL ',Lab_data_LDL_before_stroke_at_index['PT_ID'].nunique())\n",
    "Lab_data_PLT_before_stroke_at_index = Lab_data_PLT_refined[Lab_data_PLT_refined['PT_ID'].isin(data_afib_diagnosed_before_storke_at_index['PT_ID'])]\n",
    "print('PLT ',Lab_data_PLT_before_stroke_at_index['PT_ID'].nunique())\n",
    "Lab_data_WBC_before_stroke_at_index = Lab_data_WBC_refined[Lab_data_WBC_refined['PT_ID'].isin(data_afib_diagnosed_before_storke_at_index['PT_ID'])]\n",
    "print('WBC ',Lab_data_WBC_before_stroke_at_index['PT_ID'].nunique())"
   ]
  },
  {
   "cell_type": "code",
   "execution_count": 26,
   "metadata": {},
   "outputs": [
    {
     "name": "stdout",
     "output_type": "stream",
     "text": [
      "BMI \n",
      "        BMI_VALUE  TIME_DIFF_BMI_INDEX\n",
      "count     740.00               740.00\n",
      "mean       29.22               -18.57\n",
      "std         6.88                94.65\n",
      "min        15.50             -1073.00\n",
      "25%        24.50                 0.00\n",
      "50%        28.00                 0.00\n",
      "75%        32.50                 0.00\n",
      "max        60.80                 0.00\n",
      "CRP \n",
      "        CRP_VALUE  TIME_DIFF_CRP_INDEX\n",
      "count      41.00                41.00\n",
      "mean       38.35              -297.56\n",
      "std        55.94               349.51\n",
      "min         1.00             -1084.00\n",
      "25%         4.00              -501.00\n",
      "50%        10.00              -115.00\n",
      "75%        62.00                 0.00\n",
      "max       298.00                 0.00\n",
      "ESR \n",
      "        ESR_VALUE  TIME_DIFF_ESR_INDEX\n",
      "count      94.00                94.00\n",
      "mean       30.31              -257.02\n",
      "std        24.50               344.14\n",
      "min         2.00             -1090.00\n",
      "25%        10.25              -468.25\n",
      "50%        23.00               -64.50\n",
      "75%        42.75                 0.00\n",
      "max       113.00                 0.00\n",
      "GFR \n",
      "        GFR_VALUE  TIME_DIFF_GFR_INDEX\n",
      "count     738.00               738.00\n",
      "mean       53.72               -26.78\n",
      "std        11.00               120.45\n",
      "min        15.00             -1012.00\n",
      "25%        51.60                 0.00\n",
      "50%        60.00                 0.00\n",
      "75%        60.00                 0.00\n",
      "max        60.00                 0.00\n",
      "HB \n",
      "        HB_VALUE  TIME_DIFF_HB_INDEX\n",
      "count    784.00              784.00\n",
      "mean      13.53              -67.97\n",
      "std        1.84              400.99\n",
      "min        6.80            -4978.00\n",
      "25%       12.50                0.00\n",
      "50%       13.60                0.00\n",
      "75%       14.80                0.00\n",
      "max       18.80                0.00\n",
      "HBA1C \n",
      "        HBA1C_VALUE  TIME_DIFF_HBA1C_INDEX\n",
      "count       690.00                 690.00\n",
      "mean          6.24                 210.67\n",
      "std           1.29                 353.25\n",
      "min           4.20                   0.00\n",
      "25%           5.50                   0.00\n",
      "50%           5.90                   1.00\n",
      "75%           6.50                 399.00\n",
      "max          13.00                1093.00\n",
      "HCT \n",
      "        HCT_VALUE  TIME_DIFF_HCT_INDEX\n",
      "count     767.00               767.00\n",
      "mean       40.32               -14.14\n",
      "std         5.11                90.90\n",
      "min        25.00             -1011.00\n",
      "25%        37.00                 0.00\n",
      "50%        41.00                 0.00\n",
      "75%        44.00                 0.00\n",
      "max        57.00                 0.00\n",
      "HDL \n",
      "        HDL_VALUE  TIME_DIFF_HDL_INDEX\n",
      "count     402.00               402.00\n",
      "mean       49.82              -159.36\n",
      "std        14.82               255.01\n",
      "min        15.00             -1094.00\n",
      "25%        40.00              -226.50\n",
      "50%        48.00               -24.00\n",
      "75%        58.00                 0.00\n",
      "max       100.00                 0.00\n",
      "LDL \n",
      "        LDL_VALUE  TIME_DIFF_LDL_INDEX\n",
      "count     405.00               405.00\n",
      "mean       94.78              -151.38\n",
      "std        41.28               246.40\n",
      "min         0.00             -1094.00\n",
      "25%        69.00              -202.00\n",
      "50%        88.00               -28.00\n",
      "75%       116.00                 0.00\n",
      "max       400.00                 0.00\n",
      "PLT \n",
      "        PLT_VALUE  TIME_DIFF_PLT_INDEX\n",
      "count     764.00               764.00\n",
      "mean      225.20               -14.37\n",
      "std        79.97                91.39\n",
      "min        57.00             -1011.00\n",
      "25%       177.75                 0.00\n",
      "50%       212.50                 0.00\n",
      "75%       258.00                 0.00\n",
      "max       829.00                 0.00\n",
      "WBC \n",
      "        WBC_VALUE  TIME_DIFF_WBC_INDEX\n",
      "count     760.00               760.00\n",
      "mean        9.18               -14.29\n",
      "std         3.10                91.55\n",
      "min         2.31             -1011.00\n",
      "25%         6.99                 0.00\n",
      "50%         8.60                 0.00\n",
      "75%        10.76                 0.00\n",
      "max        23.84                 0.00\n"
     ]
    }
   ],
   "source": [
    "Lab_data_BMI_before_stroke_at_index_sorted = Lab_data_BMI_before_stroke_at_index.sort_values(by=['TIME_DIFF_BMI_INDEX'],ascending=False).drop_duplicates(subset=['PT_ID'])\n",
    "print('BMI \\n',Lab_data_BMI_before_stroke_at_index_sorted.describe())\n",
    "Lab_data_CRP_before_stroke_at_index_sorted = Lab_data_CRP_before_stroke_at_index.sort_values(by=['TIME_DIFF_CRP_INDEX'],ascending=False).drop_duplicates(subset=['PT_ID'])\n",
    "print('CRP \\n',Lab_data_CRP_before_stroke_at_index_sorted.describe())\n",
    "Lab_data_ESR_before_stroke_at_index_sorted = Lab_data_ESR_before_stroke_at_index.sort_values(by=['TIME_DIFF_ESR_INDEX'],ascending=False).drop_duplicates(subset=['PT_ID'])\n",
    "print('ESR \\n',Lab_data_ESR_before_stroke_at_index_sorted.describe())\n",
    "Lab_data_GFR_before_stroke_at_index_sorted = Lab_data_GFR_before_stroke_at_index.sort_values(by=['TIME_DIFF_GFR_INDEX'],ascending=False).drop_duplicates(subset=['PT_ID'])\n",
    "print('GFR \\n',Lab_data_GFR_before_stroke_at_index_sorted.describe())\n",
    "Lab_data_HB_before_stroke_at_index_sorted = Lab_data_HB_before_stroke_at_index.sort_values(by=['TIME_DIFF_HB_INDEX'],ascending=False).drop_duplicates(subset=['PT_ID'])\n",
    "print('HB \\n',Lab_data_HB_before_stroke_at_index_sorted.describe())\n",
    "Lab_data_HBA1C_before_stroke_at_index_sorted = Lab_data_HBA1C_before_stroke_at_index.sort_values(by=['TIME_DIFF_HBA1C_INDEX'],ascending=False).drop_duplicates(subset=['PT_ID'])\n",
    "print('HBA1C \\n',Lab_data_HBA1C_before_stroke_at_index_sorted.describe())\n",
    "Lab_data_HCT_before_stroke_at_index_sorted = Lab_data_HCT_before_stroke_at_index.sort_values(by=['TIME_DIFF_HCT_INDEX'],ascending=False).drop_duplicates(subset=['PT_ID'])\n",
    "print('HCT \\n',Lab_data_HCT_before_stroke_at_index_sorted.describe())\n",
    "Lab_data_HDL_before_stroke_at_index_sorted = Lab_data_HDL_before_stroke_at_index.sort_values(by=['TIME_DIFF_HDL_INDEX'],ascending=False).drop_duplicates(subset=['PT_ID'])\n",
    "print('HDL \\n',Lab_data_HDL_before_stroke_at_index_sorted.describe())\n",
    "Lab_data_LDL_before_stroke_at_index_sorted =Lab_data_LDL_before_stroke_at_index.sort_values(by=['TIME_DIFF_LDL_INDEX'],ascending=False).drop_duplicates(subset=['PT_ID'])\n",
    "print('LDL \\n',Lab_data_LDL_before_stroke_at_index_sorted.describe())\n",
    "Lab_data_PLT_before_stroke_at_index_sorted = Lab_data_PLT_before_stroke_at_index.sort_values(by=['TIME_DIFF_PLT_INDEX'],ascending=False).drop_duplicates(subset=['PT_ID'])\n",
    "print('PLT \\n',Lab_data_PLT_before_stroke_at_index_sorted.describe())\n",
    "Lab_data_WBC_before_stroke_at_index_sorted = Lab_data_WBC_before_stroke_at_index.sort_values(by=['TIME_DIFF_WBC_INDEX'],ascending=False).drop_duplicates(subset=['PT_ID'])\n",
    "print('WBC \\n',Lab_data_WBC_before_stroke_at_index_sorted.describe())"
   ]
  },
  {
   "cell_type": "markdown",
   "metadata": {},
   "source": [
    "# $\\color{BLUE}{\\text{Patients having afib within 3 years after stroke index}}$"
   ]
  },
  {
   "cell_type": "code",
   "execution_count": 27,
   "metadata": {},
   "outputs": [
    {
     "name": "stdout",
     "output_type": "stream",
     "text": [
      "BMI  517\n",
      "CRP  47\n",
      "ESR  103\n",
      "GFR  531\n",
      "HB  547\n",
      "HBA1C  472\n",
      "HCT  532\n",
      "HDL  322\n",
      "LDL  328\n",
      "PLT  530\n",
      "WBC  529\n"
     ]
    }
   ],
   "source": [
    "Lab_data_BMI_after_storke_within_3_years = Lab_data_BMI_refined[Lab_data_BMI_refined['PT_ID'].isin(data_afib_diagnosed_after_storke_within_3_years['PT_ID'])]\n",
    "print('BMI ',Lab_data_BMI_after_storke_within_3_years['PT_ID'].nunique())\n",
    "Lab_data_CRP_after_storke_within_3_years = Lab_data_CRP_refined[Lab_data_CRP_refined['PT_ID'].isin(data_afib_diagnosed_after_storke_within_3_years['PT_ID'])]\n",
    "print('CRP ',Lab_data_CRP_after_storke_within_3_years['PT_ID'].nunique())\n",
    "Lab_data_ESR_after_storke_within_3_years = Lab_data_ESR_refined[Lab_data_ESR_refined['PT_ID'].isin(data_afib_diagnosed_after_storke_within_3_years['PT_ID'])]\n",
    "print('ESR ',Lab_data_ESR_after_storke_within_3_years['PT_ID'].nunique())\n",
    "Lab_data_GFR_after_storke_within_3_years = Lab_data_GFR_refined[Lab_data_GFR_refined['PT_ID'].isin(data_afib_diagnosed_after_storke_within_3_years['PT_ID'])]\n",
    "print('GFR ',Lab_data_GFR_after_storke_within_3_years['PT_ID'].nunique())\n",
    "Lab_data_HB_after_storke_within_3_years = Lab_data_HB_refined[Lab_data_HB_refined['PT_ID'].isin(data_afib_diagnosed_after_storke_within_3_years['PT_ID'])]\n",
    "print('HB ',Lab_data_HB_after_storke_within_3_years['PT_ID'].nunique())\n",
    "Lab_data_HBA1C_after_storke_within_3_years = Lab_data_HBA1C_refined[Lab_data_HBA1C_refined['PT_ID'].isin(data_afib_diagnosed_after_storke_within_3_years['PT_ID'])]\n",
    "print('HBA1C ',Lab_data_HBA1C_after_storke_within_3_years['PT_ID'].nunique())\n",
    "Lab_data_HCT_after_storke_within_3_years = Lab_data_HCT_refined[Lab_data_HCT_refined['PT_ID'].isin(data_afib_diagnosed_after_storke_within_3_years['PT_ID'])]\n",
    "print('HCT ',Lab_data_HCT_after_storke_within_3_years['PT_ID'].nunique())\n",
    "Lab_data_HDL_after_storke_within_3_years = Lab_data_HDL_refined[Lab_data_HDL_refined['PT_ID'].isin(data_afib_diagnosed_after_storke_within_3_years['PT_ID'])]\n",
    "print('HDL ',Lab_data_HDL_after_storke_within_3_years['PT_ID'].nunique())\n",
    "Lab_data_LDL_after_storke_within_3_years = Lab_data_LDL_refined[Lab_data_LDL_refined['PT_ID'].isin(data_afib_diagnosed_after_storke_within_3_years['PT_ID'])]\n",
    "print('LDL ',Lab_data_LDL_after_storke_within_3_years['PT_ID'].nunique())\n",
    "Lab_data_PLT_after_storke_within_3_years = Lab_data_PLT_refined[Lab_data_PLT_refined['PT_ID'].isin(data_afib_diagnosed_after_storke_within_3_years['PT_ID'])]\n",
    "print('PLT ',Lab_data_PLT_after_storke_within_3_years['PT_ID'].nunique())\n",
    "Lab_data_WBC_after_storke_within_3_years = Lab_data_WBC_refined[Lab_data_WBC_refined['PT_ID'].isin(data_afib_diagnosed_after_storke_within_3_years['PT_ID'])]\n",
    "print('WBC ',Lab_data_WBC_after_storke_within_3_years['PT_ID'].nunique())"
   ]
  },
  {
   "cell_type": "code",
   "execution_count": 28,
   "metadata": {},
   "outputs": [
    {
     "name": "stdout",
     "output_type": "stream",
     "text": [
      "BMI \n",
      "        BMI_VALUE  TIME_DIFF_BMI_INDEX\n",
      "count     517.00               517.00\n",
      "mean       29.71               -29.62\n",
      "std         6.61               123.60\n",
      "min        16.10             -1091.00\n",
      "25%        25.20                 0.00\n",
      "50%        28.70                 0.00\n",
      "75%        33.40                 0.00\n",
      "max        62.00                 0.00\n",
      "CRP \n",
      "        CRP_VALUE  TIME_DIFF_CRP_INDEX\n",
      "count      47.00                47.00\n",
      "mean       36.37              -317.94\n",
      "std        64.64               319.17\n",
      "min         0.42              -969.00\n",
      "25%         2.00              -526.50\n",
      "50%         5.00              -222.00\n",
      "75%        41.00               -14.50\n",
      "max       286.00                 0.00\n",
      "ESR \n",
      "        ESR_VALUE  TIME_DIFF_ESR_INDEX\n",
      "count     103.00               103.00\n",
      "mean       30.37              -266.23\n",
      "std        25.81               326.25\n",
      "min         0.00             -1044.00\n",
      "25%        11.00              -438.00\n",
      "50%        20.00              -103.00\n",
      "75%        41.00                 0.00\n",
      "max       112.00                 0.00\n",
      "GFR \n",
      "        GFR_VALUE  TIME_DIFF_GFR_INDEX\n",
      "count     531.00               531.00\n",
      "mean       52.38               -17.12\n",
      "std        12.29                91.78\n",
      "min        15.00             -1077.00\n",
      "25%        47.45                 0.00\n",
      "50%        60.00                 0.00\n",
      "75%        60.00                 0.00\n",
      "max        60.00                 0.00\n",
      "HB \n",
      "        HB_VALUE  TIME_DIFF_HB_INDEX\n",
      "count    547.00              547.00\n",
      "mean      13.32              -91.01\n",
      "std        1.86              559.34\n",
      "min        7.10            -6566.00\n",
      "25%       12.00                0.00\n",
      "50%       13.30                0.00\n",
      "75%       14.60                0.00\n",
      "max       19.00                0.00\n",
      "HBA1C \n",
      "        HBA1C_VALUE  TIME_DIFF_HBA1C_INDEX\n",
      "count       472.00                 472.00\n",
      "mean          6.22                 366.47\n",
      "std           1.10                 400.79\n",
      "min           4.60                   0.00\n",
      "25%           5.50                   1.00\n",
      "50%           5.90                 200.00\n",
      "75%           6.70                 770.25\n",
      "max          13.00                1094.00\n",
      "HCT \n",
      "        HCT_VALUE  TIME_DIFF_HCT_INDEX\n",
      "count     532.00               532.00\n",
      "mean       39.48               -10.13\n",
      "std         5.15                66.47\n",
      "min        25.00              -634.00\n",
      "25%        36.00                 0.00\n",
      "50%        40.00                 0.00\n",
      "75%        43.00                 0.00\n",
      "max        62.00                 0.00\n",
      "HDL \n",
      "        HDL_VALUE  TIME_DIFF_HDL_INDEX\n",
      "count     322.00               322.00\n",
      "mean       49.21              -161.42\n",
      "std        14.88               233.24\n",
      "min        17.00             -1088.00\n",
      "25%        38.25              -235.75\n",
      "50%        48.00               -59.50\n",
      "75%        58.00                 0.00\n",
      "max       100.00                 0.00\n",
      "LDL \n",
      "        LDL_VALUE  TIME_DIFF_LDL_INDEX\n",
      "count     328.00               328.00\n",
      "mean       94.71              -162.95\n",
      "std        34.15               236.63\n",
      "min        30.00             -1088.00\n",
      "25%        73.00              -237.25\n",
      "50%        90.60               -59.50\n",
      "75%       112.00                 0.00\n",
      "max       234.00                 0.00\n",
      "PLT \n",
      "        PLT_VALUE  TIME_DIFF_PLT_INDEX\n",
      "count     530.00               530.00\n",
      "mean      227.57               -11.44\n",
      "std        79.27                74.17\n",
      "min        57.00              -793.00\n",
      "25%       178.25                 0.00\n",
      "50%       218.00                 0.00\n",
      "75%       258.00                 0.00\n",
      "max       846.00                 0.00\n",
      "WBC \n",
      "        WBC_VALUE  TIME_DIFF_WBC_INDEX\n",
      "count     529.00               529.00\n",
      "mean        8.73               -11.95\n",
      "std         3.13                75.01\n",
      "min         1.00              -793.00\n",
      "25%         6.67                 0.00\n",
      "50%         8.14                 0.00\n",
      "75%        10.35                 0.00\n",
      "max        21.95                 0.00\n"
     ]
    }
   ],
   "source": [
    "Lab_data_BMI_after_storke_within_3_years = Lab_data_BMI_after_storke_within_3_years.sort_values(by=['TIME_DIFF_BMI_INDEX'],ascending=False).drop_duplicates(subset=['PT_ID'])\n",
    "print('BMI \\n',Lab_data_BMI_after_storke_within_3_years.describe())\n",
    "Lab_data_CRP_after_storke_within_3_years = Lab_data_CRP_after_storke_within_3_years.sort_values(by=['TIME_DIFF_CRP_INDEX'],ascending=False).drop_duplicates(subset=['PT_ID'])\n",
    "print('CRP \\n',Lab_data_CRP_after_storke_within_3_years.describe())\n",
    "Lab_data_ESR_after_storke_within_3_years = Lab_data_ESR_after_storke_within_3_years.sort_values(by=['TIME_DIFF_ESR_INDEX'],ascending=False).drop_duplicates(subset=['PT_ID'])\n",
    "print('ESR \\n',Lab_data_ESR_after_storke_within_3_years.describe())\n",
    "Lab_data_GFR_after_storke_within_3_years = Lab_data_GFR_after_storke_within_3_years.sort_values(by=['TIME_DIFF_GFR_INDEX'],ascending=False).drop_duplicates(subset=['PT_ID'])\n",
    "print('GFR \\n',Lab_data_GFR_after_storke_within_3_years.describe())\n",
    "Lab_data_HB_after_storke_within_3_years = Lab_data_HB_after_storke_within_3_years.sort_values(by=['TIME_DIFF_HB_INDEX'],ascending=False).drop_duplicates(subset=['PT_ID'])\n",
    "print('HB \\n',Lab_data_HB_after_storke_within_3_years.describe())\n",
    "Lab_data_HBA1C_after_storke_within_3_years = Lab_data_HBA1C_after_storke_within_3_years.sort_values(by=['TIME_DIFF_HBA1C_INDEX'],ascending=False).drop_duplicates(subset=['PT_ID'])\n",
    "print('HBA1C \\n',Lab_data_HBA1C_after_storke_within_3_years.describe())\n",
    "Lab_data_HCT_after_storke_within_3_years= Lab_data_HCT_after_storke_within_3_years.sort_values(by=['TIME_DIFF_HCT_INDEX'],ascending=False).drop_duplicates(subset=['PT_ID'])\n",
    "print('HCT \\n',Lab_data_HCT_after_storke_within_3_years.describe())\n",
    "Lab_data_HDL_after_storke_within_3_years = Lab_data_HDL_after_storke_within_3_years.sort_values(by=['TIME_DIFF_HDL_INDEX'],ascending=False).drop_duplicates(subset=['PT_ID'])\n",
    "print('HDL \\n',Lab_data_HDL_after_storke_within_3_years.describe())\n",
    "Lab_data_LDL_after_storke_within_3_years =Lab_data_LDL_after_storke_within_3_years.sort_values(by=['TIME_DIFF_LDL_INDEX'],ascending=False).drop_duplicates(subset=['PT_ID'])\n",
    "print('LDL \\n',Lab_data_LDL_after_storke_within_3_years.describe())\n",
    "Lab_data_PLT_after_storke_within_3_years = Lab_data_PLT_after_storke_within_3_years.sort_values(by=['TIME_DIFF_PLT_INDEX'],ascending=False).drop_duplicates(subset=['PT_ID'])\n",
    "print('PLT \\n',Lab_data_PLT_after_storke_within_3_years.describe())\n",
    "Lab_data_WBC_after_storke_within_3_years = Lab_data_WBC_after_storke_within_3_years.sort_values(by=['TIME_DIFF_WBC_INDEX'],ascending=False).drop_duplicates(subset=['PT_ID'])\n",
    "print('WBC \\n',Lab_data_WBC_after_storke_within_3_years.describe())"
   ]
  },
  {
   "cell_type": "markdown",
   "metadata": {},
   "source": [
    "# $\\color{BLUE}{\\text{Patients having afib 3 years after stroke index}}$"
   ]
  },
  {
   "cell_type": "code",
   "execution_count": 29,
   "metadata": {},
   "outputs": [
    {
     "name": "stdout",
     "output_type": "stream",
     "text": [
      "BMI  234\n",
      "CRP  19\n",
      "ESR  69\n",
      "GFR  251\n",
      "HB  262\n",
      "HBA1C  185\n",
      "HCT  251\n",
      "HDL  158\n",
      "LDL  157\n",
      "PLT  251\n",
      "WBC  251\n"
     ]
    }
   ],
   "source": [
    "Lab_data_BMI_other = Lab_data_BMI_refined[Lab_data_BMI_refined['PT_ID'].isin(data_afib_diagnosed_other['PT_ID'])]\n",
    "print('BMI ',Lab_data_BMI_other['PT_ID'].nunique())\n",
    "Lab_data_CRP_other = Lab_data_CRP_refined[Lab_data_CRP_refined['PT_ID'].isin(data_afib_diagnosed_other['PT_ID'])]\n",
    "print('CRP ',Lab_data_CRP_other['PT_ID'].nunique())\n",
    "Lab_data_ESR_other = Lab_data_ESR_refined[Lab_data_ESR_refined['PT_ID'].isin(data_afib_diagnosed_other['PT_ID'])]\n",
    "print('ESR ',Lab_data_ESR_other['PT_ID'].nunique())\n",
    "Lab_data_GFR_other = Lab_data_GFR_refined[Lab_data_GFR_refined['PT_ID'].isin(data_afib_diagnosed_other['PT_ID'])]\n",
    "print('GFR ',Lab_data_GFR_other['PT_ID'].nunique())\n",
    "Lab_data_HB_other = Lab_data_HB_refined[Lab_data_HB_refined['PT_ID'].isin(data_afib_diagnosed_other['PT_ID'])]\n",
    "print('HB ',Lab_data_HB_other['PT_ID'].nunique())\n",
    "Lab_data_HBA1C_other = Lab_data_HBA1C_refined[Lab_data_HBA1C_refined['PT_ID'].isin(data_afib_diagnosed_other['PT_ID'])]\n",
    "print('HBA1C ',Lab_data_HBA1C_other['PT_ID'].nunique())\n",
    "Lab_data_HCT_other = Lab_data_HCT_refined[Lab_data_HCT_refined['PT_ID'].isin(data_afib_diagnosed_other['PT_ID'])]\n",
    "print('HCT ',Lab_data_HCT_other['PT_ID'].nunique())\n",
    "Lab_data_HDL_other = Lab_data_HDL_refined[Lab_data_HDL_refined['PT_ID'].isin(data_afib_diagnosed_other['PT_ID'])]\n",
    "print('HDL ',Lab_data_HDL_other['PT_ID'].nunique())\n",
    "Lab_data_LDL_other = Lab_data_LDL_refined[Lab_data_LDL_refined['PT_ID'].isin(data_afib_diagnosed_other['PT_ID'])]\n",
    "print('LDL ',Lab_data_LDL_other['PT_ID'].nunique())\n",
    "Lab_data_PLT_other = Lab_data_PLT_refined[Lab_data_PLT_refined['PT_ID'].isin(data_afib_diagnosed_other['PT_ID'])]\n",
    "print('PLT ',Lab_data_PLT_other['PT_ID'].nunique())\n",
    "Lab_data_WBC_other = Lab_data_WBC_refined[Lab_data_WBC_refined['PT_ID'].isin(data_afib_diagnosed_other['PT_ID'])]\n",
    "print('WBC ',Lab_data_WBC_other['PT_ID'].nunique())"
   ]
  },
  {
   "cell_type": "code",
   "execution_count": 30,
   "metadata": {},
   "outputs": [
    {
     "name": "stdout",
     "output_type": "stream",
     "text": [
      "BMI \n",
      "        BMI_VALUE  TIME_DIFF_BMI_INDEX\n",
      "count     234.00               234.00\n",
      "mean       30.66               -50.65\n",
      "std         7.38               149.32\n",
      "min        16.50             -1073.00\n",
      "25%        25.80               -25.75\n",
      "50%        29.55                 0.00\n",
      "75%        33.70                 0.00\n",
      "max        65.50                 0.00\n",
      "CRP \n",
      "        CRP_VALUE  TIME_DIFF_CRP_INDEX\n",
      "count      19.00                19.00\n",
      "mean       47.50              -355.74\n",
      "std        86.50               368.43\n",
      "min         0.82             -1084.00\n",
      "25%         1.81              -632.00\n",
      "50%        13.00              -260.00\n",
      "75%        30.90                -2.50\n",
      "max       297.00                 0.00\n",
      "ESR \n",
      "        ESR_VALUE  TIME_DIFF_ESR_INDEX\n",
      "count      69.00                69.00\n",
      "mean       27.14              -302.28\n",
      "std        20.31               362.59\n",
      "min         1.00             -1084.00\n",
      "25%        10.00              -460.00\n",
      "50%        25.00              -137.00\n",
      "75%        38.00                 0.00\n",
      "max        75.00                 0.00\n",
      "GFR \n",
      "        GFR_VALUE  TIME_DIFF_GFR_INDEX\n",
      "count     251.00               251.00\n",
      "mean       55.61                -6.77\n",
      "std         9.45                36.75\n",
      "min        15.00              -347.00\n",
      "25%        57.50                 0.00\n",
      "50%        60.00                 0.00\n",
      "75%        60.00                 0.00\n",
      "max        60.00                 0.00\n",
      "HB \n",
      "        HB_VALUE  TIME_DIFF_HB_INDEX\n",
      "count    262.00              262.00\n",
      "mean      13.65             -104.94\n",
      "std        1.62              471.01\n",
      "min        8.60            -3434.00\n",
      "25%       12.62                0.00\n",
      "50%       13.80                0.00\n",
      "75%       14.78                0.00\n",
      "max       17.70                0.00\n",
      "HBA1C \n",
      "        HBA1C_VALUE  TIME_DIFF_HBA1C_INDEX\n",
      "count       185.00                 185.00\n",
      "mean          6.55                 548.56\n",
      "std           1.30                 461.10\n",
      "min           4.40                   0.00\n",
      "25%           5.70                   1.00\n",
      "50%           6.20                 681.00\n",
      "75%           7.10                1012.00\n",
      "max          13.00                1094.00\n",
      "HCT \n",
      "        HCT_VALUE  TIME_DIFF_HCT_INDEX\n",
      "count     251.00               251.00\n",
      "mean       40.02               -13.08\n",
      "std         4.43                74.40\n",
      "min        26.00              -957.00\n",
      "25%        37.00                 0.00\n",
      "50%        40.00                 0.00\n",
      "75%        43.00                 0.00\n",
      "max        51.00                 0.00\n",
      "HDL \n",
      "        HDL_VALUE  TIME_DIFF_HDL_INDEX\n",
      "count     158.00               158.00\n",
      "mean       51.30              -190.15\n",
      "std        15.85               260.53\n",
      "min        22.00             -1048.00\n",
      "25%        41.00              -280.00\n",
      "50%        48.00               -75.50\n",
      "75%        58.00                 0.00\n",
      "max       100.00                 0.00\n",
      "LDL \n",
      "        LDL_VALUE  TIME_DIFF_LDL_INDEX\n",
      "count     157.00               157.00\n",
      "mean      107.00              -173.75\n",
      "std        42.73               244.54\n",
      "min        27.00             -1091.00\n",
      "25%        81.00              -231.00\n",
      "50%        98.00               -72.00\n",
      "75%       122.00                 0.00\n",
      "max       400.00                 0.00\n",
      "PLT \n",
      "        PLT_VALUE  TIME_DIFF_PLT_INDEX\n",
      "count     251.00               251.00\n",
      "mean      228.20               -13.10\n",
      "std        69.73                74.42\n",
      "min        39.00              -957.00\n",
      "25%       184.00                 0.00\n",
      "50%       222.00                 0.00\n",
      "75%       265.50                 0.00\n",
      "max       554.00                 0.00\n",
      "WBC \n",
      "        WBC_VALUE  TIME_DIFF_WBC_INDEX\n",
      "count     251.00               251.00\n",
      "mean        8.40               -13.10\n",
      "std         3.04                74.42\n",
      "min         3.12              -957.00\n",
      "25%         6.45                 0.00\n",
      "50%         7.81                 0.00\n",
      "75%         9.50                 0.00\n",
      "max        23.33                 0.00\n"
     ]
    }
   ],
   "source": [
    "Lab_data_BMI_other= Lab_data_BMI_other.sort_values(by=['TIME_DIFF_BMI_INDEX'],ascending=False).drop_duplicates(subset=['PT_ID'])\n",
    "print('BMI \\n',Lab_data_BMI_other.describe())\n",
    "Lab_data_CRP_other = Lab_data_CRP_other.sort_values(by=['TIME_DIFF_CRP_INDEX'],ascending=False).drop_duplicates(subset=['PT_ID'])\n",
    "print('CRP \\n',Lab_data_CRP_other.describe())\n",
    "Lab_data_ESR_other = Lab_data_ESR_other.sort_values(by=['TIME_DIFF_ESR_INDEX'],ascending=False).drop_duplicates(subset=['PT_ID'])\n",
    "print('ESR \\n',Lab_data_ESR_other.describe())\n",
    "Lab_data_GFR_other = Lab_data_GFR_other.sort_values(by=['TIME_DIFF_GFR_INDEX'],ascending=False).drop_duplicates(subset=['PT_ID'])\n",
    "print('GFR \\n',Lab_data_GFR_other.describe())\n",
    "Lab_data_HB_other = Lab_data_HB_other.sort_values(by=['TIME_DIFF_HB_INDEX'],ascending=False).drop_duplicates(subset=['PT_ID'])\n",
    "print('HB \\n',Lab_data_HB_other.describe())\n",
    "Lab_data_HBA1C_other = Lab_data_HBA1C_other.sort_values(by=['TIME_DIFF_HBA1C_INDEX'],ascending=False).drop_duplicates(subset=['PT_ID'])\n",
    "print('HBA1C \\n',Lab_data_HBA1C_other.describe())\n",
    "Lab_data_HCT_other = Lab_data_HCT_other.sort_values(by=['TIME_DIFF_HCT_INDEX'],ascending=False).drop_duplicates(subset=['PT_ID'])\n",
    "print('HCT \\n',Lab_data_HCT_other.describe())\n",
    "Lab_data_HDL_other = Lab_data_HDL_other.sort_values(by=['TIME_DIFF_HDL_INDEX'],ascending=False).drop_duplicates(subset=['PT_ID'])\n",
    "print('HDL \\n',Lab_data_HDL_other.describe())\n",
    "Lab_data_LDL_other =Lab_data_LDL_other.sort_values(by=['TIME_DIFF_LDL_INDEX'],ascending=False).drop_duplicates(subset=['PT_ID'])\n",
    "print('LDL \\n',Lab_data_LDL_other.describe())\n",
    "Lab_data_PLT_other = Lab_data_PLT_other.sort_values(by=['TIME_DIFF_PLT_INDEX'],ascending=False).drop_duplicates(subset=['PT_ID'])\n",
    "print('PLT \\n',Lab_data_PLT_other.describe())\n",
    "Lab_data_WBC_other= Lab_data_WBC_other.sort_values(by=['TIME_DIFF_WBC_INDEX'],ascending=False).drop_duplicates(subset=['PT_ID'])\n",
    "print('WBC \\n',Lab_data_WBC_other.describe())"
   ]
  },
  {
   "cell_type": "markdown",
   "metadata": {},
   "source": [
    "# $\\color{RED}{\\text{Patients having no Afib at all}}$"
   ]
  },
  {
   "cell_type": "code",
   "execution_count": 31,
   "metadata": {},
   "outputs": [
    {
     "name": "stdout",
     "output_type": "stream",
     "text": [
      "BMI  5469\n",
      "CRP  610\n",
      "ESR  1323\n",
      "GFR  5626\n",
      "HB  5835\n",
      "HBA1C  4928\n",
      "HCT  5736\n",
      "HDL  3365\n",
      "LDL  3418\n",
      "PLT  5737\n",
      "WBC  5733\n"
     ]
    }
   ],
   "source": [
    "Lab_data_BMI_non_afib = Lab_data_BMI_refined[Lab_data_BMI_refined['PT_ID'].isin(geisinger_non_afib_panda['PT_ID'])]\n",
    "print('BMI ',Lab_data_BMI_non_afib['PT_ID'].nunique())\n",
    "Lab_data_CRP_non_afib = Lab_data_CRP_refined[Lab_data_CRP_refined['PT_ID'].isin(geisinger_non_afib_panda['PT_ID'])]\n",
    "print('CRP ',Lab_data_CRP_non_afib['PT_ID'].nunique())\n",
    "Lab_data_ESR_non_afib = Lab_data_ESR_refined[Lab_data_ESR_refined['PT_ID'].isin(geisinger_non_afib_panda['PT_ID'])]\n",
    "print('ESR ',Lab_data_ESR_non_afib['PT_ID'].nunique())\n",
    "Lab_data_GFR_non_afib= Lab_data_GFR_refined[Lab_data_GFR_refined['PT_ID'].isin(geisinger_non_afib_panda['PT_ID'])]\n",
    "print('GFR ',Lab_data_GFR_non_afib['PT_ID'].nunique())\n",
    "Lab_data_HB_non_afib = Lab_data_HB_refined[Lab_data_HB_refined['PT_ID'].isin(geisinger_non_afib_panda['PT_ID'])]\n",
    "print('HB ',Lab_data_HB_non_afib['PT_ID'].nunique())\n",
    "Lab_data_HBA1C_non_afib = Lab_data_HBA1C_refined[Lab_data_HBA1C_refined['PT_ID'].isin(geisinger_non_afib_panda['PT_ID'])]\n",
    "print('HBA1C ',Lab_data_HBA1C_non_afib['PT_ID'].nunique())\n",
    "Lab_data_HCT_non_afib = Lab_data_HCT_refined[Lab_data_HCT_refined['PT_ID'].isin(geisinger_non_afib_panda['PT_ID'])]\n",
    "print('HCT ',Lab_data_HCT_non_afib['PT_ID'].nunique())\n",
    "Lab_data_HDL_non_afib = Lab_data_HDL_refined[Lab_data_HDL_refined['PT_ID'].isin(geisinger_non_afib_panda['PT_ID'])]\n",
    "print('HDL ',Lab_data_HDL_non_afib['PT_ID'].nunique())\n",
    "Lab_data_LDL_non_afib = Lab_data_LDL_refined[Lab_data_LDL_refined['PT_ID'].isin(geisinger_non_afib_panda['PT_ID'])]\n",
    "print('LDL ',Lab_data_LDL_non_afib['PT_ID'].nunique())\n",
    "Lab_data_PLT_non_afib = Lab_data_PLT_refined[Lab_data_PLT_refined['PT_ID'].isin(geisinger_non_afib_panda['PT_ID'])]\n",
    "print('PLT ',Lab_data_PLT_non_afib['PT_ID'].nunique())\n",
    "Lab_data_WBC_non_afib = Lab_data_WBC_refined[Lab_data_WBC_refined['PT_ID'].isin(geisinger_non_afib_panda['PT_ID'])]\n",
    "print('WBC ',Lab_data_WBC_non_afib['PT_ID'].nunique())"
   ]
  },
  {
   "cell_type": "code",
   "execution_count": 32,
   "metadata": {},
   "outputs": [
    {
     "name": "stdout",
     "output_type": "stream",
     "text": [
      "BMI \n",
      "        BMI_VALUE  TIME_DIFF_BMI_INDEX\n",
      "count    5469.00              5469.00\n",
      "mean       29.25               -24.15\n",
      "std         6.71               108.58\n",
      "min        15.00             -1084.00\n",
      "25%        24.70                 0.00\n",
      "50%        28.30                 0.00\n",
      "75%        32.80                 0.00\n",
      "max        85.40                 0.00\n",
      "CRP \n",
      "        CRP_VALUE  TIME_DIFF_CRP_INDEX\n",
      "count     610.00               610.00\n",
      "mean       26.64              -260.36\n",
      "std        54.13               325.73\n",
      "min         0.00             -1091.00\n",
      "25%         2.00              -490.25\n",
      "50%         5.00               -94.50\n",
      "75%        20.86                 0.00\n",
      "max       413.00                 0.00\n",
      "ESR \n",
      "        ESR_VALUE  TIME_DIFF_ESR_INDEX\n",
      "count    1323.00              1323.00\n",
      "mean       28.60              -237.21\n",
      "std        26.15               318.42\n",
      "min         0.00             -1088.00\n",
      "25%        10.00              -440.00\n",
      "50%        20.00               -43.00\n",
      "75%        38.00                 0.00\n",
      "max       141.00                 0.00\n",
      "GFR \n",
      "        GFR_VALUE  TIME_DIFF_GFR_INDEX\n",
      "count    5626.00              5626.00\n",
      "mean       54.84               -14.98\n",
      "std        10.87                84.90\n",
      "min        15.00             -1067.00\n",
      "25%        56.60                 0.00\n",
      "50%        60.00                 0.00\n",
      "75%        60.00                 0.00\n",
      "max        60.00                 0.00\n",
      "HB \n",
      "        HB_VALUE  TIME_DIFF_HB_INDEX\n",
      "count   5835.00             5835.00\n",
      "mean      13.77              -50.29\n",
      "std        1.95              371.45\n",
      "min        5.20            -7360.00\n",
      "25%       12.60                0.00\n",
      "50%       13.90                0.00\n",
      "75%       15.00                0.00\n",
      "max       20.00                0.00\n",
      "HBA1C \n",
      "        HBA1C_VALUE  TIME_DIFF_HBA1C_INDEX\n",
      "count      4928.00                4928.00\n",
      "mean          6.36                 236.46\n",
      "std           1.51                 362.85\n",
      "min           3.90                   0.00\n",
      "25%           5.40                   1.00\n",
      "50%           5.80                   1.00\n",
      "75%           6.80                 417.25\n",
      "max          13.00                1094.00\n",
      "HCT \n",
      "        HCT_VALUE  TIME_DIFF_HCT_INDEX\n",
      "count    5736.00              5736.00\n",
      "mean       40.69                -9.84\n",
      "std         5.16                72.44\n",
      "min        25.00             -1057.00\n",
      "25%        38.00                 0.00\n",
      "50%        41.00                 0.00\n",
      "75%        44.00                 0.00\n",
      "max        62.00                 0.00\n",
      "HDL \n",
      "        HDL_VALUE  TIME_DIFF_HDL_INDEX\n",
      "count    3365.00              3365.00\n",
      "mean       47.86              -181.67\n",
      "std        14.83               261.20\n",
      "min         6.00             -1094.00\n",
      "25%        37.00              -263.00\n",
      "50%        45.00               -59.00\n",
      "75%        56.00                 0.00\n",
      "max       100.00                 0.00\n",
      "LDL \n",
      "        LDL_VALUE  TIME_DIFF_LDL_INDEX\n",
      "count    3418.00              3418.00\n",
      "mean      106.30              -175.48\n",
      "std        41.16               251.22\n",
      "min         1.00             -1094.00\n",
      "25%        76.00              -251.00\n",
      "50%       102.00               -61.50\n",
      "75%       130.00                 0.00\n",
      "max       471.00                 0.00\n",
      "PLT \n",
      "        PLT_VALUE  TIME_DIFF_PLT_INDEX\n",
      "count    5737.00              5737.00\n",
      "mean      236.25                -9.59\n",
      "std        82.86                71.88\n",
      "min         4.00             -1057.00\n",
      "25%       185.00                 0.00\n",
      "50%       226.00                 0.00\n",
      "75%       274.00                 0.00\n",
      "max      1000.00                 0.00\n",
      "WBC \n",
      "        WBC_VALUE  TIME_DIFF_WBC_INDEX\n",
      "count    5733.00              5733.00\n",
      "mean        9.00               -10.24\n",
      "std         3.27                74.11\n",
      "min         0.36             -1057.00\n",
      "25%         6.80                 0.00\n",
      "50%         8.43                 0.00\n",
      "75%        10.48                 0.00\n",
      "max        24.87                 0.00\n"
     ]
    }
   ],
   "source": [
    "Lab_data_BMI_non_afib= Lab_data_BMI_non_afib.sort_values(by=['TIME_DIFF_BMI_INDEX'],ascending=False).drop_duplicates(subset=['PT_ID'])\n",
    "print('BMI \\n',Lab_data_BMI_non_afib.describe())\n",
    "Lab_data_CRP_non_afib = Lab_data_CRP_non_afib.sort_values(by=['TIME_DIFF_CRP_INDEX'],ascending=False).drop_duplicates(subset=['PT_ID'])\n",
    "print('CRP \\n',Lab_data_CRP_non_afib.describe())\n",
    "Lab_data_ESR_non_afib = Lab_data_ESR_non_afib.sort_values(by=['TIME_DIFF_ESR_INDEX'],ascending=False).drop_duplicates(subset=['PT_ID'])\n",
    "print('ESR \\n',Lab_data_ESR_non_afib.describe())\n",
    "Lab_data_GFR_non_afib = Lab_data_GFR_non_afib.sort_values(by=['TIME_DIFF_GFR_INDEX'],ascending=False).drop_duplicates(subset=['PT_ID'])\n",
    "print('GFR \\n',Lab_data_GFR_non_afib.describe())\n",
    "Lab_data_HB_non_afib = Lab_data_HB_non_afib.sort_values(by=['TIME_DIFF_HB_INDEX'],ascending=False).drop_duplicates(subset=['PT_ID'])\n",
    "print('HB \\n',Lab_data_HB_non_afib.describe())\n",
    "Lab_data_HBA1C_non_afib = Lab_data_HBA1C_non_afib.sort_values(by=['TIME_DIFF_HBA1C_INDEX'],ascending=False).drop_duplicates(subset=['PT_ID'])\n",
    "print('HBA1C \\n',Lab_data_HBA1C_non_afib.describe())\n",
    "Lab_data_HCT_non_afib = Lab_data_HCT_non_afib.sort_values(by=['TIME_DIFF_HCT_INDEX'],ascending=False).drop_duplicates(subset=['PT_ID'])\n",
    "print('HCT \\n',Lab_data_HCT_non_afib.describe())\n",
    "Lab_data_HDL_non_afib = Lab_data_HDL_non_afib.sort_values(by=['TIME_DIFF_HDL_INDEX'],ascending=False).drop_duplicates(subset=['PT_ID'])\n",
    "print('HDL \\n',Lab_data_HDL_non_afib.describe())\n",
    "Lab_data_LDL_non_afib =Lab_data_LDL_non_afib.sort_values(by=['TIME_DIFF_LDL_INDEX'],ascending=False).drop_duplicates(subset=['PT_ID'])\n",
    "print('LDL \\n',Lab_data_LDL_non_afib.describe())\n",
    "Lab_data_PLT_non_afib = Lab_data_PLT_non_afib.sort_values(by=['TIME_DIFF_PLT_INDEX'],ascending=False).drop_duplicates(subset=['PT_ID'])\n",
    "print('PLT \\n',Lab_data_PLT_non_afib.describe())\n",
    "Lab_data_WBC_non_afib= Lab_data_WBC_non_afib.sort_values(by=['TIME_DIFF_WBC_INDEX'],ascending=False).drop_duplicates(subset=['PT_ID'])\n",
    "print('WBC \\n',Lab_data_WBC_non_afib.describe())"
   ]
  },
  {
   "cell_type": "code",
   "execution_count": 33,
   "metadata": {},
   "outputs": [
    {
     "data": {
      "text/plain": [
       "PT_ID                  8003\n",
       "BMI_DT                 6436\n",
       "BMI_VALUE               505\n",
       "TIME_DIFF_BMI_INDEX    1095\n",
       "dtype: int64"
      ]
     },
     "execution_count": 33,
     "metadata": {},
     "output_type": "execute_result"
    }
   ],
   "source": [
    "Lab_data_BMI_refined.nunique()"
   ]
  },
  {
   "cell_type": "markdown",
   "metadata": {},
   "source": [
    "# having at least one follow up within 3 years and no afib"
   ]
  },
  {
   "cell_type": "code",
   "execution_count": 34,
   "metadata": {},
   "outputs": [],
   "source": [
    "data_full_non_afib_patients = pd.read_csv('data_full_non_afib_patients.csv')"
   ]
  },
  {
   "cell_type": "code",
   "execution_count": 35,
   "metadata": {},
   "outputs": [
    {
     "name": "stdout",
     "output_type": "stream",
     "text": [
      "6185\n",
      "5789\n"
     ]
    }
   ],
   "source": [
    "print(data_full_non_afib_patients['PT_ID'].nunique())\n",
    "data_full_non_afib_patients['INDEX_DT'] = pd.to_datetime(data_full_non_afib_patients['INDEX_DT'])\n",
    "data_full_non_afib_patients['ENC_DT'] = pd.to_datetime(data_full_non_afib_patients['ENC_DT'])\n",
    "data_full_non_afib_patients['Difference'] = (data_full_non_afib_patients['ENC_DT'] - data_full_non_afib_patients['INDEX_DT'])\n",
    "data_full_non_afib_patients['Difference_in_years'] = (data_full_non_afib_patients['ENC_DT'] - data_full_non_afib_patients['INDEX_DT'])/np.timedelta64(1,'Y')\n",
    "data_full_non_afib_encounter_after_stroke = data_full_non_afib_patients[data_full_non_afib_patients['Difference_in_years'] > 0]\n",
    "print(data_full_non_afib_encounter_after_stroke['PT_ID'].nunique())"
   ]
  },
  {
   "cell_type": "code",
   "execution_count": 36,
   "metadata": {},
   "outputs": [
    {
     "name": "stdout",
     "output_type": "stream",
     "text": [
      "2190\n"
     ]
    }
   ],
   "source": [
    "data_full_non_afib_patients_no_afib_3_years_follow_up = data_full_non_afib_encounter_after_stroke[data_full_non_afib_encounter_after_stroke['Difference_in_years'] > 3]\n",
    "print(data_full_non_afib_patients_no_afib_3_years_follow_up['PT_ID'].nunique())"
   ]
  },
  {
   "cell_type": "code",
   "execution_count": 37,
   "metadata": {},
   "outputs": [
    {
     "name": "stdout",
     "output_type": "stream",
     "text": [
      "BMI  1918\n",
      "CRP  244\n",
      "ESR  561\n",
      "GFR  1983\n",
      "HB  2048\n",
      "HBA1C  1659\n",
      "HCT  2006\n",
      "HDL  1271\n",
      "LDL  1290\n",
      "PLT  2006\n",
      "WBC  2007\n"
     ]
    }
   ],
   "source": [
    "Lab_data_BMI_non_afib = Lab_data_BMI_refined[Lab_data_BMI_refined['PT_ID'].isin(data_full_non_afib_patients_no_afib_3_years_follow_up['PT_ID'])]\n",
    "print('BMI ',Lab_data_BMI_non_afib['PT_ID'].nunique())\n",
    "Lab_data_CRP_non_afib = Lab_data_CRP_refined[Lab_data_CRP_refined['PT_ID'].isin(data_full_non_afib_patients_no_afib_3_years_follow_up['PT_ID'])]\n",
    "print('CRP ',Lab_data_CRP_non_afib['PT_ID'].nunique())\n",
    "Lab_data_ESR_non_afib = Lab_data_ESR_refined[Lab_data_ESR_refined['PT_ID'].isin(data_full_non_afib_patients_no_afib_3_years_follow_up['PT_ID'])]\n",
    "print('ESR ',Lab_data_ESR_non_afib['PT_ID'].nunique())\n",
    "Lab_data_GFR_non_afib= Lab_data_GFR_refined[Lab_data_GFR_refined['PT_ID'].isin(data_full_non_afib_patients_no_afib_3_years_follow_up['PT_ID'])]\n",
    "print('GFR ',Lab_data_GFR_non_afib['PT_ID'].nunique())\n",
    "Lab_data_HB_non_afib = Lab_data_HB_refined[Lab_data_HB_refined['PT_ID'].isin(data_full_non_afib_patients_no_afib_3_years_follow_up['PT_ID'])]\n",
    "print('HB ',Lab_data_HB_non_afib['PT_ID'].nunique())\n",
    "Lab_data_HBA1C_non_afib = Lab_data_HBA1C_refined[Lab_data_HBA1C_refined['PT_ID'].isin(data_full_non_afib_patients_no_afib_3_years_follow_up['PT_ID'])]\n",
    "print('HBA1C ',Lab_data_HBA1C_non_afib['PT_ID'].nunique())\n",
    "Lab_data_HCT_non_afib = Lab_data_HCT_refined[Lab_data_HCT_refined['PT_ID'].isin(data_full_non_afib_patients_no_afib_3_years_follow_up['PT_ID'])]\n",
    "print('HCT ',Lab_data_HCT_non_afib['PT_ID'].nunique())\n",
    "Lab_data_HDL_non_afib = Lab_data_HDL_refined[Lab_data_HDL_refined['PT_ID'].isin(data_full_non_afib_patients_no_afib_3_years_follow_up['PT_ID'])]\n",
    "print('HDL ',Lab_data_HDL_non_afib['PT_ID'].nunique())\n",
    "Lab_data_LDL_non_afib = Lab_data_LDL_refined[Lab_data_LDL_refined['PT_ID'].isin(data_full_non_afib_patients_no_afib_3_years_follow_up['PT_ID'])]\n",
    "print('LDL ',Lab_data_LDL_non_afib['PT_ID'].nunique())\n",
    "Lab_data_PLT_non_afib = Lab_data_PLT_refined[Lab_data_PLT_refined['PT_ID'].isin(data_full_non_afib_patients_no_afib_3_years_follow_up['PT_ID'])]\n",
    "print('PLT ',Lab_data_PLT_non_afib['PT_ID'].nunique())\n",
    "Lab_data_WBC_non_afib = Lab_data_WBC_refined[Lab_data_WBC_refined['PT_ID'].isin(data_full_non_afib_patients_no_afib_3_years_follow_up['PT_ID'])]\n",
    "print('WBC ',Lab_data_WBC_non_afib['PT_ID'].nunique())"
   ]
  },
  {
   "cell_type": "code",
   "execution_count": 38,
   "metadata": {},
   "outputs": [
    {
     "name": "stdout",
     "output_type": "stream",
     "text": [
      "BMI \n",
      "        BMI_VALUE  TIME_DIFF_BMI_INDEX\n",
      "count    1918.00              1918.00\n",
      "mean       30.03               -32.72\n",
      "std         6.62               121.83\n",
      "min        15.50             -1084.00\n",
      "25%        25.60                 0.00\n",
      "50%        29.00                 0.00\n",
      "75%        33.50                 0.00\n",
      "max        70.20                 0.00\n",
      "CRP \n",
      "        CRP_VALUE  TIME_DIFF_CRP_INDEX\n",
      "count     244.00               244.00\n",
      "mean       23.37              -255.95\n",
      "std        52.31               320.67\n",
      "min         0.19             -1091.00\n",
      "25%         2.00              -449.50\n",
      "50%         4.00               -96.00\n",
      "75%        13.25                 0.00\n",
      "max       413.00                 0.00\n",
      "ESR \n",
      "        ESR_VALUE  TIME_DIFF_ESR_INDEX\n",
      "count     561.00               561.00\n",
      "mean       25.42              -220.91\n",
      "std        24.88               303.92\n",
      "min         0.00             -1085.00\n",
      "25%        10.00              -404.00\n",
      "50%        18.00               -33.00\n",
      "75%        32.00                 0.00\n",
      "max       129.00                 0.00\n",
      "GFR \n",
      "        GFR_VALUE  TIME_DIFF_GFR_INDEX\n",
      "count    1983.00              1983.00\n",
      "mean       56.86               -12.95\n",
      "std         8.07                79.28\n",
      "min        15.00             -1057.00\n",
      "25%        60.00                 0.00\n",
      "50%        60.00                 0.00\n",
      "75%        60.00                 0.00\n",
      "max        60.00                 0.00\n",
      "HB \n",
      "        HB_VALUE  TIME_DIFF_HB_INDEX\n",
      "count   2048.00             2048.00\n",
      "mean      13.98              -66.42\n",
      "std        1.76              408.28\n",
      "min        6.50            -5568.00\n",
      "25%       13.00                0.00\n",
      "50%       14.10                0.00\n",
      "75%       15.10                0.00\n",
      "max       20.00                0.00\n",
      "HBA1C \n",
      "        HBA1C_VALUE  TIME_DIFF_HBA1C_INDEX\n",
      "count      1659.00                1659.00\n",
      "mean          6.36                 433.31\n",
      "std           1.44                 449.79\n",
      "min           3.90                   0.00\n",
      "25%           5.50                   1.00\n",
      "50%           5.90                 248.00\n",
      "75%           6.80                 943.00\n",
      "max          13.00                1094.00\n",
      "HCT \n",
      "        HCT_VALUE  TIME_DIFF_HCT_INDEX\n",
      "count    2006.00              2006.00\n",
      "mean       41.04               -15.05\n",
      "std         4.72                91.74\n",
      "min        25.00             -1057.00\n",
      "25%        38.00                 0.00\n",
      "50%        41.00                 0.00\n",
      "75%        44.00                 0.00\n",
      "max        62.00                 0.00\n",
      "HDL \n",
      "        HDL_VALUE  TIME_DIFF_HDL_INDEX\n",
      "count    1271.00              1271.00\n",
      "mean       48.30              -185.93\n",
      "std        14.68               263.91\n",
      "min        12.00             -1093.00\n",
      "25%        38.00              -265.50\n",
      "50%        46.00               -61.00\n",
      "75%        55.50                 0.00\n",
      "max       100.00                 0.00\n",
      "LDL \n",
      "        LDL_VALUE  TIME_DIFF_LDL_INDEX\n",
      "count    1290.00              1290.00\n",
      "mean      109.82              -178.51\n",
      "std        41.91               253.73\n",
      "min         1.00             -1093.00\n",
      "25%        80.00              -251.00\n",
      "50%       105.00               -63.00\n",
      "75%       132.00                 0.00\n",
      "max       471.00                 0.00\n",
      "PLT \n",
      "        PLT_VALUE  TIME_DIFF_PLT_INDEX\n",
      "count    2006.00              2006.00\n",
      "mean      236.48               -14.51\n",
      "std        77.98                89.25\n",
      "min        16.00             -1057.00\n",
      "25%       185.00                 0.00\n",
      "50%       225.50                 0.00\n",
      "75%       273.00                 0.00\n",
      "max       951.00                 0.00\n",
      "WBC \n",
      "        WBC_VALUE  TIME_DIFF_WBC_INDEX\n",
      "count    2007.00              2007.00\n",
      "mean        8.80               -15.31\n",
      "std         3.18                92.21\n",
      "min         1.00             -1057.00\n",
      "25%         6.71                 0.00\n",
      "50%         8.24                 0.00\n",
      "75%        10.09                 0.00\n",
      "max        24.87                 0.00\n"
     ]
    }
   ],
   "source": [
    "Lab_data_BMI_non_afib= Lab_data_BMI_non_afib.sort_values(by=['TIME_DIFF_BMI_INDEX'],ascending=False).drop_duplicates(subset=['PT_ID'])\n",
    "print('BMI \\n',Lab_data_BMI_non_afib.describe())\n",
    "Lab_data_CRP_non_afib = Lab_data_CRP_non_afib.sort_values(by=['TIME_DIFF_CRP_INDEX'],ascending=False).drop_duplicates(subset=['PT_ID'])\n",
    "print('CRP \\n',Lab_data_CRP_non_afib.describe())\n",
    "Lab_data_ESR_non_afib = Lab_data_ESR_non_afib.sort_values(by=['TIME_DIFF_ESR_INDEX'],ascending=False).drop_duplicates(subset=['PT_ID'])\n",
    "print('ESR \\n',Lab_data_ESR_non_afib.describe())\n",
    "Lab_data_GFR_non_afib = Lab_data_GFR_non_afib.sort_values(by=['TIME_DIFF_GFR_INDEX'],ascending=False).drop_duplicates(subset=['PT_ID'])\n",
    "print('GFR \\n',Lab_data_GFR_non_afib.describe())\n",
    "Lab_data_HB_non_afib = Lab_data_HB_non_afib.sort_values(by=['TIME_DIFF_HB_INDEX'],ascending=False).drop_duplicates(subset=['PT_ID'])\n",
    "print('HB \\n',Lab_data_HB_non_afib.describe())\n",
    "Lab_data_HBA1C_non_afib = Lab_data_HBA1C_non_afib.sort_values(by=['TIME_DIFF_HBA1C_INDEX'],ascending=False).drop_duplicates(subset=['PT_ID'])\n",
    "print('HBA1C \\n',Lab_data_HBA1C_non_afib.describe())\n",
    "Lab_data_HCT_non_afib = Lab_data_HCT_non_afib.sort_values(by=['TIME_DIFF_HCT_INDEX'],ascending=False).drop_duplicates(subset=['PT_ID'])\n",
    "print('HCT \\n',Lab_data_HCT_non_afib.describe())\n",
    "Lab_data_HDL_non_afib = Lab_data_HDL_non_afib.sort_values(by=['TIME_DIFF_HDL_INDEX'],ascending=False).drop_duplicates(subset=['PT_ID'])\n",
    "print('HDL \\n',Lab_data_HDL_non_afib.describe())\n",
    "Lab_data_LDL_non_afib =Lab_data_LDL_non_afib.sort_values(by=['TIME_DIFF_LDL_INDEX'],ascending=False).drop_duplicates(subset=['PT_ID'])\n",
    "print('LDL \\n',Lab_data_LDL_non_afib.describe())\n",
    "Lab_data_PLT_non_afib = Lab_data_PLT_non_afib.sort_values(by=['TIME_DIFF_PLT_INDEX'],ascending=False).drop_duplicates(subset=['PT_ID'])\n",
    "print('PLT \\n',Lab_data_PLT_non_afib.describe())\n",
    "Lab_data_WBC_non_afib= Lab_data_WBC_non_afib.sort_values(by=['TIME_DIFF_WBC_INDEX'],ascending=False).drop_duplicates(subset=['PT_ID'])\n",
    "print('WBC \\n',Lab_data_WBC_non_afib.describe())"
   ]
  },
  {
   "cell_type": "code",
   "execution_count": null,
   "metadata": {},
   "outputs": [],
   "source": []
  },
  {
   "cell_type": "markdown",
   "metadata": {},
   "source": [
    "# having at least one follow up within 5 years and no afib"
   ]
  },
  {
   "cell_type": "code",
   "execution_count": 39,
   "metadata": {},
   "outputs": [
    {
     "name": "stdout",
     "output_type": "stream",
     "text": [
      "1309\n"
     ]
    }
   ],
   "source": [
    "data_full_non_afib_patients_no_afib_5_years_follow_up = data_full_non_afib_encounter_after_stroke[data_full_non_afib_encounter_after_stroke['Difference_in_years'] > 5]\n",
    "print(data_full_non_afib_patients_no_afib_5_years_follow_up['PT_ID'].nunique())"
   ]
  },
  {
   "cell_type": "code",
   "execution_count": 40,
   "metadata": {},
   "outputs": [
    {
     "name": "stdout",
     "output_type": "stream",
     "text": [
      "BMI  1091\n",
      "CRP  144\n",
      "ESR  353\n",
      "GFR  1155\n",
      "HB  1204\n",
      "HBA1C  919\n",
      "HCT  1170\n",
      "HDL  750\n",
      "LDL  759\n",
      "PLT  1169\n",
      "WBC  1170\n"
     ]
    }
   ],
   "source": [
    "Lab_data_BMI_non_afib = Lab_data_BMI_refined[Lab_data_BMI_refined['PT_ID'].isin(data_full_non_afib_patients_no_afib_5_years_follow_up['PT_ID'])]\n",
    "print('BMI ',Lab_data_BMI_non_afib['PT_ID'].nunique())\n",
    "Lab_data_CRP_non_afib = Lab_data_CRP_refined[Lab_data_CRP_refined['PT_ID'].isin(data_full_non_afib_patients_no_afib_5_years_follow_up['PT_ID'])]\n",
    "print('CRP ',Lab_data_CRP_non_afib['PT_ID'].nunique())\n",
    "Lab_data_ESR_non_afib = Lab_data_ESR_refined[Lab_data_ESR_refined['PT_ID'].isin(data_full_non_afib_patients_no_afib_5_years_follow_up['PT_ID'])]\n",
    "print('ESR ',Lab_data_ESR_non_afib['PT_ID'].nunique())\n",
    "Lab_data_GFR_non_afib= Lab_data_GFR_refined[Lab_data_GFR_refined['PT_ID'].isin(data_full_non_afib_patients_no_afib_5_years_follow_up['PT_ID'])]\n",
    "print('GFR ',Lab_data_GFR_non_afib['PT_ID'].nunique())\n",
    "Lab_data_HB_non_afib = Lab_data_HB_refined[Lab_data_HB_refined['PT_ID'].isin(data_full_non_afib_patients_no_afib_5_years_follow_up['PT_ID'])]\n",
    "print('HB ',Lab_data_HB_non_afib['PT_ID'].nunique())\n",
    "Lab_data_HBA1C_non_afib = Lab_data_HBA1C_refined[Lab_data_HBA1C_refined['PT_ID'].isin(data_full_non_afib_patients_no_afib_5_years_follow_up['PT_ID'])]\n",
    "print('HBA1C ',Lab_data_HBA1C_non_afib['PT_ID'].nunique())\n",
    "Lab_data_HCT_non_afib = Lab_data_HCT_refined[Lab_data_HCT_refined['PT_ID'].isin(data_full_non_afib_patients_no_afib_5_years_follow_up['PT_ID'])]\n",
    "print('HCT ',Lab_data_HCT_non_afib['PT_ID'].nunique())\n",
    "Lab_data_HDL_non_afib = Lab_data_HDL_refined[Lab_data_HDL_refined['PT_ID'].isin(data_full_non_afib_patients_no_afib_5_years_follow_up['PT_ID'])]\n",
    "print('HDL ',Lab_data_HDL_non_afib['PT_ID'].nunique())\n",
    "Lab_data_LDL_non_afib = Lab_data_LDL_refined[Lab_data_LDL_refined['PT_ID'].isin(data_full_non_afib_patients_no_afib_5_years_follow_up['PT_ID'])]\n",
    "print('LDL ',Lab_data_LDL_non_afib['PT_ID'].nunique())\n",
    "Lab_data_PLT_non_afib = Lab_data_PLT_refined[Lab_data_PLT_refined['PT_ID'].isin(data_full_non_afib_patients_no_afib_5_years_follow_up['PT_ID'])]\n",
    "print('PLT ',Lab_data_PLT_non_afib['PT_ID'].nunique())\n",
    "Lab_data_WBC_non_afib = Lab_data_WBC_refined[Lab_data_WBC_refined['PT_ID'].isin(data_full_non_afib_patients_no_afib_5_years_follow_up['PT_ID'])]\n",
    "print('WBC ',Lab_data_WBC_non_afib['PT_ID'].nunique())"
   ]
  },
  {
   "cell_type": "code",
   "execution_count": 41,
   "metadata": {},
   "outputs": [
    {
     "name": "stdout",
     "output_type": "stream",
     "text": [
      "BMI \n",
      "        BMI_VALUE  TIME_DIFF_BMI_INDEX\n",
      "count    1091.00              1091.00\n",
      "mean       30.19               -39.45\n",
      "std         6.50               130.74\n",
      "min        15.40             -1084.00\n",
      "25%        25.60                -3.00\n",
      "50%        29.30                 0.00\n",
      "75%        33.70                 0.00\n",
      "max        70.20                 0.00\n",
      "CRP \n",
      "        CRP_VALUE  TIME_DIFF_CRP_INDEX\n",
      "count     144.00               144.00\n",
      "mean       21.41              -259.76\n",
      "std        49.02               332.89\n",
      "min         0.19             -1091.00\n",
      "25%         2.00              -450.50\n",
      "50%         4.00               -79.00\n",
      "75%        14.40                 0.00\n",
      "max       413.00                 0.00\n",
      "ESR \n",
      "        ESR_VALUE  TIME_DIFF_ESR_INDEX\n",
      "count     353.00               353.00\n",
      "mean       23.44              -194.86\n",
      "std        23.25               286.87\n",
      "min         1.00             -1085.00\n",
      "25%         9.00              -346.00\n",
      "50%        16.00                -9.00\n",
      "75%        29.00                 0.00\n",
      "max       129.00                 0.00\n",
      "GFR \n",
      "        GFR_VALUE  TIME_DIFF_GFR_INDEX\n",
      "count    1155.00              1155.00\n",
      "mean       57.23               -14.59\n",
      "std         7.78                87.75\n",
      "min        15.00             -1057.00\n",
      "25%        60.00                 0.00\n",
      "50%        60.00                 0.00\n",
      "75%        60.00                 0.00\n",
      "max        60.00                 0.00\n",
      "HB \n",
      "        HB_VALUE  TIME_DIFF_HB_INDEX\n",
      "count   1204.00             1204.00\n",
      "mean      14.04              -85.40\n",
      "std        1.73              461.44\n",
      "min        6.70            -5128.00\n",
      "25%       13.00                0.00\n",
      "50%       14.10                0.00\n",
      "75%       15.10                0.00\n",
      "max       20.00                0.00\n",
      "HBA1C \n",
      "        HBA1C_VALUE  TIME_DIFF_HBA1C_INDEX\n",
      "count       919.00                 919.00\n",
      "mean          6.36                 445.40\n",
      "std           1.42                 451.92\n",
      "min           3.90                   0.00\n",
      "25%           5.50                   1.00\n",
      "50%           5.90                 291.00\n",
      "75%           6.80                 951.00\n",
      "max          13.00                1094.00\n",
      "HCT \n",
      "        HCT_VALUE  TIME_DIFF_HCT_INDEX\n",
      "count    1170.00              1170.00\n",
      "mean       41.02               -16.03\n",
      "std         4.65                97.06\n",
      "min        26.00             -1057.00\n",
      "25%        38.00                 0.00\n",
      "50%        41.00                 0.00\n",
      "75%        44.00                 0.00\n",
      "max        60.00                 0.00\n",
      "HDL \n",
      "        HDL_VALUE  TIME_DIFF_HDL_INDEX\n",
      "count     750.00               750.00\n",
      "mean       48.25              -171.88\n",
      "std        13.96               265.55\n",
      "min        12.00             -1093.00\n",
      "25%        38.00              -229.00\n",
      "50%        46.00               -41.00\n",
      "75%        55.00                 0.00\n",
      "max       100.00                 0.00\n",
      "LDL \n",
      "        LDL_VALUE  TIME_DIFF_LDL_INDEX\n",
      "count     759.00               759.00\n",
      "mean      110.08              -170.15\n",
      "std        42.29               262.36\n",
      "min        18.00             -1093.00\n",
      "25%        81.00              -228.00\n",
      "50%       107.00               -44.00\n",
      "75%       130.50                 0.00\n",
      "max       471.00                 0.00\n",
      "PLT \n",
      "        PLT_VALUE  TIME_DIFF_PLT_INDEX\n",
      "count    1169.00              1169.00\n",
      "mean      237.78               -15.39\n",
      "std        79.13                93.46\n",
      "min        52.00             -1057.00\n",
      "25%       186.00                 0.00\n",
      "50%       228.00                 0.00\n",
      "75%       275.00                 0.00\n",
      "max       951.00                 0.00\n",
      "WBC \n",
      "        WBC_VALUE  TIME_DIFF_WBC_INDEX\n",
      "count    1170.00              1170.00\n",
      "mean        8.70               -16.55\n",
      "std         3.12                98.13\n",
      "min         1.00             -1057.00\n",
      "25%         6.66                 0.00\n",
      "50%         8.18                 0.00\n",
      "75%         9.94                 0.00\n",
      "max        24.87                 0.00\n"
     ]
    }
   ],
   "source": [
    "Lab_data_BMI_non_afib= Lab_data_BMI_non_afib.sort_values(by=['TIME_DIFF_BMI_INDEX'],ascending=False).drop_duplicates(subset=['PT_ID'])\n",
    "print('BMI \\n',Lab_data_BMI_non_afib.describe())\n",
    "Lab_data_CRP_non_afib = Lab_data_CRP_non_afib.sort_values(by=['TIME_DIFF_CRP_INDEX'],ascending=False).drop_duplicates(subset=['PT_ID'])\n",
    "print('CRP \\n',Lab_data_CRP_non_afib.describe())\n",
    "Lab_data_ESR_non_afib = Lab_data_ESR_non_afib.sort_values(by=['TIME_DIFF_ESR_INDEX'],ascending=False).drop_duplicates(subset=['PT_ID'])\n",
    "print('ESR \\n',Lab_data_ESR_non_afib.describe())\n",
    "Lab_data_GFR_non_afib = Lab_data_GFR_non_afib.sort_values(by=['TIME_DIFF_GFR_INDEX'],ascending=False).drop_duplicates(subset=['PT_ID'])\n",
    "print('GFR \\n',Lab_data_GFR_non_afib.describe())\n",
    "Lab_data_HB_non_afib = Lab_data_HB_non_afib.sort_values(by=['TIME_DIFF_HB_INDEX'],ascending=False).drop_duplicates(subset=['PT_ID'])\n",
    "print('HB \\n',Lab_data_HB_non_afib.describe())\n",
    "Lab_data_HBA1C_non_afib = Lab_data_HBA1C_non_afib.sort_values(by=['TIME_DIFF_HBA1C_INDEX'],ascending=False).drop_duplicates(subset=['PT_ID'])\n",
    "print('HBA1C \\n',Lab_data_HBA1C_non_afib.describe())\n",
    "Lab_data_HCT_non_afib = Lab_data_HCT_non_afib.sort_values(by=['TIME_DIFF_HCT_INDEX'],ascending=False).drop_duplicates(subset=['PT_ID'])\n",
    "print('HCT \\n',Lab_data_HCT_non_afib.describe())\n",
    "Lab_data_HDL_non_afib = Lab_data_HDL_non_afib.sort_values(by=['TIME_DIFF_HDL_INDEX'],ascending=False).drop_duplicates(subset=['PT_ID'])\n",
    "print('HDL \\n',Lab_data_HDL_non_afib.describe())\n",
    "Lab_data_LDL_non_afib =Lab_data_LDL_non_afib.sort_values(by=['TIME_DIFF_LDL_INDEX'],ascending=False).drop_duplicates(subset=['PT_ID'])\n",
    "print('LDL \\n',Lab_data_LDL_non_afib.describe())\n",
    "Lab_data_PLT_non_afib = Lab_data_PLT_non_afib.sort_values(by=['TIME_DIFF_PLT_INDEX'],ascending=False).drop_duplicates(subset=['PT_ID'])\n",
    "print('PLT \\n',Lab_data_PLT_non_afib.describe())\n",
    "Lab_data_WBC_non_afib= Lab_data_WBC_non_afib.sort_values(by=['TIME_DIFF_WBC_INDEX'],ascending=False).drop_duplicates(subset=['PT_ID'])\n",
    "print('WBC \\n',Lab_data_WBC_non_afib.describe())"
   ]
  },
  {
   "cell_type": "raw",
   "metadata": {},
   "source": []
  },
  {
   "cell_type": "code",
   "execution_count": 42,
   "metadata": {},
   "outputs": [
    {
     "data": {
      "text/plain": [
       "<matplotlib.axes._subplots.AxesSubplot at 0x1ea566cfe88>"
      ]
     },
     "execution_count": 42,
     "metadata": {},
     "output_type": "execute_result"
    },
    {
     "data": {
      "image/png": "[encoded data removed]",
      "text/plain": [
       "<Figure size 432x288 with 1 Axes>"
      ]
     },
     "metadata": {
      "needs_background": "light"
     },
     "output_type": "display_data"
    }
   ],
   "source": [
    "Lab_data_BMI_non_afib['BMI_VALUE'].hist(bins=100)"
   ]
  },
  {
   "cell_type": "code",
   "execution_count": 43,
   "metadata": {},
   "outputs": [
    {
     "data": {
      "text/plain": [
       "<matplotlib.axes._subplots.AxesSubplot at 0x1ea5a438e88>"
      ]
     },
     "execution_count": 43,
     "metadata": {},
     "output_type": "execute_result"
    },
    {
     "data": {
      "image/png": "[encoded data removed]",
      "text/plain": [
       "<Figure size 432x288 with 1 Axes>"
      ]
     },
     "metadata": {
      "needs_background": "light"
     },
     "output_type": "display_data"
    }
   ],
   "source": [
    "Lab_data_ESR_non_afib['ESR_VALUE'].hist(bins=100)"
   ]
  },
  {
   "cell_type": "code",
   "execution_count": 44,
   "metadata": {},
   "outputs": [
    {
     "data": {
      "text/plain": [
       "<matplotlib.axes._subplots.AxesSubplot at 0x1ea6a9cb908>"
      ]
     },
     "execution_count": 44,
     "metadata": {},
     "output_type": "execute_result"
    },
    {
     "data": {
      "image/png": "[encoded data removed]",
      "text/plain": [
       "<Figure size 432x288 with 1 Axes>"
      ]
     },
     "metadata": {
      "needs_background": "light"
     },
     "output_type": "display_data"
    }
   ],
   "source": [
    "Lab_data_CRP_non_afib['CRP_VALUE'].hist(bins=100)"
   ]
  },
  {
   "cell_type": "code",
   "execution_count": 45,
   "metadata": {},
   "outputs": [
    {
     "data": {
      "text/plain": [
       "<matplotlib.axes._subplots.AxesSubplot at 0x1ea5f1cd748>"
      ]
     },
     "execution_count": 45,
     "metadata": {},
     "output_type": "execute_result"
    },
    {
     "data": {
      "image/png": "[encoded data removed]",
      "text/plain": [
       "<Figure size 432x288 with 1 Axes>"
      ]
     },
     "metadata": {
      "needs_background": "light"
     },
     "output_type": "display_data"
    }
   ],
   "source": [
    "Lab_data_GFR_non_afib['GFR_VALUE'].hist(bins=100)"
   ]
  },
  {
   "cell_type": "code",
   "execution_count": 46,
   "metadata": {},
   "outputs": [
    {
     "data": {
      "text/plain": [
       "<matplotlib.axes._subplots.AxesSubplot at 0x1ea67cfe408>"
      ]
     },
     "execution_count": 46,
     "metadata": {},
     "output_type": "execute_result"
    },
    {
     "data": {
      "image/png": "[encoded data removed]",
      "text/plain": [
       "<Figure size 432x288 with 1 Axes>"
      ]
     },
     "metadata": {
      "needs_background": "light"
     },
     "output_type": "display_data"
    }
   ],
   "source": [
    "Lab_data_HB_non_afib['HB_VALUE'].hist(bins=100)"
   ]
  },
  {
   "cell_type": "code",
   "execution_count": 47,
   "metadata": {},
   "outputs": [
    {
     "data": {
      "text/plain": [
       "<matplotlib.axes._subplots.AxesSubplot at 0x1ea67d4f248>"
      ]
     },
     "execution_count": 47,
     "metadata": {},
     "output_type": "execute_result"
    },
    {
     "data": {
      "image/png": "[encoded data removed]",
      "text/plain": [
       "<Figure size 432x288 with 1 Axes>"
      ]
     },
     "metadata": {
      "needs_background": "light"
     },
     "output_type": "display_data"
    }
   ],
   "source": [
    "Lab_data_HBA1C_non_afib['HBA1C_VALUE'].hist(bins=100)"
   ]
  },
  {
   "cell_type": "code",
   "execution_count": 48,
   "metadata": {},
   "outputs": [
    {
     "data": {
      "text/plain": [
       "<matplotlib.axes._subplots.AxesSubplot at 0x1ea6a829f88>"
      ]
     },
     "execution_count": 48,
     "metadata": {},
     "output_type": "execute_result"
    },
    {
     "data": {
      "image/png": "[encoded data removed]",
      "text/plain": [
       "<Figure size 432x288 with 1 Axes>"
      ]
     },
     "metadata": {
      "needs_background": "light"
     },
     "output_type": "display_data"
    }
   ],
   "source": [
    "Lab_data_HCT_non_afib['HCT_VALUE'].hist(bins=100)"
   ]
  },
  {
   "cell_type": "code",
   "execution_count": 49,
   "metadata": {},
   "outputs": [
    {
     "data": {
      "text/plain": [
       "<matplotlib.axes._subplots.AxesSubplot at 0x1ea6a9fb788>"
      ]
     },
     "execution_count": 49,
     "metadata": {},
     "output_type": "execute_result"
    },
    {
     "data": {
      "image/png": "[encoded data removed]",
      "text/plain": [
       "<Figure size 432x288 with 1 Axes>"
      ]
     },
     "metadata": {
      "needs_background": "light"
     },
     "output_type": "display_data"
    }
   ],
   "source": [
    "Lab_data_HDL_non_afib['HDL_VALUE'].hist(bins=100)"
   ]
  },
  {
   "cell_type": "code",
   "execution_count": 50,
   "metadata": {},
   "outputs": [
    {
     "data": {
      "text/plain": [
       "<matplotlib.axes._subplots.AxesSubplot at 0x1ea6aa2b888>"
      ]
     },
     "execution_count": 50,
     "metadata": {},
     "output_type": "execute_result"
    },
    {
     "data": {
      "image/png": "[encoded data removed]",
      "text/plain": [
       "<Figure size 432x288 with 1 Axes>"
      ]
     },
     "metadata": {
      "needs_background": "light"
     },
     "output_type": "display_data"
    }
   ],
   "source": [
    "Lab_data_LDL_non_afib['LDL_VALUE'].hist(bins=100)"
   ]
  },
  {
   "cell_type": "code",
   "execution_count": 51,
   "metadata": {},
   "outputs": [
    {
     "data": {
      "text/plain": [
       "<matplotlib.axes._subplots.AxesSubplot at 0x1ea6ad5d408>"
      ]
     },
     "execution_count": 51,
     "metadata": {},
     "output_type": "execute_result"
    },
    {
     "data": {
      "image/png": "[encoded data removed]",
      "text/plain": [
       "<Figure size 432x288 with 1 Axes>"
      ]
     },
     "metadata": {
      "needs_background": "light"
     },
     "output_type": "display_data"
    }
   ],
   "source": [
    "Lab_data_PLT_non_afib['PLT_VALUE'].hist(bins=100)"
   ]
  },
  {
   "cell_type": "code",
   "execution_count": 52,
   "metadata": {},
   "outputs": [
    {
     "data": {
      "text/plain": [
       "<matplotlib.axes._subplots.AxesSubplot at 0x1ea6abd9308>"
      ]
     },
     "execution_count": 52,
     "metadata": {},
     "output_type": "execute_result"
    },
    {
     "data": {
      "image/png": "[encoded data removed]",
      "text/plain": [
       "<Figure size 432x288 with 1 Axes>"
      ]
     },
     "metadata": {
      "needs_background": "light"
     },
     "output_type": "display_data"
    }
   ],
   "source": [
    "Lab_data_WBC_non_afib['WBC_VALUE'].hist(bins=100)"
   ]
  },
  {
   "cell_type": "code",
   "execution_count": 53,
   "metadata": {},
   "outputs": [
    {
     "name": "stdout",
     "output_type": "stream",
     "text": [
      "PT_ID                  11042\n",
      "BMI_DT                 11042\n",
      "BMI_VALUE              11042\n",
      "TIME_DIFF_BMI_INDEX    11042\n",
      "dtype: int64\n",
      "PT_ID                  11042\n",
      "BMI_DT                 11042\n",
      "BMI_VALUE              11042\n",
      "TIME_DIFF_BMI_INDEX    11042\n",
      "diff                   11042\n",
      "cumsum                 11042\n",
      "dtype: int64\n"
     ]
    }
   ],
   "source": [
    "test = Lab_data_BMI_refined[Lab_data_BMI_refined['PT_ID'].isin(data_full_non_afib_patients_no_afib_5_years_follow_up['PT_ID'])].copy()\n",
    "print(test.count())\n",
    "testp= test.groupby('PT_ID',as_index=False)['TIME_DIFF_BMI_INDEX'].apply(lambda x: x.sort_values())\n",
    "test['TIME_DIFF_BMI_INDEX'] = testp.reset_index(level=0, drop=True)\n",
    "test['diff'] = test.groupby('PT_ID')['TIME_DIFF_BMI_INDEX'].diff()\n",
    "test['diff'] = test['diff'].fillna(0)\n",
    "test['cumsum'] = test.groupby('PT_ID')['diff'].cumsum()\n",
    "#test['diff'] = test['diff'].fillna(0)\n",
    "print(test.count())"
   ]
  },
  {
   "cell_type": "code",
   "execution_count": 54,
   "metadata": {},
   "outputs": [
    {
     "data": {
      "text/html": [
       "<div>\n",
       "<style scoped>\n",
       "    .dataframe tbody tr th:only-of-type {\n",
       "        vertical-align: middle;\n",
       "    }\n",
       "\n",
       "    .dataframe tbody tr th {\n",
       "        vertical-align: top;\n",
       "    }\n",
       "\n",
       "    .dataframe thead th {\n",
       "        text-align: right;\n",
       "    }\n",
       "</style>\n",
       "<table border=\"1\" class=\"dataframe\">\n",
       "  <thead>\n",
       "    <tr style=\"text-align: right;\">\n",
       "      <th></th>\n",
       "      <th>PT_ID</th>\n",
       "      <th>BMI_DT</th>\n",
       "      <th>BMI_VALUE</th>\n",
       "      <th>TIME_DIFF_BMI_INDEX</th>\n",
       "      <th>diff</th>\n",
       "      <th>cumsum</th>\n",
       "    </tr>\n",
       "  </thead>\n",
       "  <tbody>\n",
       "    <tr>\n",
       "      <th>499</th>\n",
       "      <td>PT1039739</td>\n",
       "      <td>2009-10-31</td>\n",
       "      <td>28.20</td>\n",
       "      <td>-1082.00</td>\n",
       "      <td>0.00</td>\n",
       "      <td>0.00</td>\n",
       "    </tr>\n",
       "    <tr>\n",
       "      <th>500</th>\n",
       "      <td>PT1039739</td>\n",
       "      <td>2010-01-29</td>\n",
       "      <td>28.20</td>\n",
       "      <td>-992.00</td>\n",
       "      <td>90.00</td>\n",
       "      <td>90.00</td>\n",
       "    </tr>\n",
       "    <tr>\n",
       "      <th>501</th>\n",
       "      <td>PT1039739</td>\n",
       "      <td>2010-06-13</td>\n",
       "      <td>28.20</td>\n",
       "      <td>-857.00</td>\n",
       "      <td>135.00</td>\n",
       "      <td>225.00</td>\n",
       "    </tr>\n",
       "    <tr>\n",
       "      <th>502</th>\n",
       "      <td>PT1039739</td>\n",
       "      <td>2011-03-24</td>\n",
       "      <td>29.30</td>\n",
       "      <td>-573.00</td>\n",
       "      <td>284.00</td>\n",
       "      <td>509.00</td>\n",
       "    </tr>\n",
       "    <tr>\n",
       "      <th>503</th>\n",
       "      <td>PT1039739</td>\n",
       "      <td>2011-04-21</td>\n",
       "      <td>28.60</td>\n",
       "      <td>-545.00</td>\n",
       "      <td>28.00</td>\n",
       "      <td>537.00</td>\n",
       "    </tr>\n",
       "    <tr>\n",
       "      <th>...</th>\n",
       "      <td>...</td>\n",
       "      <td>...</td>\n",
       "      <td>...</td>\n",
       "      <td>...</td>\n",
       "      <td>...</td>\n",
       "      <td>...</td>\n",
       "    </tr>\n",
       "    <tr>\n",
       "      <th>409481</th>\n",
       "      <td>PT99593</td>\n",
       "      <td>2011-05-27</td>\n",
       "      <td>28.90</td>\n",
       "      <td>-364.00</td>\n",
       "      <td>1.00</td>\n",
       "      <td>1.00</td>\n",
       "    </tr>\n",
       "    <tr>\n",
       "      <th>409482</th>\n",
       "      <td>PT99593</td>\n",
       "      <td>2011-06-23</td>\n",
       "      <td>27.10</td>\n",
       "      <td>-337.00</td>\n",
       "      <td>27.00</td>\n",
       "      <td>28.00</td>\n",
       "    </tr>\n",
       "    <tr>\n",
       "      <th>409483</th>\n",
       "      <td>PT99593</td>\n",
       "      <td>2012-05-25</td>\n",
       "      <td>27.40</td>\n",
       "      <td>0.00</td>\n",
       "      <td>337.00</td>\n",
       "      <td>365.00</td>\n",
       "    </tr>\n",
       "    <tr>\n",
       "      <th>410272</th>\n",
       "      <td>PT99827</td>\n",
       "      <td>2007-03-01</td>\n",
       "      <td>41.70</td>\n",
       "      <td>-739.00</td>\n",
       "      <td>0.00</td>\n",
       "      <td>0.00</td>\n",
       "    </tr>\n",
       "    <tr>\n",
       "      <th>410273</th>\n",
       "      <td>PT99827</td>\n",
       "      <td>2009-03-09</td>\n",
       "      <td>39.70</td>\n",
       "      <td>0.00</td>\n",
       "      <td>739.00</td>\n",
       "      <td>739.00</td>\n",
       "    </tr>\n",
       "  </tbody>\n",
       "</table>\n",
       "<p>11042 rows × 6 columns</p>\n",
       "</div>"
      ],
      "text/plain": [
       "            PT_ID     BMI_DT  BMI_VALUE  TIME_DIFF_BMI_INDEX   diff  cumsum\n",
       "499     PT1039739 2009-10-31      28.20             -1082.00   0.00    0.00\n",
       "500     PT1039739 2010-01-29      28.20              -992.00  90.00   90.00\n",
       "501     PT1039739 2010-06-13      28.20              -857.00 135.00  225.00\n",
       "502     PT1039739 2011-03-24      29.30              -573.00 284.00  509.00\n",
       "503     PT1039739 2011-04-21      28.60              -545.00  28.00  537.00\n",
       "...           ...        ...        ...                  ...    ...     ...\n",
       "409481    PT99593 2011-05-27      28.90              -364.00   1.00    1.00\n",
       "409482    PT99593 2011-06-23      27.10              -337.00  27.00   28.00\n",
       "409483    PT99593 2012-05-25      27.40                 0.00 337.00  365.00\n",
       "410272    PT99827 2007-03-01      41.70              -739.00   0.00    0.00\n",
       "410273    PT99827 2009-03-09      39.70                 0.00 739.00  739.00\n",
       "\n",
       "[11042 rows x 6 columns]"
      ]
     },
     "execution_count": 54,
     "metadata": {},
     "output_type": "execute_result"
    }
   ],
   "source": [
    "test"
   ]
  },
  {
   "cell_type": "code",
   "execution_count": null,
   "metadata": {},
   "outputs": [],
   "source": []
  }
 ],
 "metadata": {
  "kernelspec": {
   "display_name": "Python 3",
   "language": "python",
   "name": "python3"
  },
  "language_info": {
   "codemirror_mode": {
    "name": "ipython",
    "version": 3
   },
   "file_extension": ".py",
   "mimetype": "text/x-python",
   "name": "python",
   "nbconvert_exporter": "python",
   "pygments_lexer": "ipython3",
   "version": "3.7.7"
  }
 },
 "nbformat": 4,
 "nbformat_minor": 4
}
